{
 "cells": [
  {
   "cell_type": "markdown",
   "id": "7569b5d6-8e39-42f4-bb36-9217edd5c42d",
   "metadata": {},
   "source": [
    "# Data Types\n",
    "## String\n",
    "- Print Function"
   ]
  },
  {
   "cell_type": "code",
   "execution_count": 3,
   "id": "16e84704-f4f8-4602-b0b0-399b9ac5b500",
   "metadata": {
    "tags": []
   },
   "outputs": [
    {
     "name": "stdout",
     "output_type": "stream",
     "text": [
      "Hallo World!\n"
     ]
    }
   ],
   "source": [
    "print(\"Hallo World!\")"
   ]
  },
  {
   "cell_type": "markdown",
   "id": "928cc475-4ea8-4ecd-8a71-d078ea173af2",
   "metadata": {},
   "source": [
    "- *Printing in multiple lines*"
   ]
  },
  {
   "cell_type": "code",
   "execution_count": 2,
   "id": "9d65e416-8be6-492d-ba07-20021623f15c",
   "metadata": {
    "tags": []
   },
   "outputs": [
    {
     "name": "stdout",
     "output_type": "stream",
     "text": [
      "1. Mix 500g o Flour, 10g Yeast and 300ml Water in a bowl.\n",
      "2. Knead the dough for 10 minuts.\n",
      "3. Add 3g of Salat.\n",
      "4. Leave to rise for 2 hours.\n",
      "5. Bake at 200 degrees C for 30 minutes.\n"
     ]
    }
   ],
   "source": [
    "print(\"1. Mix 500g o Flour, 10g Yeast and 300ml Water in a bowl.\")\n",
    "print(\"2. Knead the dough for 10 minuts.\")\n",
    "print(\"3. Add 3g of Salat.\")\n",
    "print(\"4. Leave to rise for 2 hours.\")\n",
    "print(\"5. Bake at 200 degrees C for 30 minutes.\")"
   ]
  },
  {
   "cell_type": "markdown",
   "id": "3e202528-3649-47b3-bc73-19838c569f2f",
   "metadata": {},
   "source": [
    " - _Printing in Single line_"
   ]
  },
  {
   "cell_type": "code",
   "execution_count": 3,
   "id": "57f552f6-7a1c-4bab-89f7-b4f3e65f8178",
   "metadata": {
    "tags": []
   },
   "outputs": [
    {
     "name": "stdout",
     "output_type": "stream",
     "text": [
      "1. Mix 500g o Flour, 10g Yeast and 300ml Water in a bowl.\n",
      "2. Knead the dough for 10 minuts.\n",
      "3. Add 3g of Salat.\n",
      "4. Leave to rise for 2 hours.\n",
      "5. Bake at 200 degrees C for 30 minutes.\n"
     ]
    }
   ],
   "source": [
    "print(\"1. Mix 500g o Flour, 10g Yeast and 300ml Water in a bowl.\\n2. Knead the dough for 10 minuts.\\n3. Add 3g of Salat.\\n4. Leave to rise for 2 hours.\\n5. Bake at 200 degrees C for 30 minutes.\")"
   ]
  },
  {
   "cell_type": "markdown",
   "id": "c6ce86b2-a02d-4421-a0e0-59e3e63c982b",
   "metadata": {},
   "source": [
    "- _Add a space between the Strings_"
   ]
  },
  {
   "cell_type": "code",
   "execution_count": 4,
   "id": "cfa1a924-1b57-4faf-82c6-274963500c4f",
   "metadata": {
    "tags": []
   },
   "outputs": [
    {
     "name": "stdout",
     "output_type": "stream",
     "text": [
      "Hello Shareek\n"
     ]
    }
   ],
   "source": [
    "print(\"Hello\" + \" \" +\"Shareek\")"
   ]
  },
  {
   "cell_type": "markdown",
   "id": "c045d956-bbad-4a53-9495-d8004cef1c97",
   "metadata": {},
   "source": [
    "- input Function"
   ]
  },
  {
   "cell_type": "code",
   "execution_count": 5,
   "id": "232dd2f1-385e-4e2b-9d84-f4bb3e051a93",
   "metadata": {
    "tags": []
   },
   "outputs": [
    {
     "name": "stdin",
     "output_type": "stream",
     "text": [
      "What is your Name? Shareek\n"
     ]
    },
    {
     "data": {
      "text/plain": [
       "'Shareek'"
      ]
     },
     "execution_count": 5,
     "metadata": {},
     "output_type": "execute_result"
    }
   ],
   "source": [
    "input(\"What is your Name?\")"
   ]
  },
  {
   "cell_type": "code",
   "execution_count": 6,
   "id": "d22a955e-fbb8-4889-8dae-d5749b1de357",
   "metadata": {
    "tags": []
   },
   "outputs": [
    {
     "name": "stdin",
     "output_type": "stream",
     "text": [
      "What is your Name? Shareek\n"
     ]
    },
    {
     "name": "stdout",
     "output_type": "stream",
     "text": [
      "Hello Shareek\n"
     ]
    }
   ],
   "source": [
    "print(\"Hello \" + input(\"What is your Name?\"))"
   ]
  },
  {
   "cell_type": "code",
   "execution_count": 7,
   "id": "539cd4b3-945e-413e-9897-7b63f66b0c7f",
   "metadata": {
    "tags": []
   },
   "outputs": [
    {
     "name": "stdin",
     "output_type": "stream",
     "text": [
      "What is your Name? Shareek\n"
     ]
    },
    {
     "name": "stdout",
     "output_type": "stream",
     "text": [
      "Hello Shareek!\n"
     ]
    }
   ],
   "source": [
    "print(\"Hello \" + input(\"What is your Name?\") + \"!\")"
   ]
  },
  {
   "cell_type": "markdown",
   "id": "c9c12314-9ad1-4e01-bb09-bcc6846a1bda",
   "metadata": {
    "tags": []
   },
   "source": [
    "- Comments"
   ]
  },
  {
   "cell_type": "code",
   "execution_count": 8,
   "id": "da05667c-f887-4a39-bda6-d5f6c35ff26c",
   "metadata": {
    "tags": []
   },
   "outputs": [
    {
     "name": "stdin",
     "output_type": "stream",
     "text": [
      "What is your Name? Shareek\n"
     ]
    },
    {
     "name": "stdout",
     "output_type": "stream",
     "text": [
      "Hello Shareek!\n"
     ]
    }
   ],
   "source": [
    "# This line of code will take an input using the input() function.\n",
    "print(\"Hello \" + input(\"What is your Name?\") + \"!\")"
   ]
  },
  {
   "cell_type": "markdown",
   "id": "e3127e57-e953-4d97-bb0b-54ab1e3b8c05",
   "metadata": {
    "tags": []
   },
   "source": [
    "## Variables\n",
    "Learn to store values in containers for later use. Variables is a conceptrt in Programming that allows us to give a label to piece of data so that we can refer or reference that data using the chosen variable name. We will see in this lesson how to create variables and how to use the variables to access the contained value. "
   ]
  },
  {
   "cell_type": "code",
   "execution_count": 10,
   "id": "6e3395e9-2373-4ed8-8ee8-de20595ff8ea",
   "metadata": {
    "tags": []
   },
   "outputs": [
    {
     "name": "stdin",
     "output_type": "stream",
     "text": [
      "What is your name? Shareek\n"
     ]
    },
    {
     "name": "stdout",
     "output_type": "stream",
     "text": [
      "Shareek\n"
     ]
    }
   ],
   "source": [
    "name = input(\"What is your name?\")\n",
    "print(name)"
   ]
  },
  {
   "cell_type": "code",
   "execution_count": 12,
   "id": "25f262cc-abf5-4c69-a233-3d224ee086ac",
   "metadata": {
    "tags": []
   },
   "outputs": [
    {
     "name": "stdout",
     "output_type": "stream",
     "text": [
      "Jack\n",
      "Angela\n"
     ]
    }
   ],
   "source": [
    "name = \"Jack\"\n",
    "print(name)\n",
    "name = \"Angela\"\n",
    "print(name)"
   ]
  },
  {
   "cell_type": "markdown",
   "id": "96fcf600-f1c9-4f88-8401-2f0d60a7f779",
   "metadata": {},
   "source": [
    "### Check the length of the user input\n",
    "Using the len() function and the input() fuinction. We wioll try to orint the number of characters in the user input. Write everything in just 1 line of code"
   ]
  },
  {
   "cell_type": "code",
   "execution_count": 15,
   "id": "afc5e486-a583-4720-9a11-11c418971cd2",
   "metadata": {
    "tags": []
   },
   "outputs": [
    {
     "name": "stdout",
     "output_type": "stream",
     "text": [
      "4\n",
      "6\n"
     ]
    }
   ],
   "source": [
    "name = \"Jack\"\n",
    "print(len(name))\n",
    "name2 = len(\"Angela\")\n",
    "print(name2)"
   ]
  },
  {
   "cell_type": "code",
   "execution_count": 16,
   "id": "70a8de1a-33af-4714-b233-27f9f7610bcf",
   "metadata": {
    "tags": []
   },
   "outputs": [
    {
     "data": {
      "text/plain": [
       "13"
      ]
     },
     "execution_count": 16,
     "metadata": {},
     "output_type": "execute_result"
    }
   ],
   "source": [
    "len(\"HEllo Shareek\")"
   ]
  },
  {
   "cell_type": "code",
   "execution_count": 17,
   "id": "4e4b90b0-4a4f-4bfb-a691-e0cb368217e8",
   "metadata": {
    "tags": []
   },
   "outputs": [
    {
     "name": "stdin",
     "output_type": "stream",
     "text": [
      "What is your name? Shareek\n"
     ]
    },
    {
     "name": "stdout",
     "output_type": "stream",
     "text": [
      "7\n"
     ]
    }
   ],
   "source": [
    "print(len(input(\"What is your name?\")))"
   ]
  },
  {
   "cell_type": "code",
   "execution_count": 18,
   "id": "b1db360c-0bf9-4dd1-9201-b7fcef35e232",
   "metadata": {
    "tags": []
   },
   "outputs": [
    {
     "name": "stdin",
     "output_type": "stream",
     "text": [
      "What is your name? Sharrek\n"
     ]
    },
    {
     "name": "stdout",
     "output_type": "stream",
     "text": [
      "7\n"
     ]
    }
   ],
   "source": [
    "username = input(\"What is your name?\")\n",
    "length = len(username)\n",
    "print(length)"
   ]
  },
  {
   "cell_type": "markdown",
   "id": "3c3e5239-1263-41ac-9076-c3f004cea06f",
   "metadata": {},
   "source": [
    "We have 2 variables glass1 and glass2. glass1 contains milk and glass2 contains juice. Write 3 lines of code to switch the contents of the variables. You are not allowed to type the words \"milk\" or \"juice\". You are only allowed to use variables to solve this exercise."
   ]
  },
  {
   "cell_type": "code",
   "execution_count": 27,
   "id": "42ea999d-63f1-4cea-b997-e75eda382933",
   "metadata": {
    "tags": []
   },
   "outputs": [
    {
     "name": "stdout",
     "output_type": "stream",
     "text": [
      "Before: ------>\n",
      "glass1: milk\n",
      "glass2: juice\n",
      "After: ------>\n",
      "glass1: juice\n",
      "glass2: milk\n"
     ]
    }
   ],
   "source": [
    "glass1 = \"milk\"\n",
    "glass2 = \"juice\"\n",
    "print(\"Before: ------>\")\n",
    "print(\"glass1: \" + glass1)\n",
    "print(\"glass2: \" + glass2)\n",
    "glass3 = glass1\n",
    "glass1 = glass2\n",
    "glass2 = glass3\n",
    "print(\"After: ------>\")\n",
    "print(\"glass1: \" + glass1)\n",
    "print(\"glass2: \" + glass2)"
   ]
  },
  {
   "cell_type": "markdown",
   "id": "e9e27fe5-b126-4dda-ac61-0b32cab81fd9",
   "metadata": {},
   "source": [
    "### Variables Naming\n",
    "Learn the rules of variables naming in Python:\n",
    "1. Make sure your variable names are descriptive\n",
    "2. Don't have spaces between words\n",
    "3. Don't start with numbers\n",
    "4. Don't use special words loke orint or input\n",
    "5."
   ]
  },
  {
   "cell_type": "code",
   "execution_count": null,
   "id": "0e58947b-be8a-4a8c-86af-2c66928346b4",
   "metadata": {},
   "outputs": [],
   "source": []
  },
  {
   "cell_type": "markdown",
   "id": "cda43038-0073-4fe5-9a03-fe901713525f",
   "metadata": {},
   "source": [
    "### Band Name Generator Project\n",
    "1. Create a greeting for your program\n",
    "2. Ask the user for the city that they grew up in and store it in a variable. #\n",
    "3. Ask the user for the name of a pet and store it in a variable.\n",
    "4. Combine the name of their city and pet and show them their band name. "
   ]
  },
  {
   "cell_type": "code",
   "execution_count": 28,
   "id": "9e4a170a-cfb8-46e2-9abb-c713d95a9031",
   "metadata": {
    "tags": []
   },
   "outputs": [
    {
     "name": "stdout",
     "output_type": "stream",
     "text": [
      "Welcome to the BAnd Name Generator.\n"
     ]
    },
    {
     "name": "stdin",
     "output_type": "stream",
     "text": [
      "Which city did you grow up in? Berlin\n",
      "What is the name of a pet? Dog\n"
     ]
    },
    {
     "name": "stdout",
     "output_type": "stream",
     "text": [
      "Your band name could be: Berlin Dog\n"
     ]
    }
   ],
   "source": [
    "print(\"Welcome to the BAnd Name Generator.\")\n",
    "city = input(\"Which city did you grow up in?\")\n",
    "pet = input(\"What is the name of a pet?\")\n",
    "print(\"Your band name could be: \" + city + \" \" + pet)"
   ]
  },
  {
   "cell_type": "markdown",
   "id": "4531c3a4-51f4-4482-a773-1299747c4f56",
   "metadata": {},
   "source": [
    "## 2. Integers\n"
   ]
  },
  {
   "cell_type": "code",
   "execution_count": 6,
   "id": "18689fa1-d2ca-401e-943e-b500d271df6e",
   "metadata": {
    "tags": []
   },
   "outputs": [
    {
     "data": {
      "text/plain": [
       "'H'"
      ]
     },
     "execution_count": 6,
     "metadata": {},
     "output_type": "execute_result"
    }
   ],
   "source": [
    "# Subscripting\n",
    "\"HEllo\"[0]"
   ]
  },
  {
   "cell_type": "code",
   "execution_count": 7,
   "id": "ced297cb-e9a4-43b9-a94f-7b322e8cbab1",
   "metadata": {
    "tags": []
   },
   "outputs": [
    {
     "name": "stdout",
     "output_type": "stream",
     "text": [
      "H\n"
     ]
    }
   ],
   "source": [
    "print(\"HEllo\"[0])"
   ]
  },
  {
   "cell_type": "markdown",
   "id": "54fcef21-66ae-45c4-80f3-8975cb2db236",
   "metadata": {},
   "source": [
    "- The last Character"
   ]
  },
  {
   "cell_type": "code",
   "execution_count": 9,
   "id": "7c77e7e6-309d-4b60-907b-de679d6ce6c7",
   "metadata": {
    "tags": []
   },
   "outputs": [
    {
     "name": "stdout",
     "output_type": "stream",
     "text": [
      "o\n"
     ]
    }
   ],
   "source": [
    "print(\"HEllo\"[4])"
   ]
  },
  {
   "cell_type": "code",
   "execution_count": 10,
   "id": "8da8d898-38a8-4a23-90ed-b965c9745110",
   "metadata": {
    "tags": []
   },
   "outputs": [
    {
     "name": "stdout",
     "output_type": "stream",
     "text": [
      "o\n"
     ]
    }
   ],
   "source": [
    "print(\"Hello\"[-1])"
   ]
  },
  {
   "cell_type": "markdown",
   "id": "b65323a1-c9b3-4be0-8066-90255735c977",
   "metadata": {},
   "source": [
    "- Contacting Strings"
   ]
  },
  {
   "cell_type": "code",
   "execution_count": 12,
   "id": "ae9b1550-0f47-4244-b228-b0919ba88818",
   "metadata": {
    "tags": []
   },
   "outputs": [
    {
     "data": {
      "text/plain": [
       "'123345'"
      ]
     },
     "execution_count": 12,
     "metadata": {},
     "output_type": "execute_result"
    }
   ],
   "source": [
    "\"123\" + \"345\""
   ]
  },
  {
   "cell_type": "markdown",
   "id": "c3c6c477-8eb8-4e44-a6c6-13b1982203cd",
   "metadata": {},
   "source": [
    "### 3. Inetgers"
   ]
  },
  {
   "cell_type": "code",
   "execution_count": 13,
   "id": "90f84f24-b468-4c3d-8fb7-f1f158f541a5",
   "metadata": {
    "tags": []
   },
   "outputs": [
    {
     "data": {
      "text/plain": [
       "579"
      ]
     },
     "execution_count": 13,
     "metadata": {},
     "output_type": "execute_result"
    }
   ],
   "source": [
    "123 + 456"
   ]
  },
  {
   "cell_type": "code",
   "execution_count": 14,
   "id": "eb61d255-e383-4422-ba32-2d0fc8f404d3",
   "metadata": {
    "tags": []
   },
   "outputs": [
    {
     "name": "stdout",
     "output_type": "stream",
     "text": [
      "15\n"
     ]
    }
   ],
   "source": [
    "print(12+3)"
   ]
  },
  {
   "cell_type": "markdown",
   "id": "1039e517-028a-4e46-8841-39afd8019024",
   "metadata": {},
   "source": [
    "- large Integers\n"
   ]
  },
  {
   "cell_type": "code",
   "execution_count": 15,
   "id": "a6e8ed6e-b67b-458a-bac4-e5e32e5fb782",
   "metadata": {
    "tags": []
   },
   "outputs": [
    {
     "name": "stdout",
     "output_type": "stream",
     "text": [
      "1244435232\n"
     ]
    }
   ],
   "source": [
    "print(124_4435_232)"
   ]
  },
  {
   "cell_type": "markdown",
   "id": "b7c4c92f-d84a-40db-815c-3926a6ee5b8c",
   "metadata": {},
   "source": [
    "- Float = Floating Point Numbers"
   ]
  },
  {
   "cell_type": "code",
   "execution_count": 16,
   "id": "c6e8c16e-b3de-4f92-ae23-8fc41fa52ba7",
   "metadata": {
    "tags": []
   },
   "outputs": [
    {
     "name": "stdout",
     "output_type": "stream",
     "text": [
      "3.123234\n"
     ]
    }
   ],
   "source": [
    "print(3.123234)"
   ]
  },
  {
   "cell_type": "markdown",
   "id": "f3b4b6d9-1e31-4913-8b49-bcd422eec140",
   "metadata": {},
   "source": [
    "### 4. Boolean\n",
    "True or False"
   ]
  },
  {
   "cell_type": "code",
   "execution_count": 17,
   "id": "1143a397-7fca-4249-883e-6ac2ef379c73",
   "metadata": {
    "tags": []
   },
   "outputs": [
    {
     "name": "stdout",
     "output_type": "stream",
     "text": [
      "True\n"
     ]
    }
   ],
   "source": [
    "print(True)"
   ]
  },
  {
   "cell_type": "code",
   "execution_count": 18,
   "id": "9f63eb8e-1dcb-42fc-b569-e5f0b1a5d343",
   "metadata": {
    "tags": []
   },
   "outputs": [
    {
     "name": "stdout",
     "output_type": "stream",
     "text": [
      "False\n"
     ]
    }
   ],
   "source": [
    "print(False)"
   ]
  },
  {
   "cell_type": "markdown",
   "id": "e027cc6a-a859-4847-95e9-7a794c0c70bb",
   "metadata": {},
   "source": [
    "- Type Error, Checking and Conversation\n",
    "\n",
    "Description\n",
    "\n",
    "These errors occur when you are using the wrong data type. e.g.\n",
    "len(12345)\n",
    "Because you can only give the len() Function Strings, It will refuse to work and give you a TypeError if you give it a number (Integer)"
   ]
  },
  {
   "cell_type": "code",
   "execution_count": 19,
   "id": "2fb1090d-04de-4867-9c7c-83e852d47e01",
   "metadata": {
    "tags": []
   },
   "outputs": [
    {
     "data": {
      "text/plain": [
       "5"
      ]
     },
     "execution_count": 19,
     "metadata": {},
     "output_type": "execute_result"
    }
   ],
   "source": [
    "len(\"Hello\")"
   ]
  },
  {
   "cell_type": "markdown",
   "id": "82e98ed3-a433-464d-bb9c-483d41ecbdbb",
   "metadata": {},
   "source": [
    "- Type Checking whith the Function type"
   ]
  },
  {
   "cell_type": "code",
   "execution_count": 21,
   "id": "726b49f5-d6a2-43b9-9f62-452d429752db",
   "metadata": {
    "tags": []
   },
   "outputs": [
    {
     "name": "stdout",
     "output_type": "stream",
     "text": [
      "<class 'str'>\n"
     ]
    }
   ],
   "source": [
    "print(type(\"Hello\"))"
   ]
  },
  {
   "cell_type": "code",
   "execution_count": 22,
   "id": "65cb11e6-4b2c-4e2a-91f8-2434a955cf72",
   "metadata": {
    "tags": []
   },
   "outputs": [
    {
     "name": "stdout",
     "output_type": "stream",
     "text": [
      "<class 'int'>\n"
     ]
    }
   ],
   "source": [
    "print(type(12))"
   ]
  },
  {
   "cell_type": "code",
   "execution_count": 23,
   "id": "85288075-e491-42de-aeaf-397d2d08ddf3",
   "metadata": {
    "tags": []
   },
   "outputs": [
    {
     "name": "stdout",
     "output_type": "stream",
     "text": [
      "<class 'float'>\n"
     ]
    }
   ],
   "source": [
    "print(type(1.33))"
   ]
  },
  {
   "cell_type": "code",
   "execution_count": 24,
   "id": "a33b54fa-206d-4d67-b056-999b3cd64b25",
   "metadata": {
    "tags": []
   },
   "outputs": [
    {
     "name": "stdout",
     "output_type": "stream",
     "text": [
      "<class 'bool'>\n"
     ]
    }
   ],
   "source": [
    "print(type(True))"
   ]
  },
  {
   "cell_type": "code",
   "execution_count": 25,
   "id": "0ce5956f-4dca-4d81-8c35-b780f3e2c014",
   "metadata": {
    "tags": []
   },
   "outputs": [
    {
     "name": "stdout",
     "output_type": "stream",
     "text": [
      "<class 'list'>\n"
     ]
    }
   ],
   "source": [
    "print(type([]))"
   ]
  },
  {
   "cell_type": "code",
   "execution_count": 26,
   "id": "f308382e-c915-474b-b7d6-263f4c16b3eb",
   "metadata": {
    "tags": []
   },
   "outputs": [
    {
     "name": "stdout",
     "output_type": "stream",
     "text": [
      "<class 'dict'>\n"
     ]
    }
   ],
   "source": [
    "print(type({}))"
   ]
  },
  {
   "cell_type": "markdown",
   "id": "d3488d4a-54c7-4b2e-9246-26a638bbe2fe",
   "metadata": {},
   "source": [
    "- Type Conversion\n",
    "\n",
    "You can convert data into different data types using speacial functions e.g: float(), int()"
   ]
  },
  {
   "cell_type": "code",
   "execution_count": 29,
   "id": "a230ce21-ddca-4d00-b6cf-d8514f69e38b",
   "metadata": {
    "tags": []
   },
   "outputs": [
    {
     "data": {
      "text/plain": [
       "32.0"
      ]
     },
     "execution_count": 29,
     "metadata": {},
     "output_type": "execute_result"
    }
   ],
   "source": [
    "float(32)"
   ]
  },
  {
   "cell_type": "code",
   "execution_count": 30,
   "id": "62877bef-b602-4975-ae68-4f1f36d6a038",
   "metadata": {
    "tags": []
   },
   "outputs": [
    {
     "data": {
      "text/plain": [
       "123"
      ]
     },
     "execution_count": 30,
     "metadata": {},
     "output_type": "execute_result"
    }
   ],
   "source": [
    "int(\"123\")"
   ]
  },
  {
   "cell_type": "code",
   "execution_count": 33,
   "id": "b002225c-4707-496a-9245-e19d045f55e9",
   "metadata": {
    "tags": []
   },
   "outputs": [
    {
     "name": "stdout",
     "output_type": "stream",
     "text": [
      "<class 'int'>\n"
     ]
    }
   ],
   "source": [
    "print(type(int(\"123\")))"
   ]
  },
  {
   "cell_type": "code",
   "execution_count": 34,
   "id": "9fed350c-56da-496f-9afa-9043b3fb2162",
   "metadata": {
    "tags": []
   },
   "outputs": [
    {
     "name": "stdout",
     "output_type": "stream",
     "text": [
      "8\n"
     ]
    }
   ],
   "source": [
    "print(int(\"4\") + int(\"4\"))"
   ]
  },
  {
   "cell_type": "code",
   "execution_count": 35,
   "id": "a9289615-8d76-401e-9e13-388e6faa79fa",
   "metadata": {
    "tags": []
   },
   "outputs": [
    {
     "ename": "ValueError",
     "evalue": "invalid literal for int() with base 10: 'abc'",
     "output_type": "error",
     "traceback": [
      "\u001b[1;31m---------------------------------------------------------------------------\u001b[0m",
      "\u001b[1;31mValueError\u001b[0m                                Traceback (most recent call last)",
      "Cell \u001b[1;32mIn[35], line 1\u001b[0m\n\u001b[1;32m----> 1\u001b[0m \u001b[38;5;28mprint\u001b[39m(\u001b[38;5;28mint\u001b[39m(\u001b[38;5;124m\"\u001b[39m\u001b[38;5;124mabc\u001b[39m\u001b[38;5;124m\"\u001b[39m) \u001b[38;5;241m+\u001b[39m \u001b[38;5;28mint\u001b[39m(\u001b[38;5;124m\"\u001b[39m\u001b[38;5;124m234\u001b[39m\u001b[38;5;124m\"\u001b[39m))\n",
      "\u001b[1;31mValueError\u001b[0m: invalid literal for int() with base 10: 'abc'"
     ]
    }
   ],
   "source": [
    "print(int(\"abc\") + int(\"234\"))"
   ]
  },
  {
   "cell_type": "code",
   "execution_count": 36,
   "id": "38c8c912-26dc-4e00-80c5-c2a07cb84fcb",
   "metadata": {
    "tags": []
   },
   "outputs": [
    {
     "data": {
      "text/plain": [
       "'1243'"
      ]
     },
     "execution_count": 36,
     "metadata": {},
     "output_type": "execute_result"
    }
   ],
   "source": [
    "str(1243)"
   ]
  },
  {
   "cell_type": "code",
   "execution_count": 37,
   "id": "4545c9d6-14ac-4aed-8501-7168c2f4cf20",
   "metadata": {
    "tags": []
   },
   "outputs": [
    {
     "name": "stdout",
     "output_type": "stream",
     "text": [
      "<class 'str'>\n"
     ]
    }
   ],
   "source": [
    "print(type(str(1234)))"
   ]
  },
  {
   "cell_type": "code",
   "execution_count": 38,
   "id": "434a2e0c-ab54-4ce7-a097-f9ef84593c22",
   "metadata": {
    "tags": []
   },
   "outputs": [
    {
     "name": "stdin",
     "output_type": "stream",
     "text": [
      "Enter your name! Shareek\n"
     ]
    },
    {
     "ename": "TypeError",
     "evalue": "can only concatenate str (not \"int\") to str",
     "output_type": "error",
     "traceback": [
      "\u001b[1;31m---------------------------------------------------------------------------\u001b[0m",
      "\u001b[1;31mTypeError\u001b[0m                                 Traceback (most recent call last)",
      "Cell \u001b[1;32mIn[38], line 1\u001b[0m\n\u001b[1;32m----> 1\u001b[0m \u001b[38;5;28mprint\u001b[39m(\u001b[38;5;124m\"\u001b[39m\u001b[38;5;124mNumber of letters in your name: \u001b[39m\u001b[38;5;124m\"\u001b[39m \u001b[38;5;241m+\u001b[39m \u001b[38;5;28mlen\u001b[39m(\u001b[38;5;28minput\u001b[39m(\u001b[38;5;124m\"\u001b[39m\u001b[38;5;124mEnter your name!\u001b[39m\u001b[38;5;124m\"\u001b[39m)))\n",
      "\u001b[1;31mTypeError\u001b[0m: can only concatenate str (not \"int\") to str"
     ]
    }
   ],
   "source": [
    "print(\"Number of letters in your name: \" + len(input(\"Enter your name!\")))"
   ]
  },
  {
   "cell_type": "code",
   "execution_count": 43,
   "id": "945995c8-8ee6-487b-a1f9-855e909b44f0",
   "metadata": {
    "tags": []
   },
   "outputs": [
    {
     "name": "stdin",
     "output_type": "stream",
     "text": [
      "Enter your name!\n",
      " Shareek\n"
     ]
    },
    {
     "name": "stdout",
     "output_type": "stream",
     "text": [
      "Number of letters in your name: 7\n"
     ]
    }
   ],
   "source": [
    "print(\"Number of letters in your name: \" + str(len(input(\"Enter your name!\\n\"))))"
   ]
  },
  {
   "cell_type": "markdown",
   "id": "322fcf11-ad04-4dc5-ac30-d49b2bfd16db",
   "metadata": {},
   "source": [
    "### Mathematical Operations in Python\n",
    "\n",
    "- Basic Operations: \n",
    "Learn to use the basic mathematical operators, +,-,*,/ and **\n",
    "\n",
    "- PEMDAS\n",
    "Parentheses, Exponents, Multiplications/Division, Addition/Subtraction\n",
    "\n",
    "- PAUSE 1: What is the output of this code?"
   ]
  },
  {
   "cell_type": "code",
   "execution_count": 45,
   "id": "495c340b-277e-40ee-93a6-422c2127b337",
   "metadata": {
    "tags": []
   },
   "outputs": [
    {
     "name": "stdout",
     "output_type": "stream",
     "text": [
      "My age is: 12 Years\n"
     ]
    }
   ],
   "source": [
    "print(\"My age is: \" + str(12) + \" Years\")"
   ]
  },
  {
   "cell_type": "code",
   "execution_count": 46,
   "id": "380b9f86-9783-42ea-b976-e8cd149f3520",
   "metadata": {
    "tags": []
   },
   "outputs": [
    {
     "name": "stdout",
     "output_type": "stream",
     "text": [
      "246\n"
     ]
    }
   ],
   "source": [
    "print(123 + 123)"
   ]
  },
  {
   "cell_type": "code",
   "execution_count": 47,
   "id": "bf9bafa3-5f05-4845-8cdd-4836aba6802d",
   "metadata": {
    "tags": []
   },
   "outputs": [
    {
     "name": "stdout",
     "output_type": "stream",
     "text": [
      "5\n"
     ]
    }
   ],
   "source": [
    "print(7-2)"
   ]
  },
  {
   "cell_type": "code",
   "execution_count": 48,
   "id": "02bc3075-c563-49a9-a2f0-c04ad21e007d",
   "metadata": {
    "tags": []
   },
   "outputs": [
    {
     "name": "stdout",
     "output_type": "stream",
     "text": [
      "-2\n"
     ]
    }
   ],
   "source": [
    "print(3-5)"
   ]
  },
  {
   "cell_type": "code",
   "execution_count": 49,
   "id": "f6acf730-75bf-46e0-bae1-b22413be7a23",
   "metadata": {
    "tags": []
   },
   "outputs": [
    {
     "name": "stdout",
     "output_type": "stream",
     "text": [
      "6\n"
     ]
    }
   ],
   "source": [
    "print(2*3)"
   ]
  },
  {
   "cell_type": "code",
   "execution_count": 51,
   "id": "f791aee0-fe8d-4c79-8d37-bfe8273ee34a",
   "metadata": {
    "tags": []
   },
   "outputs": [
    {
     "name": "stdout",
     "output_type": "stream",
     "text": [
      "2.0\n"
     ]
    }
   ],
   "source": [
    "print(6 / 3)"
   ]
  },
  {
   "cell_type": "code",
   "execution_count": 52,
   "id": "b1a16085-fde5-4bef-8077-348fc12daad5",
   "metadata": {
    "tags": []
   },
   "outputs": [
    {
     "name": "stdout",
     "output_type": "stream",
     "text": [
      "3.3333333333333335\n"
     ]
    }
   ],
   "source": [
    "print(10 / 3)"
   ]
  },
  {
   "cell_type": "code",
   "execution_count": 53,
   "id": "1cd9b4b4-05b4-4ee7-a799-019ef75cc088",
   "metadata": {
    "tags": []
   },
   "outputs": [
    {
     "name": "stdout",
     "output_type": "stream",
     "text": [
      "2\n"
     ]
    }
   ],
   "source": [
    "print(6 // 3)"
   ]
  },
  {
   "cell_type": "code",
   "execution_count": 54,
   "id": "17ea7731-05b9-4b6c-81cd-827d30d4d18e",
   "metadata": {
    "tags": []
   },
   "outputs": [
    {
     "name": "stdout",
     "output_type": "stream",
     "text": [
      "3\n"
     ]
    }
   ],
   "source": [
    "print(10 // 3)"
   ]
  },
  {
   "cell_type": "code",
   "execution_count": 56,
   "id": "8a0786c5-6d1c-4dc5-8173-672f82195ded",
   "metadata": {
    "tags": []
   },
   "outputs": [
    {
     "name": "stdout",
     "output_type": "stream",
     "text": [
      "8\n"
     ]
    }
   ],
   "source": [
    "# Power\n",
    "print(2**3)"
   ]
  },
  {
   "cell_type": "code",
   "execution_count": 57,
   "id": "8d12086c-5e14-454c-847c-4d1934714213",
   "metadata": {
    "tags": []
   },
   "outputs": [
    {
     "name": "stdout",
     "output_type": "stream",
     "text": [
      "7.0\n"
     ]
    }
   ],
   "source": [
    "print(3 * 3 + 3 / 3 -3)"
   ]
  },
  {
   "cell_type": "code",
   "execution_count": 59,
   "id": "af2c94ba-5356-491e-8926-c3895ab1225c",
   "metadata": {
    "tags": []
   },
   "outputs": [
    {
     "name": "stdout",
     "output_type": "stream",
     "text": [
      "3.0\n"
     ]
    }
   ],
   "source": [
    "print(3 * (3+3) / 3 - 3)"
   ]
  },
  {
   "cell_type": "markdown",
   "id": "ae0c6c96-7db4-4f15-bc78-65f36046eb09",
   "metadata": {},
   "source": [
    "### Number Manipulation and Strings"
   ]
  },
  {
   "cell_type": "markdown",
   "id": "9c5bd2fb-c15f-43c8-a56a-0ad186dcd022",
   "metadata": {},
   "source": [
    "- Flooring a Number\n",
    "You can floor a number or remove all decimal places using the Funbction *int()* function which converts a floating point number (with decimal places) into an integer (whole nmumber)"
   ]
  },
  {
   "cell_type": "code",
   "execution_count": 64,
   "id": "e8f67399-b10b-4ccd-9c5a-3c8d10368a21",
   "metadata": {
    "tags": []
   },
   "outputs": [
    {
     "name": "stdout",
     "output_type": "stream",
     "text": [
      "27.117768595041323\n",
      "27\n"
     ]
    }
   ],
   "source": [
    "bmi = 84 / 1.76 ** 2\n",
    "print(bmi)\n",
    "print(int(bmi))"
   ]
  },
  {
   "cell_type": "code",
   "execution_count": 65,
   "id": "9b1deecf-9d3e-4523-a9e6-3cedc093fa8b",
   "metadata": {
    "tags": []
   },
   "outputs": [
    {
     "name": "stdout",
     "output_type": "stream",
     "text": [
      "27\n"
     ]
    }
   ],
   "source": [
    "print(round(bmi))"
   ]
  },
  {
   "cell_type": "code",
   "execution_count": 66,
   "id": "f646c644-603a-43ba-b931-84cb9bce3932",
   "metadata": {
    "tags": []
   },
   "outputs": [
    {
     "name": "stdout",
     "output_type": "stream",
     "text": [
      "27.12\n"
     ]
    }
   ],
   "source": [
    "print(round(bmi, 2))"
   ]
  },
  {
   "cell_type": "code",
   "execution_count": 67,
   "id": "cc02cadb-7e95-43aa-939f-dd90c550b1d7",
   "metadata": {
    "tags": []
   },
   "outputs": [
    {
     "name": "stdout",
     "output_type": "stream",
     "text": [
      "27.118\n"
     ]
    }
   ],
   "source": [
    "print(round(bmi, 3))"
   ]
  },
  {
   "cell_type": "code",
   "execution_count": 68,
   "id": "fb01f063-3e83-42b0-96a7-430433d94b50",
   "metadata": {
    "tags": []
   },
   "outputs": [
    {
     "name": "stdout",
     "output_type": "stream",
     "text": [
      "27.1178\n"
     ]
    }
   ],
   "source": [
    "print(round(bmi, 4))"
   ]
  },
  {
   "cell_type": "markdown",
   "id": "eafe63c0-cabf-4b26-b42e-4608020335d4",
   "metadata": {},
   "source": [
    "- Assignment Operators\n",
    "\n",
    "Assignment operators such as the addition assignment operator *+=* will add the number on the right to the orignal value of the variable on the left and the new value to variable.\n",
    "\n",
    " 1. +=\n",
    " 2. -=\n",
    " 3. *=\n",
    " 4. /="
   ]
  },
  {
   "cell_type": "code",
   "execution_count": 4,
   "id": "645befcc-2570-4bc1-baf3-1eb69aaadbaf",
   "metadata": {
    "tags": []
   },
   "outputs": [
    {
     "name": "stdout",
     "output_type": "stream",
     "text": [
      "2\n",
      "1\n"
     ]
    }
   ],
   "source": [
    "score = 0\n",
    "# user scores a point\n",
    "score += 2\n",
    "print(score)\n",
    "\n",
    "score -= 1\n",
    "print(score)"
   ]
  },
  {
   "cell_type": "code",
   "execution_count": 76,
   "id": "46cf6600-80be-4cec-b9ab-0cf7b37b7f79",
   "metadata": {
    "tags": []
   },
   "outputs": [
    {
     "name": "stdout",
     "output_type": "stream",
     "text": [
      "Your score is = 0, your height is 1.8. You are ainning is True\n"
     ]
    }
   ],
   "source": [
    "# f-String\n",
    "scoree = 0\n",
    "height = 1.8\n",
    "is_winning = True\n",
    "\n",
    "print(f\"Your score is = {scoree}, your height is {height}. You are ainning is {is_winning}\")"
   ]
  },
  {
   "cell_type": "markdown",
   "id": "2df2ad7a-6b60-43c3-bfdc-b230184760b2",
   "metadata": {},
   "source": [
    "## Day 2 Project: Tip Calculator\n",
    "\n",
    "Click Run to run the final project you will build. \n",
    "1. Welcome to the tip calcuulator!\n",
    "2. What ws the total bill? 124.56\n",
    "3. How much tip would you like to give? 10, 12, or 15? 12\n",
    "4. How many people top split the bill? 7\n",
    "5. Each person should pay: 19.93"
   ]
  },
  {
   "cell_type": "code",
   "execution_count": 81,
   "id": "3c2c5cd3-05bb-4634-b3d4-5df24d30c4c6",
   "metadata": {
    "tags": []
   },
   "outputs": [
    {
     "name": "stdout",
     "output_type": "stream",
     "text": [
      "Welcome to the tip calculator!\n"
     ]
    },
    {
     "name": "stdin",
     "output_type": "stream",
     "text": [
      "What was the total bill? $ 153.45\n",
      "Waht perecentage tip would you like to give? 10 12 15 15\n",
      "Haow many people to split the bill?  5\n"
     ]
    },
    {
     "name": "stdout",
     "output_type": "stream",
     "text": [
      "Each person should pay $35.29\n"
     ]
    }
   ],
   "source": [
    "print(\"Welcome to the tip calculator!\")\n",
    "bill = float(input(\"What was the total bill? $\"))\n",
    "tip = int(input(\"Waht perecentage tip would you like to give? 10 12 15\"))\n",
    "people = int(input(\"Haow many people to split the bill? \"))\n",
    "tip_as_precent = tip / 100\n",
    "total_tip_amount = bill * tip_as_precent\n",
    "total_bill = bill + total_tip_amount\n",
    "bill_per_person = total_bill / people\n",
    "final_amount = round(bill_per_person, 2)\n",
    "print(f\"Each person should pay {final_amount}$\")"
   ]
  },
  {
   "attachments": {
    "ded9b2e1-7c47-4b45-ad19-6d9b2c1764ac.png": {
     "image/png": "[encoded data removed]"
    }
   },
   "cell_type": "markdown",
   "id": "4fa1dc4f-0856-4ec6-a20c-12c83110f8c5",
   "metadata": {},
   "source": [
    "### Control Flow and Logical Operators\n",
    "\n",
    "- Condition Check if statements and else statments:\n",
    "\n",
    "Learn to use conditionals in PYthon to check a conditions and tell the computer what to do in each case. e.g.\n",
    "````\n",
    "if <this condition is true>:\n",
    "  < then execute this line of code >\n",
    "````\n",
    "![image.png](attachment:ded9b2e1-7c47-4b45-ad19-6d9b2c1764ac.png)"
   ]
  },
  {
   "cell_type": "code",
   "execution_count": 9,
   "id": "4c48dc5d-309e-4bce-a3b4-5f02292a7aeb",
   "metadata": {},
   "outputs": [
    {
     "name": "stdout",
     "output_type": "stream",
     "text": [
      "WElcome to the rollercoaster!\n"
     ]
    },
    {
     "name": "stdin",
     "output_type": "stream",
     "text": [
      "What is your height in cm? 60\n"
     ]
    },
    {
     "name": "stdout",
     "output_type": "stream",
     "text": [
      "Sorry you have to grow taller befoer you ride.\n"
     ]
    }
   ],
   "source": [
    "print(\"WElcome to the rollercoaster!\")\n",
    "height = int(input(\"What is your height in cm?\"))\n",
    "\n",
    "if height >= 120:\n",
    "    print(\"You can ride the rollercoaster\")\n",
    "else:\n",
    "    print(\"Sorry you have to grow taller befoer you ride.\")"
   ]
  },
  {
   "cell_type": "markdown",
   "id": "3d730548-983a-4097-b59d-42d612ac971f",
   "metadata": {},
   "source": [
    "- Modulo Operator"
   ]
  },
  {
   "cell_type": "code",
   "execution_count": 14,
   "id": "ed0a512a-a112-4616-9a14-44fc45b89a0b",
   "metadata": {},
   "outputs": [
    {
     "data": {
      "text/plain": [
       "2"
      ]
     },
     "execution_count": 14,
     "metadata": {},
     "output_type": "execute_result"
    }
   ],
   "source": [
    "8 % 3"
   ]
  },
  {
   "cell_type": "code",
   "execution_count": 16,
   "id": "ce66c10c-0293-4ba3-a636-7cb6c7c25737",
   "metadata": {},
   "outputs": [
    {
     "data": {
      "text/plain": [
       "2.6666666666666665"
      ]
     },
     "execution_count": 16,
     "metadata": {},
     "output_type": "execute_result"
    }
   ],
   "source": [
    "8 / 3"
   ]
  },
  {
   "cell_type": "code",
   "execution_count": 18,
   "id": "eedd6a8c-8fe9-433e-bd67-65c506c219ef",
   "metadata": {},
   "outputs": [
    {
     "data": {
      "text/plain": [
       "3.3333333333333335"
      ]
     },
     "execution_count": 18,
     "metadata": {},
     "output_type": "execute_result"
    }
   ],
   "source": [
    "10 / 3"
   ]
  },
  {
   "cell_type": "code",
   "execution_count": 20,
   "id": "3220af92-f5c8-48ea-a9f4-8ae5f8f11ec8",
   "metadata": {},
   "outputs": [
    {
     "data": {
      "text/plain": [
       "1"
      ]
     },
     "execution_count": 20,
     "metadata": {},
     "output_type": "execute_result"
    }
   ],
   "source": [
    "10 % 3"
   ]
  },
  {
   "cell_type": "markdown",
   "id": "e2930e78-0d32-492e-953e-241f88618e22",
   "metadata": {},
   "source": [
    "- Check Odd or Even Number"
   ]
  },
  {
   "cell_type": "code",
   "execution_count": 27,
   "id": "8a0bf31d-aac9-4cda-9e36-ec6518e71332",
   "metadata": {},
   "outputs": [
    {
     "name": "stdin",
     "output_type": "stream",
     "text": [
      "What is the nmber you want to check? 40\n"
     ]
    },
    {
     "name": "stdout",
     "output_type": "stream",
     "text": [
      "You have intered the number 40 and it is an Even number\n"
     ]
    }
   ],
   "source": [
    "print(\"WElcome to the rollercoaster!\")\n",
    "height = int(input(\"What is your height in cm?\"))\n",
    "\n",
    "if height >= 120:\n",
    "    print(\"You can ride the rollercoaster\")\n",
    "else:\n",
    "    print(\"Sorry you have to grow taller befoer you ride.\")"
   ]
  },
  {
   "attachments": {
    "14b7ee71-bdfe-4e5e-94f0-29b58a402882.png": {
     "image/png": "[encoded data removed]"
    }
   },
   "cell_type": "markdown",
   "id": "f7e933f1-08d3-4e68-a61e-da119fa1d74a",
   "metadata": {},
   "source": [
    "- Nested if statements and elif statements\n",
    "```\n",
    "if condition:\n",
    "    if another condition:\n",
    "        do this\n",
    "    else:\n",
    "        do this\n",
    "else:\n",
    "    do this\n",
    "```\n",
    "![image.png](attachment:14b7ee71-bdfe-4e5e-94f0-29b58a402882.png)"
   ]
  },
  {
   "cell_type": "code",
   "execution_count": 58,
   "id": "7dedc172-045b-4bd5-b05e-160656848e84",
   "metadata": {},
   "outputs": [
    {
     "name": "stdout",
     "output_type": "stream",
     "text": [
      "WElcome to the rollercoaster!\n"
     ]
    },
    {
     "name": "stdin",
     "output_type": "stream",
     "text": [
      "What is your height in cm? 140\n"
     ]
    },
    {
     "name": "stdout",
     "output_type": "stream",
     "text": [
      "You can ride the rollercoaster\n"
     ]
    },
    {
     "name": "stdin",
     "output_type": "stream",
     "text": [
      "What is your age? 14\n"
     ]
    },
    {
     "name": "stdout",
     "output_type": "stream",
     "text": [
      "Please pay $7\n"
     ]
    }
   ],
   "source": [
    "print(\"WElcome to the rollercoaster!\")\n",
    "height = int(input(\"What is your height in cm?\"))\n",
    "\n",
    "if height >= 120:\n",
    "    print(\"You can ride the rollercoaster\")\n",
    "    age = int(input(\"What is your age?\"))\n",
    "    if age < 12:\n",
    "        print(\"Please pay $5.\")\n",
    "    if 12 < age < 18 :\n",
    "        print(\"Please pay $7\")\n",
    "    else:\n",
    "        print(\"Please pay $12.\")\n",
    "else:\n",
    "    print(\"Sorry you have to grow taller befoer you ride.\")"
   ]
  },
  {
   "cell_type": "markdown",
   "id": "2dbc511b-a319-412a-bc5f-ca473ffea8b0",
   "metadata": {},
   "source": [
    "- if / elif / else\n",
    "```\n",
    "if condition1:\n",
    "    do A\n",
    "elif condition2:\n",
    "    do B\n",
    "else:\n",
    "    do this\n",
    "```"
   ]
  },
  {
   "cell_type": "code",
   "execution_count": 60,
   "id": "608bfbb0-57b2-4d58-a592-4b0c216e5813",
   "metadata": {},
   "outputs": [
    {
     "name": "stdout",
     "output_type": "stream",
     "text": [
      "WElcome to the rollercoaster!\n"
     ]
    },
    {
     "name": "stdin",
     "output_type": "stream",
     "text": [
      "What is your height in cm? 130\n"
     ]
    },
    {
     "name": "stdout",
     "output_type": "stream",
     "text": [
      "You can ride the rollercoaster\n"
     ]
    },
    {
     "name": "stdin",
     "output_type": "stream",
     "text": [
      "What is your age? 24\n"
     ]
    },
    {
     "name": "stdout",
     "output_type": "stream",
     "text": [
      "Please pay $12.\n"
     ]
    }
   ],
   "source": [
    "print(\"WElcome to the rollercoaster!\")\n",
    "height = int(input(\"What is your height in cm?\"))\n",
    "\n",
    "if height >= 120:\n",
    "    print(\"You can ride the rollercoaster\")\n",
    "    age = int(input(\"What is your age?\"))\n",
    "    if age < 12:\n",
    "        print(\"Please pay $5.\")\n",
    "    elif 12 < age < 18 :\n",
    "        print(\"Please pay $7\")\n",
    "    else:\n",
    "        print(\"Please pay $12.\")\n",
    "else:\n",
    "    print(\"Sorry you have to grow taller befoer you ride.\")"
   ]
  },
  {
   "attachments": {
    "7cbb81b8-eb30-46cb-afa3-758ffddc103c.png": {
     "image/png": "[encoded data removed]"
    }
   },
   "cell_type": "markdown",
   "id": "dcee8d53-f5fd-4e42-a8f4-391f77f4ddc3",
   "metadata": {},
   "source": [
    "\n",
    "![image.png](attachment:7cbb81b8-eb30-46cb-afa3-758ffddc103c.png)"
   ]
  },
  {
   "cell_type": "code",
   "execution_count": 65,
   "id": "bf3481d8-5942-4d07-8844-95b2bad07879",
   "metadata": {},
   "outputs": [
    {
     "name": "stdout",
     "output_type": "stream",
     "text": [
      "WElcome to the rollercoaster!\n"
     ]
    },
    {
     "name": "stdin",
     "output_type": "stream",
     "text": [
      "What is your height in cm? 120\n"
     ]
    },
    {
     "name": "stdout",
     "output_type": "stream",
     "text": [
      "You can ride the rollercoaster\n"
     ]
    },
    {
     "name": "stdin",
     "output_type": "stream",
     "text": [
      "What is your age? 24\n"
     ]
    },
    {
     "name": "stdout",
     "output_type": "stream",
     "text": [
      "Please pay $12.\n"
     ]
    },
    {
     "name": "stdin",
     "output_type": "stream",
     "text": [
      "Do you want to have a photo take? Type y for Yes or n fo No! y\n"
     ]
    },
    {
     "name": "stdout",
     "output_type": "stream",
     "text": [
      "Your final bill is 15\n"
     ]
    }
   ],
   "source": [
    "print(\"WElcome to the rollercoaster!\")\n",
    "height = int(input(\"What is your height in cm?\"))\n",
    "bill = 0\n",
    "if height >= 120:\n",
    "    print(\"You can ride the rollercoaster\")\n",
    "    age = int(input(\"What is your age?\"))\n",
    "    if age < 12:\n",
    "        bill = 5\n",
    "        print(\"Please pay $5.\")\n",
    "    elif 12 < age < 18 :\n",
    "        bill = 7\n",
    "        print(\"Please pay $7\")\n",
    "    else:\n",
    "        bill = 12\n",
    "        print(\"Please pay $12.\")\n",
    "    wants_photo = input(\"Do you want to have a photo take? Type y for Yes or n fo No!\")\n",
    "    if wants_photo == \"y\":\n",
    "        # Add $3 to their bill\n",
    "        bill += 3\n",
    "    print(f\"Your final bill is {bill}\")\n",
    "else:\n",
    "    print(\"Sorry you have to grow taller befoer you ride.\")"
   ]
  },
  {
   "cell_type": "code",
   "execution_count": 67,
   "id": "f1964b46-298c-4076-ae8f-c4c914cce81c",
   "metadata": {},
   "outputs": [
    {
     "name": "stdout",
     "output_type": "stream",
     "text": [
      "Welcome to the rollercoaster!\n"
     ]
    },
    {
     "name": "stdin",
     "output_type": "stream",
     "text": [
      "What is your height in cm? 120\n"
     ]
    },
    {
     "name": "stdout",
     "output_type": "stream",
     "text": [
      "You can ride the rollercoaster!\n"
     ]
    },
    {
     "name": "stdin",
     "output_type": "stream",
     "text": [
      "What is your age? 24\n"
     ]
    },
    {
     "name": "stdout",
     "output_type": "stream",
     "text": [
      "Please pay $12.\n"
     ]
    },
    {
     "name": "stdin",
     "output_type": "stream",
     "text": [
      "Do you want to have a photo taken? Type 'y' for Yes or 'n' for No:  y\n"
     ]
    },
    {
     "name": "stdout",
     "output_type": "stream",
     "text": [
      "Your final bill is $15.\n"
     ]
    }
   ],
   "source": [
    "print(\"Welcome to the rollercoaster!\")\n",
    "height = int(input(\"What is your height in cm?\"))\n",
    "bill = 0\n",
    "\n",
    "if height >= 120:\n",
    "    print(\"You can ride the rollercoaster!\")\n",
    "    age = int(input(\"What is your age?\"))\n",
    "    \n",
    "    if age < 12:\n",
    "        bill = 5\n",
    "    elif 12 < age < 18:\n",
    "        bill = 7\n",
    "    else:\n",
    "        bill = 12\n",
    "    \n",
    "    print(f\"Please pay ${bill}.\")\n",
    "    \n",
    "    wants_photo = input(\"Do you want to have a photo taken? Type 'y' for Yes or 'n' for No: \").strip().lower()\n",
    "    if wants_photo == \"y\":\n",
    "        bill += 3\n",
    "    \n",
    "    print(f\"Your final bill is ${bill}.\")\n",
    "else:\n",
    "    print(\"Sorry, you have to grow taller before you can ride.\")\n"
   ]
  },
  {
   "cell_type": "markdown",
   "id": "44eb5ed4-a90d-417d-a39a-b55026ed141c",
   "metadata": {},
   "source": [
    "- Pizza Delivery Program\n",
    "\n",
    "  small pizza(S): 15 Dollar\n",
    "  \n",
    "  Medium pizza(M): 20 Dollar\n",
    "\n",
    "  Large pizza(L): 25 Dollar\n",
    "  1. Welcome to Python Pizza Deliveries!\n",
    "  2. What size pizza do you want? S, M or L?\n",
    "  3. Add pepperoni for medium or large pizza (Y or N): + $3\n",
    "  4. Add extra cheese for any size pizza (Y or N): + 2 Dollar"
   ]
  },
  {
   "cell_type": "code",
   "execution_count": 86,
   "id": "c7109c1b-a76c-4fab-bdee-d54073122c70",
   "metadata": {},
   "outputs": [
    {
     "name": "stdout",
     "output_type": "stream",
     "text": [
      "Welcome to PYthon Pizza Deliveries!\n"
     ]
    },
    {
     "name": "stdin",
     "output_type": "stream",
     "text": [
      "What size pizza do you want? S, M or L:  M\n",
      "Do you want pepperoni on your pizza? Y or N:  Y\n",
      "Do you want extra cheese? Y or N:  Y\n"
     ]
    },
    {
     "name": "stdout",
     "output_type": "stream",
     "text": [
      "Your final bill is $24.\n"
     ]
    }
   ],
   "source": [
    "print(\"Welcome to PYthon Pizza Deliveries!\")\n",
    "size = input(\"What size pizza do you want? S, M or L: \")\n",
    "pepperoni = input(\"Do you want pepperoni on your pizza? Y or N: \")\n",
    "extra_cheese = input(\"Do you want extra cheese? Y or N: \")\n",
    "bill = 0\n",
    "if size == \"S\":\n",
    "    bill += 15\n",
    "elif size == \"M\":\n",
    "    bill += 20\n",
    "elif size == \"L\":\n",
    "    bill += 25\n",
    "else:\n",
    "    print(\"You typed the wrong input.\")\n",
    "\n",
    "if pepperoni == \"Y\":\n",
    "    if size == \"S\":\n",
    "        bill += 2\n",
    "    else:\n",
    "        bill += 3\n",
    "if extra_cheese == \"Y\":\n",
    "    bill +=1\n",
    "print(f\"Your final bill is ${bill}.\")"
   ]
  },
  {
   "cell_type": "markdown",
   "id": "f2ffc920-2610-4910-a44e-3a0667141cfb",
   "metadata": {},
   "source": [
    "### Logical Operators\n",
    "- A and B --> Both A and B have to be True then Tru else False\n",
    "- V or D --> One of them have to be True then True, only if both are False the False\n",
    "- not E  --> Revirse the conditon, if it is True then False, and If it is False then True\n"
   ]
  },
  {
   "cell_type": "code",
   "execution_count": 94,
   "id": "08ef1544-d4a5-470c-ae60-9324554fab9e",
   "metadata": {},
   "outputs": [
    {
     "data": {
      "text/plain": [
       "False"
      ]
     },
     "execution_count": 94,
     "metadata": {},
     "output_type": "execute_result"
    }
   ],
   "source": [
    "a = 12\n",
    "a > 15"
   ]
  },
  {
   "cell_type": "code",
   "execution_count": 96,
   "id": "dbcae093-34b2-4282-a2d9-39bd5ffeee9f",
   "metadata": {},
   "outputs": [
    {
     "data": {
      "text/plain": [
       "True"
      ]
     },
     "execution_count": 96,
     "metadata": {},
     "output_type": "execute_result"
    }
   ],
   "source": [
    "a > 10"
   ]
  },
  {
   "cell_type": "code",
   "execution_count": 98,
   "id": "59b62495-3380-4bed-a24d-b9bd42e0b247",
   "metadata": {},
   "outputs": [
    {
     "data": {
      "text/plain": [
       "True"
      ]
     },
     "execution_count": 98,
     "metadata": {},
     "output_type": "execute_result"
    }
   ],
   "source": [
    "a > 10 and a < 13"
   ]
  },
  {
   "cell_type": "code",
   "execution_count": 102,
   "id": "1939a72f-a61f-44f4-88b7-fe3de677bf20",
   "metadata": {},
   "outputs": [
    {
     "data": {
      "text/plain": [
       "True"
      ]
     },
     "execution_count": 102,
     "metadata": {},
     "output_type": "execute_result"
    }
   ],
   "source": [
    "10 < a < 13"
   ]
  },
  {
   "cell_type": "code",
   "execution_count": 104,
   "id": "4f3e86e2-3535-4d11-a6a2-8d56a152a046",
   "metadata": {},
   "outputs": [
    {
     "data": {
      "text/plain": [
       "False"
      ]
     },
     "execution_count": 104,
     "metadata": {},
     "output_type": "execute_result"
    }
   ],
   "source": [
    "10 < a > 13"
   ]
  },
  {
   "cell_type": "code",
   "execution_count": 106,
   "id": "71e032b5-b30e-4c4c-af41-943f68ac3559",
   "metadata": {},
   "outputs": [
    {
     "data": {
      "text/plain": [
       "False"
      ]
     },
     "execution_count": 106,
     "metadata": {},
     "output_type": "execute_result"
    }
   ],
   "source": [
    "True and False"
   ]
  },
  {
   "cell_type": "code",
   "execution_count": 108,
   "id": "d55e6f12-dd1c-4401-bcd4-83dfbc0ca747",
   "metadata": {},
   "outputs": [
    {
     "data": {
      "text/plain": [
       "False"
      ]
     },
     "execution_count": 108,
     "metadata": {},
     "output_type": "execute_result"
    }
   ],
   "source": [
    "False and False"
   ]
  },
  {
   "cell_type": "code",
   "execution_count": 110,
   "id": "e9cf9a23-d9f3-48f1-93b1-f72b7e0b25cf",
   "metadata": {},
   "outputs": [
    {
     "data": {
      "text/plain": [
       "True"
      ]
     },
     "execution_count": 110,
     "metadata": {},
     "output_type": "execute_result"
    }
   ],
   "source": [
    "True and True"
   ]
  },
  {
   "cell_type": "code",
   "execution_count": 113,
   "id": "cf1385f5-6df1-4bea-aacf-a7a8632ca9a6",
   "metadata": {},
   "outputs": [
    {
     "data": {
      "text/plain": [
       "True"
      ]
     },
     "execution_count": 113,
     "metadata": {},
     "output_type": "execute_result"
    }
   ],
   "source": [
    "True or True"
   ]
  },
  {
   "cell_type": "code",
   "execution_count": 115,
   "id": "150c9a0d-14fb-420d-b4dc-5d3ec7bddd70",
   "metadata": {},
   "outputs": [
    {
     "data": {
      "text/plain": [
       "True"
      ]
     },
     "execution_count": 115,
     "metadata": {},
     "output_type": "execute_result"
    }
   ],
   "source": [
    "True or False"
   ]
  },
  {
   "cell_type": "code",
   "execution_count": 117,
   "id": "dcedbe12-7402-4f7f-a4c4-9cad0302993e",
   "metadata": {},
   "outputs": [
    {
     "data": {
      "text/plain": [
       "True"
      ]
     },
     "execution_count": 117,
     "metadata": {},
     "output_type": "execute_result"
    }
   ],
   "source": [
    "False or True"
   ]
  },
  {
   "cell_type": "code",
   "execution_count": 119,
   "id": "25fac575-3f61-45b8-8053-914007d26592",
   "metadata": {},
   "outputs": [
    {
     "data": {
      "text/plain": [
       "False"
      ]
     },
     "execution_count": 119,
     "metadata": {},
     "output_type": "execute_result"
    }
   ],
   "source": [
    "False or False"
   ]
  },
  {
   "cell_type": "code",
   "execution_count": 121,
   "id": "859afce8-83f8-434f-b1d4-933437b3d736",
   "metadata": {},
   "outputs": [],
   "source": [
    "b = 10"
   ]
  },
  {
   "cell_type": "code",
   "execution_count": 123,
   "id": "a42ff8ea-02c0-4c02-8851-ee28d6aa3275",
   "metadata": {},
   "outputs": [
    {
     "data": {
      "text/plain": [
       "True"
      ]
     },
     "execution_count": 123,
     "metadata": {},
     "output_type": "execute_result"
    }
   ],
   "source": [
    "not a < 0"
   ]
  },
  {
   "cell_type": "code",
   "execution_count": 125,
   "id": "58a7f4f9-f649-4a49-8b3c-ca7316f9e290",
   "metadata": {},
   "outputs": [
    {
     "data": {
      "text/plain": [
       "False"
      ]
     },
     "execution_count": 125,
     "metadata": {},
     "output_type": "execute_result"
    }
   ],
   "source": [
    "a < 0"
   ]
  },
  {
   "cell_type": "code",
   "execution_count": 129,
   "id": "c6fa46a6-89e5-419f-bd12-c511211cc163",
   "metadata": {},
   "outputs": [
    {
     "data": {
      "text/plain": [
       "False"
      ]
     },
     "execution_count": 129,
     "metadata": {},
     "output_type": "execute_result"
    }
   ],
   "source": [
    "not True"
   ]
  },
  {
   "cell_type": "code",
   "execution_count": 131,
   "id": "9d438e92-8966-46ef-ac81-e609a8715f9c",
   "metadata": {},
   "outputs": [
    {
     "data": {
      "text/plain": [
       "True"
      ]
     },
     "execution_count": 131,
     "metadata": {},
     "output_type": "execute_result"
    }
   ],
   "source": [
    "not False"
   ]
  },
  {
   "attachments": {
    "00981d59-b53e-487b-9958-df32df5f9e08.png": {
     "image/png": "[encoded data removed]"
    }
   },
   "cell_type": "markdown",
   "id": "1d2a482e-90be-4951-8f7b-b62e90b1b56f",
   "metadata": {},
   "source": [
    "![image.png](attachment:00981d59-b53e-487b-9958-df32df5f9e08.png)"
   ]
  },
  {
   "cell_type": "code",
   "execution_count": 150,
   "id": "07311091-2a6b-4575-852a-22eb843c2ede",
   "metadata": {},
   "outputs": [
    {
     "name": "stdout",
     "output_type": "stream",
     "text": [
      "Welcome to the rollercoaster!\n"
     ]
    },
    {
     "name": "stdin",
     "output_type": "stream",
     "text": [
      "What is your height in cm? 120\n"
     ]
    },
    {
     "name": "stdout",
     "output_type": "stream",
     "text": [
      "You can ride the rollercoaster!\n"
     ]
    },
    {
     "name": "stdin",
     "output_type": "stream",
     "text": [
      "What is your age? 40\n"
     ]
    },
    {
     "name": "stdout",
     "output_type": "stream",
     "text": [
      "Please pay $12.\n"
     ]
    },
    {
     "name": "stdin",
     "output_type": "stream",
     "text": [
      "Do you want to have a photo taken? Type 'y' for Yes or 'n' for No:  y\n"
     ]
    },
    {
     "name": "stdout",
     "output_type": "stream",
     "text": [
      "Your final bill is $15.\n"
     ]
    }
   ],
   "source": [
    "print(\"Welcome to the rollercoaster!\")\n",
    "height = int(input(\"What is your height in cm?\"))\n",
    "bill = 0\n",
    "\n",
    "if height >= 120:\n",
    "    print(\"You can ride the rollercoaster!\")\n",
    "    age = int(input(\"What is your age?\"))\n",
    "    \n",
    "    if age < 12:\n",
    "        bill = 5\n",
    "    elif 12 < age < 18:\n",
    "        bill = 7\n",
    "    elif age >= 45 and age <= 55:\n",
    "    # elif 45 >= age <= 55:\n",
    "        print(\"Everything is going to be Ok, Have a free ride on us!\")\n",
    "    else:\n",
    "        bill = 12\n",
    "    \n",
    "    print(f\"Please pay ${bill}.\")\n",
    "    \n",
    "    wants_photo = input(\"Do you want to have a photo taken? Type 'y' for Yes or 'n' for No: \").strip().lower()\n",
    "    if wants_photo == \"y\":\n",
    "        if age > 45 and age < 65:\n",
    "            bill += 0\n",
    "        else:\n",
    "            bill += 3\n",
    "    \n",
    "    print(f\"Your final bill is ${bill}.\")\n",
    "else:\n",
    "    print(\"Sorry, you have to grow taller before you can ride.\")\n"
   ]
  },
  {
   "cell_type": "code",
   "execution_count": 154,
   "id": "385a2527-c5ee-449d-a980-5adabd5eb1e1",
   "metadata": {},
   "outputs": [
    {
     "data": {
      "text/plain": [
       "True"
      ]
     },
     "execution_count": 154,
     "metadata": {},
     "output_type": "execute_result"
    }
   ],
   "source": [
    "False or True or False"
   ]
  },
  {
   "cell_type": "code",
   "execution_count": 168,
   "id": "5d669033-25e6-4fbc-b448-08d64b9d5559",
   "metadata": {},
   "outputs": [
    {
     "data": {
      "text/plain": [
       "False"
      ]
     },
     "execution_count": 168,
     "metadata": {},
     "output_type": "execute_result"
    }
   ],
   "source": [
    "not 5 == 5"
   ]
  },
  {
   "attachments": {
    "51927d4d-fb64-4c28-8e8d-181e93248214.png": {
     "image/png": "[encoded data removed]"
    }
   },
   "cell_type": "markdown",
   "id": "8c4e8f22-715d-4b48-a375-0c967b86961c",
   "metadata": {},
   "source": [
    "### Treasure Island Project\n",
    "\n",
    "![image.png](attachment:51927d4d-fb64-4c28-8e8d-181e93248214.png)"
   ]
  },
  {
   "cell_type": "code",
   "execution_count": 232,
   "id": "fc97c194-0e63-42f0-9d5b-c77e04de5b4c",
   "metadata": {},
   "outputs": [
    {
     "name": "stdout",
     "output_type": "stream",
     "text": [
      "\n",
      "*******************************************************************************\n",
      "          |                   |                  |                     |\n",
      " _________|________________.=\"\"_;=.______________|_____________________|_______\n",
      "|                   |  ,-\"_,=\"\"     `\"=.|                  |\n",
      "|___________________|__\"=._o`\"-._        `\"=.______________|___________________\n",
      "          |                `\"=._o`\"=._      _`\"=._                     |\n",
      " _________|_____________________:=._o \"=._.\"_.-=\"'\"=.__________________|_______\n",
      "|                   |    __.--\" , ; `\"=._o.\" ,-\"\"\"-._ \".   |\n",
      "|___________________|_._\"  ,. .` ` `` ,  `\"-._\"-._   \". '__|___________________\n",
      "          |           |o`\"=._` , \"` `; .\". ,  \"-._\"-._; ;              |\n",
      " _________|___________| ;`-.o`\"=._; .\" ` '`.\"` . \"-._ /_______________|_______\n",
      "|                   | |o;    `\"-.o`\"=._``  '` \" ,__.--o;   |\n",
      "|___________________|_| ;     (#) `-.o `\"=.`_.--\"_o.-; ;___|___________________\n",
      "____/______/______/___|o;._    \"      `\".o|o_.--\"    ;o;____/______/______/____\n",
      "/______/______/______/_\"=._o--._        ; | ;        ; ;/______/______/______/_\n",
      "____/______/______/______/__\"=._o--._   ;o|o;     _._;o;____/______/______/____\n",
      "/______/______/______/______/____\"=._o._; | ;_.--\"o.--\"_/______/______/______/_\n",
      "____/______/______/______/______/_____\"=.o|o_.--\"\"___/______/______/______/____\n",
      "/______/______/______/______/______/______/______/______/______/______/\n",
      "*******************************************************************************\n",
      "\n",
      "Welcome to Treasure Island.\n",
      "Your mission is to find the treasure.\n"
     ]
    },
    {
     "name": "stdin",
     "output_type": "stream",
     "text": [
      "You're at a crossroad, where do you want to go? \"left\" or \"right\" \n",
      " left\n",
      "You've come to a lake. There is an island in the  middle of the lake. Type \"wait\" to wait for a boat or \"swim\" to swim across. \n",
      " wait\n",
      "You arrived at the island unharmed.  There is house with 3 doors. One red,  one yellow and one blue. Which colour do you choose? \n",
      " yellow\n"
     ]
    },
    {
     "name": "stdout",
     "output_type": "stream",
     "text": [
      "You found the treasure. You Win!\n"
     ]
    }
   ],
   "source": [
    "# https://ascii.co.uk/art\n",
    "print('''\n",
    "*******************************************************************************\n",
    "          |                   |                  |                     |\n",
    " _________|________________.=\"\"_;=.______________|_____________________|_______\n",
    "|                   |  ,-\"_,=\"\"     `\"=.|                  |\n",
    "|___________________|__\"=._o`\"-._        `\"=.______________|___________________\n",
    "          |                `\"=._o`\"=._      _`\"=._                     |\n",
    " _________|_____________________:=._o \"=._.\"_.-=\"'\"=.__________________|_______\n",
    "|                   |    __.--\" , ; `\"=._o.\" ,-\"\"\"-._ \".   |\n",
    "|___________________|_._\"  ,. .` ` `` ,  `\"-._\"-._   \". '__|___________________\n",
    "          |           |o`\"=._` , \"` `; .\". ,  \"-._\"-._; ;              |\n",
    " _________|___________| ;`-.o`\"=._; .\" ` '`.\"` . \"-._ /_______________|_______\n",
    "|                   | |o;    `\"-.o`\"=._``  '` \" ,__.--o;   |\n",
    "|___________________|_| ;     (#) `-.o `\"=.`_.--\"_o.-; ;___|___________________\n",
    "____/______/______/___|o;._    \"      `\".o|o_.--\"    ;o;____/______/______/____\n",
    "/______/______/______/_\"=._o--._        ; | ;        ; ;/______/______/______/_\n",
    "____/______/______/______/__\"=._o--._   ;o|o;     _._;o;____/______/______/____\n",
    "/______/______/______/______/____\"=._o._; | ;_.--\"o.--\"_/______/______/______/_\n",
    "____/______/______/______/______/_____\"=.o|o_.--\"\"___/______/______/______/____\n",
    "/______/______/______/______/______/______/______/______/______/______/\n",
    "*******************************************************************************\n",
    "''')\n",
    "print(\"Welcome to Treasure Island.\")\n",
    "print(\"Your mission is to find the treasure.\")\n",
    "choice1 = input('You\\'re at a crossroad, where do you want to go?'\n",
    "                ' \"left\" or \"right\" \\n').lower()\n",
    "\n",
    "if choice1 == \"left\":\n",
    "    # Continue the game\n",
    "    choice2 = input('You\\'ve come to a lake. There is an island in the '\n",
    "                    ' middle of the lake. '\n",
    "                    'Type \"wait\" to wait for a boat or \"swim\" to swim across. \\n').lower()\n",
    "    if choice2 == \"wait\":\n",
    "        # game will continue\n",
    "        choice3 = input('You arrived at the island unharmed. '\n",
    "                        ' There is house with 3 doors. One red, '\n",
    "                        ' one yellow and one blue. Which colour do you choose? \\n').lower()\n",
    "        if choice3 == \"red\":\n",
    "            print(\"It's a room full of fire. Game Over.\")\n",
    "        elif choice3 == \"yellow\":\n",
    "            print(\"You found the treasure. You Win!\")\n",
    "        elif choice3 == \"blue\":\n",
    "            print(\"You enter a room of beasts. Game Over.\")\n",
    "        else:\n",
    "            print(\"You choose a door that doesn't exist. Game Over.\")\n",
    "    else:\n",
    "        print(\"You got attacked by angry trout. Game Over.\")\n",
    "\n",
    "else:\n",
    "    print(\"You fell in to a hole. Game Over.\")"
   ]
  }
 ],
 "metadata": {
  "kernelspec": {
   "display_name": "Python 3 (ipykernel)",
   "language": "python",
   "name": "python3"
  },
  "language_info": {
   "codemirror_mode": {
    "name": "ipython",
    "version": 3
   },
   "file_extension": ".py",
   "mimetype": "text/x-python",
   "name": "python",
   "nbconvert_exporter": "python",
   "pygments_lexer": "ipython3",
   "version": "3.12.4"
  }
 },
 "nbformat": 4,
 "nbformat_minor": 5
}
