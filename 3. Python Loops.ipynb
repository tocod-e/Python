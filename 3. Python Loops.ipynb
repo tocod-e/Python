{
 "cells": [
  {
   "cell_type": "markdown",
   "id": "69442e53-9790-4938-b385-db82262b078d",
   "metadata": {},
   "source": [
    "# Loops\n",
    "In Python, loops are used to execute a block of code repeatedly. There are two main types of loops in Python: `for` loops and `while` loops.\n",
    "\n",
    "Loops allow us to tell the computer to repeat actions without having to write repeated code. If we wanted the computer to print out 1 through to 100, it would be very painful to typ a print statement for every number, or even just typing out all the numbers 1 through to 100, Loops allow us to create a rule and the computer can follow it to d a repeated action.\n",
    "\n",
    "1. **For Loops:**\n",
    "   - For loops are used to iterate over a sequence (such as a list, tuple, string, or range) or any other iterable object.\n",
    "   - The basic syntax of a for loop is:\n",
    "\n",
    "```\n",
    "for item in iterable:\n",
    "         # code block to be executed\n",
    "```     "
   ]
  },
  {
   "cell_type": "markdown",
   "id": "cf6cf860-1d5f-4295-860c-d15599ddc180",
   "metadata": {},
   "source": [
    "   - In this syntax, `item` is a variable that takes the value of each item in the iterable, and the code block is executed for each item in the iterable.\n",
    "\n",
    "   Example:\n",
    "   "
   ]
  },
  {
   "cell_type": "code",
   "execution_count": null,
   "id": "214ffb11-85e8-4bcd-8fdf-a70a377755c1",
   "metadata": {},
   "outputs": [],
   "source": [
    "fruits = [\"apple\", \"banana\", \"cherry\"]\n",
    "for fruit in fruits:\n",
    "    print(fruit)\n",
    "\n",
    "print(fruits)"
   ]
  },
  {
   "cell_type": "markdown",
   "id": "15ef75f6-5faa-4408-ae69-ad2bf3f5383a",
   "metadata": {},
   "source": [
    "### Highest Score Project\n",
    "- Sum\n",
    "\n",
    "  Python has lots of built-in functions to help us work with nmbers. One of them helps us calculate the sum(the total). e.g.\n",
    "```\n",
    "student_scores = [180,124,165,173,189,169,146]\n",
    "total_score = sum(student_scores)\n",
    "```\n",
    "But how does sum() work behind the scense?"
   ]
  },
  {
   "cell_type": "code",
   "execution_count": null,
   "id": "4d33baae-ad63-4bc0-a44f-2562217d0e15",
   "metadata": {},
   "outputs": [],
   "source": [
    "student_scores = [180,124,165,173,189,169,146]\n",
    "total_score = sum(student_scores)\n",
    "print(total_score)"
   ]
  },
  {
   "cell_type": "code",
   "execution_count": null,
   "id": "8ae4d1fb-1507-499a-adc0-945a52231df0",
   "metadata": {},
   "outputs": [],
   "source": [
    "# sum function with loop\n",
    "sum = 0\n",
    "for score in student_scores:\n",
    "    sum += score\n",
    "print(sum)"
   ]
  },
  {
   "cell_type": "code",
   "execution_count": null,
   "id": "5a0650e0-fd72-4ff2-aadf-28e4c4b6c5a4",
   "metadata": {},
   "outputs": [],
   "source": [
    "max_score = max(student_scores)\n",
    "print(max_score)"
   ]
  },
  {
   "cell_type": "code",
   "execution_count": null,
   "id": "c5a98b63-5a4b-467d-94a3-be13d0395ba2",
   "metadata": {},
   "outputs": [],
   "source": [
    "# Max function with loop\n",
    "max_scor = 0\n",
    "for score in student_scores:\n",
    "    if score > max_scor:\n",
    "        max_scor = score\n",
    "print(max_scor)  "
   ]
  },
  {
   "cell_type": "markdown",
   "id": "1bb50f74-e0fd-4df4-983a-3eaf428a4839",
   "metadata": {},
   "source": [
    "\n",
    "The `range()` function in Python is used to generate a sequence of numbers. It can be used in a few different ways:\n",
    "\n",
    "1. `range(stop)`: This generates a sequence of numbers from 0 up to (but not including) the specified `stop` value.\n",
    "\n",
    "2. `range(start, stop)`: This generates a sequence of numbers from the `start` value up to (but not including) the `stop` value.\n",
    "\n",
    "3. `range(start, stop, step)`: This generates a sequence of numbers from the `start` value up to (but not including) the `stop` value, with a specified `step` between each number.\n",
    "\n",
    "For example:\n",
    "- `range(5)` generates the sequence 0, 1, 2, 3, 4\n",
    "- `range(1, 5)` generates the sequence 1, 2, 3, 4\n",
    "- `range(1, 10, 2)` generates the sequence 1, 3, 5, 7, 9\n",
    "\n",
    "It's important to note that the `range()` function itself does not return a list of numbers, but rather a range object. To use the sequence of numbers in a loop or to convert it to a list, you can use the `list()` function, like this: `list(range(5))`.\n",
    "\n",
    "* For loops and the ``range()`` funtion\n",
    "\n",
    "  The combination of the ``range()`` function with the Python For Loop allows us to run a loop for as many times as we wish. Instead of looping through each item in a list, we can loop through a range of numbers.\n",
    "\n",
    "  *Range Function*\n",
    "  \n",
    "  ```\n",
    "    range(1,10)\n",
    "  ```\n",
    "The ange function does not include the last value"
   ]
  },
  {
   "cell_type": "code",
   "execution_count": null,
   "id": "2d860a47-c4d2-4ec2-a07b-7db811aec836",
   "metadata": {},
   "outputs": [],
   "source": [
    "range(5)"
   ]
  },
  {
   "cell_type": "code",
   "execution_count": null,
   "id": "a9623085-e4fa-4e4f-9304-b34484a71911",
   "metadata": {},
   "outputs": [],
   "source": [
    "for x in range(5):\n",
    "    print(x)"
   ]
  },
  {
   "cell_type": "code",
   "execution_count": null,
   "id": "56c8f29e-0af3-4d57-8a0d-9beee8ba201d",
   "metadata": {},
   "outputs": [],
   "source": [
    "for x in range(1,10):\n",
    "    print(x)"
   ]
  },
  {
   "cell_type": "code",
   "execution_count": null,
   "id": "6ef19158-70eb-4773-8144-3e904caf9bfc",
   "metadata": {},
   "outputs": [],
   "source": [
    "range(1,10,2)"
   ]
  },
  {
   "cell_type": "code",
   "execution_count": null,
   "id": "703ceef7-0a72-4719-b7ac-88ffe3e1c204",
   "metadata": {},
   "outputs": [],
   "source": [
    "for x in range(1,10,2):\n",
    "    print(x)"
   ]
  },
  {
   "cell_type": "markdown",
   "id": "3534d678-5e1d-4a06-a916-6c04ee564ede",
   "metadata": {},
   "source": [
    "- The Gauss Challenge"
   ]
  },
  {
   "cell_type": "code",
   "execution_count": null,
   "id": "59e7a5ca-cc0b-4d6a-823a-351096427e66",
   "metadata": {},
   "outputs": [],
   "source": [
    "sum = 0\n",
    "for x in range(1,101):\n",
    "    #print(f\"round: {x}\")\n",
    "    sum += x\n",
    "print(f\"Sum of the Numbers from 0 to 100: {sum}\")"
   ]
  },
  {
   "cell_type": "markdown",
   "id": "ebd00a40-e5ad-4984-a7ab-47cff8a0ba48",
   "metadata": {},
   "source": [
    "- FizzBuzz\n",
    "\r\n",
    "You are going to write a program that automatically prints the solution to the FizzBuzz game. These are the rules of the FizzBuzz game:\n",
    "\n",
    "\r\n",
    "\r\n",
    "Your program should print each number from 1 to 100 in turn and include number00.\r\n",
    "\r\n",
    "\r\n",
    "\r\n",
    "But when the number is divisible by 3 then instead of printing the number it shou*d pr*n\"Fizz\".\r\n",
    "\r\n",
    "\r\n",
    "\r\n",
    "When the number is divisible by 5, then instead of printing the number it *houl* rt \"Buzz\".`\r\n",
    "\r\n",
    "\r\n",
    "\r\n",
    "And if the number is divisible by both 3 and 5 e.g. 15 then instead of the number*it shoul* print \"FizzBuzz\""
   ]
  },
  {
   "cell_type": "code",
   "execution_count": null,
   "id": "c343b1b9-e44d-4782-9631-e04238f75e9c",
   "metadata": {},
   "outputs": [],
   "source": [
    "for x in range(1,101):\n",
    "    if x % 3 == 0 and x % 5 == 0:\n",
    "        print(\"FizzBuzz\")\n",
    "    elif x % 3 == 0:\n",
    "        print(\"Fizz\")\n",
    "    elif x % 5 == 0:\n",
    "        print(\"Buzz\")\n",
    "    else:\n",
    "        print(x)"
   ]
  },
  {
   "cell_type": "markdown",
   "id": "b3560319-dc69-4a6d-8786-0a8c5fcbfb3a",
   "metadata": {},
   "source": [
    "## Password Generator Project"
   ]
  },
  {
   "cell_type": "code",
   "execution_count": null,
   "id": "f327d73b-6354-412c-b334-d60f1c478749",
   "metadata": {},
   "outputs": [],
   "source": [
    "import random\n",
    "lowercase_letters = ['a', 'b', 'c', 'd', 'e', 'f', 'g', 'h', 'i', 'j', 'k', \n",
    "                     'l', 'm', 'n', 'o', 'p', 'q', 'r', 's', 't', 'u', 'v', \n",
    "                     'w', 'x', 'y', 'z']\n",
    "uppercase_letters = ['A', 'B', 'C', 'D', 'E', 'F', 'G', 'H', 'I', 'J', 'K', \n",
    "                     'L', 'M', 'N', 'O', 'P', 'Q', 'R', 'S', 'T', 'U', 'V', \n",
    "                     'W', 'X', 'Y', 'Z']\n",
    "numbers = ['0', '1', '2', '3', '4', '5', '6', '7', '8', '9']\n",
    "symbols = ['!', '#', '$', '%', '&', \"'\", '(', ')', '*', '+', '?', '@']\n",
    "\n",
    "print(\"Welcome to the PyPassword Generator!\")\n",
    "num_low_letters = int(input(\"Haow many lower letters would you like in your password?\\n\"))\n",
    "num_upper_letters = int(input(\"Haow many upper letters would you like in your password?\\n\"))\n",
    "num_symbole = int(input(\"How many symboles would you like?\\n\"))\n",
    "num_numbers = int(input(\"How ,any numbers would you like?\\n\"))\n",
    "\n",
    "password = \"\"\n",
    "for char in range(0, num_low_letters):\n",
    "    password += random.choice(lowercase_letters)\n",
    "for char in range(0, num_upper_letters):\n",
    "    password += random.choice(uppercase_letters)\n",
    "for char in range(0, num_symbole):\n",
    "    password += random.choice(symbols)\n",
    "for char in range(0, num_numbers):\n",
    "    password += random.choice(numbers)\n",
    "print(f\"Password: {password}\")\n",
    "char_list = list(password)\n",
    "random.shuffle(char_list)\n",
    "shuffeld_password = ''.join(char_list)\n",
    "print(f\"Shuffeld_password: {shuffeld_password}\")"
   ]
  },
  {
   "cell_type": "markdown",
   "id": "41a2f11a-5516-490b-967b-ccab0e6fcafb",
   "metadata": {},
   "source": [
    "## Another Way"
   ]
  },
  {
   "cell_type": "code",
   "execution_count": null,
   "id": "054da8af-a31b-4ab6-9c1d-6a5766206aee",
   "metadata": {},
   "outputs": [],
   "source": [
    "import random\n",
    "lowercase_letters = ['a', 'b', 'c', 'd', 'e', 'f', 'g', 'h', 'i', 'j', 'k', \n",
    "                     'l', 'm', 'n', 'o', 'p', 'q', 'r', 's', 't', 'u', 'v', \n",
    "                     'w', 'x', 'y', 'z']\n",
    "uppercase_letters = ['A', 'B', 'C', 'D', 'E', 'F', 'G', 'H', 'I', 'J', 'K', \n",
    "                     'L', 'M', 'N', 'O', 'P', 'Q', 'R', 'S', 'T', 'U', 'V', \n",
    "                     'W', 'X', 'Y', 'Z']\n",
    "numbers = ['0', '1', '2', '3', '4', '5', '6', '7', '8', '9']\n",
    "symbols = ['!', '#', '$', '%', '&', \"'\", '(', ')', '*', '+', '?', '@']\n",
    "\n",
    "print(\"Welcome to the PyPassword Generator!\")\n",
    "num_low_letters = int(input(\"Haow many lower letters would you like in your password?\\n\"))\n",
    "num_upper_letters = int(input(\"Haow many upper letters would you like in your password?\\n\"))\n",
    "num_symbole = int(input(\"How many symboles would you like?\\n\"))\n",
    "num_numbers = int(input(\"How ,any numbers would you like?\\n\"))\n",
    "\n",
    "password = []\n",
    "for char in range(0, num_low_letters):\n",
    "    password.append(random.choice(lowercase_letters))\n",
    "\n",
    "for char in range(0, num_upper_letters):\n",
    "    password.append(random.choice(uppercase_letters))\n",
    "\n",
    "for char in range(0, num_symbole):\n",
    "    password.append(random.choice(symbols))\n",
    "for char in range(0, num_numbers):\n",
    "    password.append(random.choice(numbers))\n",
    "print(f\"Password: {''.join(password)}\")\n",
    "random.shuffle(password)\n",
    "print(f\"Final Password: {''.join(password)}\")"
   ]
  },
  {
   "cell_type": "markdown",
   "id": "b01b4223-821b-42c9-bedb-70708d644d3e",
   "metadata": {},
   "source": [
    "2. **While Loops:**\n",
    "   - While loops are used to execute a block of code as long as a specified condition is true.\n",
    "   - The basic syntax of a while loop is:\n",
    "```\n",
    "    while true_condition:\n",
    "         # code block to be executed\n",
    "```     "
   ]
  },
  {
   "cell_type": "markdown",
   "id": "4de0dec4-5692-43a2-b39b-766be45e4d01",
   "metadata": {},
   "source": [
    "   - In this syntax, the code block is executed repeatedly as long as the `condition` is true.\n",
    "\n",
    "   Example:\n",
    "   "
   ]
  },
  {
   "cell_type": "code",
   "execution_count": null,
   "id": "71407e1e-f44d-47fd-ab44-ca6e73ec6b24",
   "metadata": {},
   "outputs": [],
   "source": [
    "i = 1\n",
    "while i < 6:\n",
    "    print(i)\n",
    "    i += 1"
   ]
  },
  {
   "cell_type": "markdown",
   "id": "20003f66-62f5-442a-9ccc-a77f6d7f98e4",
   "metadata": {},
   "source": [
    "### Guess the Number Game\n",
    "\n",
    "Create a game where the computer randomly selects a number between 1 and 100. The player has to guess the number, and the program gives feedback whether the guess is too high, too low, or correct. The game continues until the player guesses the correct number."
   ]
  },
  {
   "cell_type": "code",
   "execution_count": null,
   "id": "026a3f2c-6c3b-4545-bf88-dca71ea9208c",
   "metadata": {},
   "outputs": [],
   "source": [
    "import random\n",
    "print(\"Welcome to the Guess number Game!\")\n",
    "random_number = random.randint(1,100)\n",
    "#print(random_number)\n",
    "while True:\n",
    "    guess_number = int(input(\"Gass a Number between 1 and 100\"))\n",
    "    if guess_number == random_number:\n",
    "        print(f\"You win! the guess number is: {random_number}\")\n",
    "        break\n",
    "    elif guess_number > random_number:\n",
    "        print(\"Not Correct, Try again a lower Number\")\n",
    "    elif guess_number < random_number:\n",
    "        print(\"Not correct Try agian heighr Number\")\n",
    "    else:\n",
    "        print(\"You intered a Wrong Value!\")"
   ]
  },
  {
   "cell_type": "code",
   "execution_count": null,
   "id": "3eb121fc-86bf-4258-be99-361e6167c5a5",
   "metadata": {},
   "outputs": [],
   "source": [
    "import random\n",
    "number_to_guess = random.randint(1,100)\n",
    "guess = None\n",
    "while guess != number_to_guess:\n",
    "    guess = int(input(\"Guess the number between 1 and 100: \"))\n",
    "    if guess > number_to_guess:\n",
    "        print(\"To heigh! Try again!\")\n",
    "    elif guess < number_to_guess:\n",
    "        print(\"To low, Try again!\")\n",
    "    else:\n",
    "        print(\"Congratulation! You've guessed the correct number.\")"
   ]
  },
  {
   "cell_type": "markdown",
   "id": "905b3caf-2179-423e-93be-fa08f8815044",
   "metadata": {},
   "source": [
    "###  Simple Calculator\n",
    "Develop a calculator that continuously prompts the user to input two numbers and an operation (e.g., addition, subtraction, multiplication, division). The program should keep running until the user decides to quit by typing ``exit``."
   ]
  },
  {
   "cell_type": "code",
   "execution_count": null,
   "id": "f2fc02b1-b8a4-492c-ad4c-009d0039b022",
   "metadata": {},
   "outputs": [],
   "source": [
    "while True:\n",
    "    operaton = input(\"Which Operation do you want to run? (+, -, /, *) or 'Exit' to quit: \")\n",
    "    if operaton.lower() == \"exit\":\n",
    "        print(\"You quit!\")\n",
    "        break\n",
    "    else:\n",
    "        first_number = float(input(\"Inter the first Number: \"))\n",
    "        second_number = float(input(\"Inter the second Number: \"))\n",
    "        if operaton == \"+\":\n",
    "            print(f\"{first_number} + {second_number} = {first_number + second_number}\")\n",
    "        elif operaton == \"-\":\n",
    "            print(f\"{first_number} - {second_number} = {first_number - second_number}\")\n",
    "        elif operaton == \"/\":\n",
    "            print(f\"{first_number} / {second_number} = {first_number / second_number}\")\n",
    "        elif operaton == \"*\":\n",
    "            print(f\"{first_number} * {second_number} = {first_number * second_number}\")\n",
    "        else:\n",
    "            print(\"You have Interd Invalid Input.\")"
   ]
  },
  {
   "cell_type": "markdown",
   "id": "41de95a6-ecff-43a4-b5b7-c94ec68ab576",
   "metadata": {},
   "source": [
    "### User Login System\n",
    "Create a login system where a user has a limited number of attempts (e.g., 3) to enter the correct username and password. The program should continue to prompt the user until they either enter the correct credentials or run out of attempts."
   ]
  },
  {
   "cell_type": "code",
   "execution_count": null,
   "id": "5f8e2bd7-c3e5-40f6-a1e3-e4a9da5d5c8b",
   "metadata": {},
   "outputs": [],
   "source": [
    "correct_username = \"username\"\n",
    "correct_password = \"pass\"\n",
    "attemps = 0\n",
    "max_attemps = 3\n",
    "while attemps < max_attemps:\n",
    "    username = input(\"Enter username: \")\n",
    "    password = input(\"Enter password\")\n",
    "    if username == correct_username and password == correct_password:\n",
    "        print(\"Login Successful!\")\n",
    "        break\n",
    "    else:\n",
    "        print(\"Incorrect username or password.\")\n",
    "        attemps += 1\n",
    "if attemps == max_attemps:\n",
    "    print(\"Too many faild attemps. Acccess denied.\")"
   ]
  },
  {
   "cell_type": "markdown",
   "id": "02114a8f-2d02-46eb-97da-ce97f8432830",
   "metadata": {},
   "source": [
    "### Fibonacci Sequence Generator\n",
    "Write a program that generates the Fibonacci sequence up to a certain number or a certain number of terms. Use a while loop to keep calculating the next term in the sequence until a condition is met."
   ]
  },
  {
   "cell_type": "code",
   "execution_count": null,
   "id": "6c08d9b0-d33d-495a-b714-e7a2dd4f697f",
   "metadata": {},
   "outputs": [],
   "source": [
    "n = int(input(\"Enter the Number of terms in the Fabonacci sequence: \"))\n",
    "a = 0\n",
    "b = 1\n",
    "count = 0\n",
    "while count < n:\n",
    "    print(f\"a: {a}\")\n",
    "    print(f\"B: {b}\")\n",
    "    a = b\n",
    "    b = a + b\n",
    "    print(f\"B after: {b}\")\n",
    "    count +=1"
   ]
  },
  {
   "cell_type": "markdown",
   "id": "aa4d9307-1910-48a1-a716-565b2e2414d6",
   "metadata": {},
   "source": [
    "### Countdown Timer\n",
    "Implement a countdown timer that asks the user to input a number of seconds. The program then counts down from that number to zero, displaying the time left at each second. The timer should stop when it reaches zero."
   ]
  },
  {
   "cell_type": "code",
   "execution_count": null,
   "id": "193b40df-a333-4e98-995e-e57f5036f33c",
   "metadata": {},
   "outputs": [],
   "source": [
    "import time\n",
    "seconds = int(input(\"Enter the number of the seconds for the countdown: \"))\n",
    "while seconds > 0:\n",
    "    print(f\"Time left: {seconds} seconds\")\n",
    "    time.sleep(1)\n",
    "    seconds -= 1\n",
    "print(\"Time's up!\")"
   ]
  },
  {
   "cell_type": "markdown",
   "id": "2d33ca5d-fa4a-45e6-b4c7-cee322ae949b",
   "metadata": {},
   "source": [
    "### Factorial Calculator\n",
    "Build a program that calculates the factorial of a given number. Use a while loop to multiply the numbers in the sequence until the factorial is calculated."
   ]
  },
  {
   "cell_type": "code",
   "execution_count": null,
   "id": "909905c5-c2ad-40ec-8d4d-1ffa6ed52cd0",
   "metadata": {},
   "outputs": [],
   "source": [
    "number = int(input(\"Enter a positive integer: \"))\n",
    "factorial = 1\n",
    "\n",
    "while number > 0:\n",
    "    factorial *= number\n",
    "    number -= 1\n",
    "\n",
    "print(f\"The factorial is: {factorial}\")"
   ]
  },
  {
   "cell_type": "markdown",
   "id": "a6d4b184-7709-4f1c-9851-fbb92bfc36ea",
   "metadata": {},
   "source": [
    "### Sum of Digits\n",
    "Write a program that takes a positive integer input from the user and calculates the sum of its digits. Use a while loop to extract and sum each digit until the number is reduced to zero."
   ]
  },
  {
   "cell_type": "code",
   "execution_count": null,
   "id": "388e415d-daa6-4cb5-b0d9-6b765c8f22bd",
   "metadata": {},
   "outputs": [],
   "source": [
    "number = int(input(\"Enter a positive integer: \"))\n",
    "sum_of_digits = 0\n",
    "\n",
    "while number > 0:\n",
    "    digit = number % 10\n",
    "    sum_of_digits += digit\n",
    "    number //= 10\n",
    "\n",
    "print(f\"The sum of the digits is: {sum_of_digits}\")"
   ]
  },
  {
   "cell_type": "code",
   "execution_count": null,
   "id": "c90fd70d-e133-452c-a936-5ffdf961c5d9",
   "metadata": {},
   "outputs": [],
   "source": [
    "100 / 10"
   ]
  },
  {
   "cell_type": "code",
   "execution_count": null,
   "id": "b99be4c8-45c8-4157-886d-13c697012493",
   "metadata": {},
   "outputs": [],
   "source": [
    "100 // 10"
   ]
  },
  {
   "cell_type": "markdown",
   "id": "f89d8ff9-95d6-4626-adee-92a3fb8a85f6",
   "metadata": {},
   "source": [
    "### Hang man Project"
   ]
  },
  {
   "cell_type": "code",
   "execution_count": null,
   "id": "e09a9ede-c4c3-4d64-abe9-3835075d16d4",
   "metadata": {},
   "outputs": [],
   "source": []
  },
  {
   "cell_type": "code",
   "execution_count": 20,
   "id": "448bd341-fcf0-46ae-a24a-309d7e91e6c3",
   "metadata": {},
   "outputs": [
    {
     "name": "stdout",
     "output_type": "stream",
     "text": [
      " \n",
      "88                                                                            \n",
      "88                                                                            \n",
      "88                                                                            \n",
      "88,dPPYba,  ,adPPYYba, 8b,dPPYba,   ,adPPYb,d8 88,dPYba,,adPYba,  ,adPPYYba,   8b,dPPYba, \n",
      "88P'    \"8a \"\"     `Y8 88P'   `\"8a a8\"    `Y88 88P'   \"88\"    \"8a \"\"     `Y8   88P'   `\"8a \n",
      "88       88 ,adPPPPP88 88       88 8b       88 88      88      88 ,adPPPPP88   88       88  \n",
      "88       88 88,    ,88 88       88 \"8a,   ,d88 88      88      88 88,    ,88   88       88 \n",
      "88       88 `\"8bbdP\"Y8 88       88  `\"YbbdP\"Y8 88      88      88 `\"8bbdP\"Y8   88       88 \n",
      "                                    aa,    ,88                                \n",
      "                                     \"Y8bbdP\"    \n",
      "variable\n",
      "________\n",
      "***************************0/6 LIVES LEFT ***********************\n"
     ]
    },
    {
     "name": "stdin",
     "output_type": "stream",
     "text": [
      "Guess a letter:  h\n"
     ]
    },
    {
     "name": "stdout",
     "output_type": "stream",
     "text": [
      "Word to guess:  ________\n",
      "You guessed h, that's not in the word, You lose a life.\n",
      "\n",
      "  +---+\n",
      "  |   |\n",
      "  O   |\n",
      "      |\n",
      "      |\n",
      "      |\n",
      "=========\n",
      "\n",
      "***************************1/6 LIVES LEFT ***********************\n"
     ]
    },
    {
     "name": "stdin",
     "output_type": "stream",
     "text": [
      "Guess a letter:  d\n"
     ]
    },
    {
     "name": "stdout",
     "output_type": "stream",
     "text": [
      "Word to guess:  ________\n",
      "You guessed d, that's not in the word, You lose a life.\n",
      "\n",
      "  +---+\n",
      "  |   |\n",
      "  O   |\n",
      "  |   |\n",
      "      |\n",
      "      |\n",
      "=========\n",
      "\n",
      "***************************2/6 LIVES LEFT ***********************\n"
     ]
    },
    {
     "name": "stdin",
     "output_type": "stream",
     "text": [
      "Guess a letter:  f\n"
     ]
    },
    {
     "name": "stdout",
     "output_type": "stream",
     "text": [
      "Word to guess:  ________\n",
      "You guessed f, that's not in the word, You lose a life.\n",
      "\n",
      "  +---+\n",
      "  |   |\n",
      "  O   |\n",
      " /|   |\n",
      "      |\n",
      "      |\n",
      "=========\n",
      "\n",
      "***************************3/6 LIVES LEFT ***********************\n"
     ]
    },
    {
     "name": "stdin",
     "output_type": "stream",
     "text": [
      "Guess a letter:  d\n"
     ]
    },
    {
     "name": "stdout",
     "output_type": "stream",
     "text": [
      "Word to guess:  ________\n",
      "You guessed d, that's not in the word, You lose a life.\n",
      "\n",
      "  +---+\n",
      "  |   |\n",
      "  O   |\n",
      " /|\\  |\n",
      "      |\n",
      "      |\n",
      "=========\n",
      "\n",
      "***************************4/6 LIVES LEFT ***********************\n"
     ]
    },
    {
     "name": "stdin",
     "output_type": "stream",
     "text": [
      "Guess a letter:  f\n"
     ]
    },
    {
     "name": "stdout",
     "output_type": "stream",
     "text": [
      "Word to guess:  ________\n",
      "You guessed f, that's not in the word, You lose a life.\n",
      "\n",
      "  +---+\n",
      "  |   |\n",
      "  O   |\n",
      " /|\\  |\n",
      " /    |\n",
      "      |\n",
      "=========\n",
      "\n",
      "***************************5/6 LIVES LEFT ***********************\n"
     ]
    },
    {
     "name": "stdin",
     "output_type": "stream",
     "text": [
      "Guess a letter:  df\n"
     ]
    },
    {
     "name": "stdout",
     "output_type": "stream",
     "text": [
      "Word to guess:  ________\n",
      "You guessed df, that's not in the word, You lose a life.\n",
      "********************** IT WAS variable. You lose!**********************\n",
      "\n",
      "  +---+\n",
      "  |   |\n",
      "  O   |\n",
      " /|\\  |\n",
      " / \\  |\n",
      "      |\n",
      "=========\n"
     ]
    }
   ],
   "source": [
    "import random\n",
    "import hangmanasci\n",
    "from hangaman_words import word_list, logo\n",
    "from hangmanasci import stages\n",
    "\n",
    "print(logo)\n",
    "\n",
    "#word_list = [\"Hello\", \"Berlin\", \"Apple\", \"Orange\", \"Man\", \"Salat\", \"eee\"]\n",
    "HANGMANLIFE = 0\n",
    "chosen_word = random.choice(word_list).lower()\n",
    "print(chosen_word)\n",
    "place_holder = \"\"\n",
    "word_lenght = len(chosen_word)\n",
    "for position in range(word_lenght):\n",
    "    place_holder += \"_\"\n",
    "print(place_holder)\n",
    "game_over = False\n",
    "correct_letters = []\n",
    "\n",
    "while not game_over:\n",
    "    print(f\"***************************{HANGMANLIFE}/6 LIVES LEFT ***********************\")\n",
    "    guess = input(\"Guess a letter: \").lower()\n",
    "\n",
    "   # if guess in correct_letters:\n",
    "        #print(f\"You've already guessed {guess}\")\n",
    "        \n",
    "    display = \"\"\n",
    "    for letter in chosen_word:\n",
    "        if letter == guess:\n",
    "            display += letter\n",
    "            correct_letters.append(letter)\n",
    "        elif letter in correct_letters:\n",
    "            display += letter\n",
    "        else:\n",
    "            display += \"_\"\n",
    "            \n",
    "    print(\"Word to guess: \",display)\n",
    "\n",
    "    if guess not in chosen_word:\n",
    "        HANGMANLIFE += 1\n",
    "        print(f\"You guessed {guess}, that's not in the word, You lose a life.\")\n",
    "        \n",
    "        if HANGMANLIFE == 6:\n",
    "            game_over = True\n",
    "            print(f\"********************** IT WAS {chosen_word}. You lose!**********************\")\n",
    "    if \"_\" not in display:\n",
    "        game_over = True\n",
    "        print(\"*********************You win!.**********************\")\n",
    "\n",
    "    print(stages[HANGMANLIFE])"
   ]
  },
  {
   "cell_type": "markdown",
   "id": "a9f0dc89-fed5-4ae2-a1d5-f4e92a6335e4",
   "metadata": {},
   "source": [
    "### Fuinctions with Outputs:\n",
    "\n",
    "Description:\n",
    "\n",
    "We have seen functions with only an execution body,functions with inputs that allow for variation in execution of the function body and now we'll see the final form of functions. Functions that can have outputs.\n",
    "\n",
    "#### PAUSE 1\n",
    "Create a function called format_name() that takes two inputs: f_name and l_name and return the full name in Title case.\n"
   ]
  },
  {
   "cell_type": "code",
   "execution_count": 22,
   "id": "84e8fb20-d6a0-4598-8e8b-3270ddfb5a0b",
   "metadata": {
    "editable": true,
    "slideshow": {
     "slide_type": ""
    },
    "tags": []
   },
   "outputs": [
    {
     "name": "stdout",
     "output_type": "stream",
     "text": [
      "Mohammed Shareek\n"
     ]
    }
   ],
   "source": [
    "def format_name(x,y):\n",
    "    f_name = x[0].upper() + x[1:].lower()\n",
    "    l_name = y[0].upper() + y[1:].lower()    \n",
    "    full_name = f_name + \" \" + l_name    \n",
    "    return  full_name\n",
    "name = format_name(\"mohAMMed\", \"sharEEk\")\n",
    "print(name)"
   ]
  },
  {
   "cell_type": "code",
   "execution_count": 27,
   "id": "45691ec9-c2dd-40f4-b1cf-16e86b61e823",
   "metadata": {},
   "outputs": [
    {
     "name": "stdout",
     "output_type": "stream",
     "text": [
      "Mohammed Shareek\n"
     ]
    }
   ],
   "source": [
    "def title_case(x,y):\n",
    "    f_name = x.title()\n",
    "    l_name = y.title()\n",
    "    \n",
    "    return f\"{f_name} {l_name}\"\n",
    "\n",
    "full_name = title_case(\"mohammed\", \"SHAREEK\")\n",
    "print(full_name)"
   ]
  },
  {
   "cell_type": "markdown",
   "id": "69202eac-c823-4931-99c2-2e6319f5e53b",
   "metadata": {},
   "source": [
    "### Leep or not Leep Year Challenge:"
   ]
  },
  {
   "cell_type": "code",
   "execution_count": 30,
   "id": "a4e35a13-cbcd-49e4-81a9-a4f2c23adde6",
   "metadata": {},
   "outputs": [],
   "source": [
    "def is_leep_year(year):\n",
    "    if year % 4 == 0:\n",
    "        if year % 100 == 0:\n",
    "            if year % 400 == 0:\n",
    "                return True\n",
    "            else:\n",
    "                return False\n",
    "        else:\n",
    "            return True\n",
    "    else:\n",
    "        return False"
   ]
  },
  {
   "cell_type": "code",
   "execution_count": 31,
   "id": "2bf06a11-e0ac-4a71-ba7b-21d60aed86e0",
   "metadata": {},
   "outputs": [
    {
     "data": {
      "text/plain": [
       "True"
      ]
     },
     "execution_count": 31,
     "metadata": {},
     "output_type": "execute_result"
    }
   ],
   "source": [
    "is_leep_year(2000)"
   ]
  },
  {
   "cell_type": "code",
   "execution_count": 32,
   "id": "3fee5784-20e6-476c-8ad3-aa8518fec53e",
   "metadata": {},
   "outputs": [
    {
     "data": {
      "text/plain": [
       "False"
      ]
     },
     "execution_count": 32,
     "metadata": {},
     "output_type": "execute_result"
    }
   ],
   "source": [
    "is_leep_year(2100)"
   ]
  },
  {
   "cell_type": "code",
   "execution_count": 33,
   "id": "b9b0fea8-09ca-455e-9fe3-71b10d1e4ca2",
   "metadata": {},
   "outputs": [
    {
     "data": {
      "text/plain": [
       "True"
      ]
     },
     "execution_count": 33,
     "metadata": {},
     "output_type": "execute_result"
    }
   ],
   "source": [
    "is_leep_year(2400)"
   ]
  },
  {
   "cell_type": "code",
   "execution_count": 34,
   "id": "af485fe7-fadf-4e10-ad02-b8fa8639c9b7",
   "metadata": {},
   "outputs": [
    {
     "data": {
      "text/plain": [
       "False"
      ]
     },
     "execution_count": 34,
     "metadata": {},
     "output_type": "execute_result"
    }
   ],
   "source": [
    "is_leep_year(1989)"
   ]
  },
  {
   "cell_type": "markdown",
   "id": "7f3fe29c-7140-41b7-90eb-45f8de6de209",
   "metadata": {},
   "source": [
    "### Docstrings"
   ]
  },
  {
   "cell_type": "code",
   "execution_count": null,
   "id": "608a56dd-7308-441a-8c59-3d9040106051",
   "metadata": {},
   "outputs": [],
   "source": []
  }
 ],
 "metadata": {
  "kernelspec": {
   "display_name": "anaconda-ai-2024.04-py310",
   "language": "python",
   "name": "conda-env-anaconda-ai-2024.04-py310-py"
  },
  "language_info": {
   "codemirror_mode": {
    "name": "ipython",
    "version": 3
   },
   "file_extension": ".py",
   "mimetype": "text/x-python",
   "name": "python",
   "nbconvert_exporter": "python",
   "pygments_lexer": "ipython3",
   "version": "3.10.13"
  },
  "widgets": {
   "application/vnd.jupyter.widget-state+json": {
    "state": {},
    "version_major": 2,
    "version_minor": 0
   }
  }
 },
 "nbformat": 4,
 "nbformat_minor": 5
}
