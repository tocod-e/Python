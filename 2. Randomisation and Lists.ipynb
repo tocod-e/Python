{
 "cells": [
  {
   "cell_type": "markdown",
   "id": "ca285ddc-a057-48e9-8b04-79d28274aa57",
   "metadata": {
    "editable": true,
    "slideshow": {
     "slide_type": ""
    },
    "tags": []
   },
   "source": [
    "### Random Mmodule\n",
    "The `random` module in Python provides functions for generating random numbers, as well as performing random selections and shuffling sequences. This module is useful for tasks such as generating random numbers for simulations, games, or statistical sampling.\n",
    "\n",
    "The `random` module includes various functions, such as:\n",
    "- `random.random()`: Returns a random floating point number in the range [0.0, 1.0).\n",
    "- `random.randint(a, b)`: Returns a random integer N such that a <= N <= b.\n",
    "- `random.choice(seq)`: Returns a random element from the non-empty sequence `seq`.\n",
    "- `random.shuffle(seq)`: Shuffles the sequence `seq` in place.\n",
    "\n",
    "If you need to work with random numbers or perform random selections in your Python code, the `random` module is the go-to package for these tasks."
   ]
  },
  {
   "cell_type": "code",
   "execution_count": 52,
   "id": "b9c9c106-84ce-49d9-8290-5fd26d4956f5",
   "metadata": {},
   "outputs": [
    {
     "name": "stdout",
     "output_type": "stream",
     "text": [
      "3\n"
     ]
    }
   ],
   "source": [
    "import random \n",
    "random_integer = random.randint(1,10)\n",
    "print(random_integer)"
   ]
  },
  {
   "cell_type": "code",
   "execution_count": 54,
   "id": "1f14bd64-021a-4530-93c2-081f461329cc",
   "metadata": {},
   "outputs": [
    {
     "name": "stdout",
     "output_type": "stream",
     "text": [
      "3.1415\n"
     ]
    }
   ],
   "source": [
    "import my_module\n",
    "print(my_module.my_favourite_number)"
   ]
  },
  {
   "cell_type": "markdown",
   "id": "04b236cc-d748-420c-8c5b-37ad9b77504d",
   "metadata": {},
   "source": [
    "# Explination\n",
    "The selected code generates random numbers using the `random` module and prints the results. Here's a breakdown of the selected code:\n",
    "\n",
    "1. `import random as rn` - This line imports the `random` module and gives it the alias `rn` for easier reference.\n",
    "\n",
    "2. `random_number_0_to_1 = rn.random()` - This line calls the `random()` function from the `random` module to generate a random floating point number between 0 and 1 (excluding 1) and assigns it to the variable `random_number_0_to_1`.\n",
    "\n",
    "3. `print(random_number_0_to_1)` - This line prints the value of `random_number_0_to_1`.\n",
    "\n",
    "4. `random_number_0_to_10 = rn.random() * 10` - This line generates a random floating point number between 0 and 10 (excluding 10) by multiplying the result of `rn.random()` by 10 and assigns it to the variable `random_number_0_to_10`.\n",
    "\n",
    "5. `print(random_number_0_to_10)` - This line prints the value of `random_number_0_to_10`."
   ]
  },
  {
   "cell_type": "code",
   "execution_count": 56,
   "id": "7f51864f-054a-43ea-bf9b-a0fc0ac310b8",
   "metadata": {},
   "outputs": [
    {
     "name": "stdout",
     "output_type": "stream",
     "text": [
      "0.7749191519484953\n",
      "3.6591244608232465\n"
     ]
    }
   ],
   "source": [
    "import random as rn\n",
    "random_number_0_to_1 = rn.random()\n",
    "print(random_number_0_to_1)\n",
    "random_number_0_to_10 = rn.random() * 10\n",
    "print(random_number_0_to_10)"
   ]
  },
  {
   "cell_type": "code",
   "execution_count": 62,
   "id": "4f552b72-45d5-4584-8592-ec82b265f858",
   "metadata": {},
   "outputs": [
    {
     "name": "stdout",
     "output_type": "stream",
     "text": [
      "9.844332860071898\n"
     ]
    }
   ],
   "source": [
    "random_float = rn.uniform(1,10)\n",
    "print(random_float)"
   ]
  },
  {
   "cell_type": "markdown",
   "id": "1676db97-e674-43e5-9fee-1d68a2eaaac1",
   "metadata": {},
   "source": [
    "## Explination\n",
    "The code generates a random floating-point number between 1 and 10 using the `uniform()` function from the `random` module and then prints the generated random number.\n",
    "\n",
    "Here's a step-by-step explanation of the selected code:\n",
    "\n",
    "1. `random_float = rn.uniform(1,10)` - This line calls the `uniform()` function from the `random` module to generate a random floating-point number between 1 and 10. The result is assigned to the variable `random_float`.\n",
    "\n",
    "2. `print(random_float)` - This line prints the value of the `random_float` variable, which is the generated random number."
   ]
  },
  {
   "cell_type": "markdown",
   "id": "958b5397-10a1-4b32-8168-8ffe3e710160",
   "metadata": {},
   "source": [
    "### Excersice\n",
    "- Create a coin flip program using what you have learnt about randomisation. It should randomly print `Heads` or `Tails` every timee itis run"
   ]
  },
  {
   "cell_type": "code",
   "execution_count": 74,
   "id": "b889be5b-0276-4c65-84f3-72680cb7f4b4",
   "metadata": {},
   "outputs": [
    {
     "name": "stdout",
     "output_type": "stream",
     "text": [
      "Tails\n"
     ]
    }
   ],
   "source": [
    "random_heads_or_tails = rn.randint(0,1)\n",
    "if random_heads_or_tails == 0:\n",
    "    print(\"Heads\")\n",
    "else:\n",
    "    print(\"Tails\")"
   ]
  },
  {
   "cell_type": "markdown",
   "id": "6316de6b-4956-4217-9fcd-afbece00c917",
   "metadata": {},
   "source": [
    "# List\n",
    "In Python, a list is a data structure that is used to store a collection of items. Lists are ordered, mutable, and can contain elements of different data types, including other lists. \n",
    "\n",
    "To create a list in Python, you can use square brackets and separate the elements with commas. For example:"
   ]
  },
  {
   "cell_type": "code",
   "execution_count": 99,
   "id": "737b4d49-2481-443e-acf9-be1746e02f58",
   "metadata": {},
   "outputs": [
    {
     "name": "stdout",
     "output_type": "stream",
     "text": [
      "[1, 2, 3, 4, 5]\n"
     ]
    }
   ],
   "source": [
    "my_list = [1, 2, 3, 4, 5]\n",
    "print(my_list)"
   ]
  },
  {
   "cell_type": "markdown",
   "id": "06cc53ab-db0d-4fde-ade0-e298dfdeb032",
   "metadata": {},
   "source": [
    "\n",
    "Lists can also be nested, meaning a list can contain other lists as elements. For example:"
   ]
  },
  {
   "cell_type": "code",
   "execution_count": 101,
   "id": "4a5d2334-1681-4f67-9986-813bbf06dcb2",
   "metadata": {},
   "outputs": [
    {
     "name": "stdout",
     "output_type": "stream",
     "text": [
      "[1, 2, [3, 4, 5], 6, 7]\n"
     ]
    }
   ],
   "source": [
    "nested_list = [1, 2, [3, 4, 5], 6, 7]\n",
    "print(nested_list)"
   ]
  },
  {
   "cell_type": "markdown",
   "id": "18890434-4b11-46bf-ac34-26f02273fe8f",
   "metadata": {},
   "source": [
    "\n",
    "To access elements in a list, you can use indexing. Indexing in Python starts at 0, so the first element of a list has an index of 0. For example:"
   ]
  },
  {
   "cell_type": "code",
   "execution_count": 104,
   "id": "4a0e9b1c-2f64-4e80-8dbf-9b71f360ed47",
   "metadata": {},
   "outputs": [
    {
     "name": "stdout",
     "output_type": "stream",
     "text": [
      "1\n"
     ]
    }
   ],
   "source": [
    "print(my_list[0])  # Output: 1"
   ]
  },
  {
   "cell_type": "markdown",
   "id": "149c1818-224e-4eeb-b0d3-6f13c9a409e6",
   "metadata": {},
   "source": [
    "\n",
    "Lists in Python are mutable, which means you can change the elements of a list after it has been created. You can add elements to a list, remove elements from a list, or modify the elements in a list.\n",
    "\n",
    "Python provides several built-in functions and methods for working with lists, such as `append()`, `extend()`, `insert()`, `remove()`, `pop()`, `index()`, `count()`, `sort()`, and `reverse()`."
   ]
  },
  {
   "cell_type": "code",
   "execution_count": 43,
   "id": "d568ee0f-d17e-428d-b462-b0d5d7e396c7",
   "metadata": {},
   "outputs": [
    {
     "name": "stdout",
     "output_type": "stream",
     "text": [
      "Arizona\n",
      "Wyoming\n",
      "y\n"
     ]
    }
   ],
   "source": [
    "us_states = [\"Alabama\", \"Alaska\", \"Arizona\", \"Arkansas\", \"California\",\n",
    "             \"Colorado\", \"Connecticut\", \"Delaware\", \"Florida\", \"Georgia\", \n",
    "             \"Hawaii\", \"Idaho\", \"Illinois\", \"Indiana\", \"Iowa\", \"Kansas\", \n",
    "             \"Kentucky\", \"Louisiana\", \"Maine\", \"Maryland\", \"Massachusetts\", \n",
    "             \"Michigan\", \"Minnesota\", \"Mississippi\", \"Missouri\", \"Montana\", \n",
    "             \"Nebraska\", \"Nevada\", \"New Hampshire\", \"New Jersey\", \"New Mexico\", \n",
    "             \"New York\", \"North Carolina\", \"North Dakota\", \"Ohio\", \"Oklahoma\", \n",
    "             \"Oregon\", \"Pennsylvania\", \"Rhode Island\", \"South Carolina\", \n",
    "             \"South Dakota\", \"Tennessee\", \"Texas\", \"Utah\", \"Vermont\", \"Virginia\", \n",
    "             \"Washington\", \"West Virginia\", \"Wisconsin\", \"Wyoming\"]\n",
    "print(us_states[2])\n",
    "print(us_states[-1])\n",
    "print(us_states[-1][1])"
   ]
  },
  {
   "cell_type": "code",
   "execution_count": 45,
   "id": "f0d4f60a-6632-499c-8172-fab96d02a97b",
   "metadata": {},
   "outputs": [
    {
     "name": "stdout",
     "output_type": "stream",
     "text": [
      "Berlin\n"
     ]
    }
   ],
   "source": [
    "# Assign the value \"Berlin\" to the second element of the list us_states\n",
    "us_states[1] = \"Berlin\"\n",
    "# Print the updated value of the second element of the list\n",
    "print(us_states[1])"
   ]
  },
  {
   "cell_type": "code",
   "execution_count": 47,
   "id": "c42df92e-dec5-4528-8a1a-8366ca858f49",
   "metadata": {},
   "outputs": [
    {
     "name": "stdout",
     "output_type": "stream",
     "text": [
      "['Alabama', 'Berlin', 'Arizona', 'Arkansas', 'California', 'Colorado', 'Connecticut', 'Delaware', 'Florida', 'Georgia', 'Hawaii', 'Idaho', 'Illinois', 'Indiana', 'Iowa', 'Kansas', 'Kentucky', 'Louisiana', 'Maine', 'Maryland', 'Massachusetts', 'Michigan', 'Minnesota', 'Mississippi', 'Missouri', 'Montana', 'Nebraska', 'Nevada', 'New Hampshire', 'New Jersey', 'New Mexico', 'New York', 'North Carolina', 'North Dakota', 'Ohio', 'Oklahoma', 'Oregon', 'Pennsylvania', 'Rhode Island', 'South Carolina', 'South Dakota', 'Tennessee', 'Texas', 'Utah', 'Vermont', 'Virginia', 'Washington', 'West Virginia', 'Wisconsin', 'Wyoming']\n"
     ]
    }
   ],
   "source": [
    "print(us_states)"
   ]
  },
  {
   "cell_type": "code",
   "execution_count": 49,
   "id": "d64d5c91-b6a1-4e0c-a6ab-0758ab0d4031",
   "metadata": {},
   "outputs": [],
   "source": [
    "# Append the string \"Stuttgart\" to the list us_states and store the result in the variable add_stat\n",
    "add_stat = us_states.append(\"Stuttgart\")"
   ]
  },
  {
   "cell_type": "code",
   "execution_count": 51,
   "id": "e9d6ab9e-f599-4c43-af20-617c3f885d4e",
   "metadata": {},
   "outputs": [
    {
     "name": "stdout",
     "output_type": "stream",
     "text": [
      "['Alabama', 'Berlin', 'Arizona', 'Arkansas', 'California', 'Colorado', 'Connecticut', 'Delaware', 'Florida', 'Georgia', 'Hawaii', 'Idaho', 'Illinois', 'Indiana', 'Iowa', 'Kansas', 'Kentucky', 'Louisiana', 'Maine', 'Maryland', 'Massachusetts', 'Michigan', 'Minnesota', 'Mississippi', 'Missouri', 'Montana', 'Nebraska', 'Nevada', 'New Hampshire', 'New Jersey', 'New Mexico', 'New York', 'North Carolina', 'North Dakota', 'Ohio', 'Oklahoma', 'Oregon', 'Pennsylvania', 'Rhode Island', 'South Carolina', 'South Dakota', 'Tennessee', 'Texas', 'Utah', 'Vermont', 'Virginia', 'Washington', 'West Virginia', 'Wisconsin', 'Wyoming', 'Stuttgart']\n"
     ]
    }
   ],
   "source": [
    "print(us_states)"
   ]
  },
  {
   "cell_type": "code",
   "execution_count": 53,
   "id": "4fc38970-377b-446a-a76f-1b236625ae3b",
   "metadata": {},
   "outputs": [],
   "source": [
    "# Extend the list us_states with multiple strings representing other names\n",
    "us_states.extend([\"Kiel\", \"Munich\", \"Leipzig\"])"
   ]
  },
  {
   "cell_type": "code",
   "execution_count": 55,
   "id": "6dd2f7f1-c64e-4829-9aed-4dd8269cb27d",
   "metadata": {},
   "outputs": [
    {
     "name": "stdout",
     "output_type": "stream",
     "text": [
      "['Alabama', 'Berlin', 'Arizona', 'Arkansas', 'California', 'Colorado', 'Connecticut', 'Delaware', 'Florida', 'Georgia', 'Hawaii', 'Idaho', 'Illinois', 'Indiana', 'Iowa', 'Kansas', 'Kentucky', 'Louisiana', 'Maine', 'Maryland', 'Massachusetts', 'Michigan', 'Minnesota', 'Mississippi', 'Missouri', 'Montana', 'Nebraska', 'Nevada', 'New Hampshire', 'New Jersey', 'New Mexico', 'New York', 'North Carolina', 'North Dakota', 'Ohio', 'Oklahoma', 'Oregon', 'Pennsylvania', 'Rhode Island', 'South Carolina', 'South Dakota', 'Tennessee', 'Texas', 'Utah', 'Vermont', 'Virginia', 'Washington', 'West Virginia', 'Wisconsin', 'Wyoming', 'Stuttgart', 'Kiel', 'Munich', 'Leipzig']\n"
     ]
    }
   ],
   "source": [
    "print(us_states)"
   ]
  },
  {
   "cell_type": "code",
   "execution_count": 57,
   "id": "6ecd195f-6e33-4800-94d1-c58ee4e7aad8",
   "metadata": {},
   "outputs": [
    {
     "name": "stdout",
     "output_type": "stream",
     "text": [
      "[1, 2, 3, 4, 5]\n"
     ]
    }
   ],
   "source": [
    "# Creating a list\n",
    "my_list = [1, 2, 3, 4, 5]\n",
    "print(my_list)"
   ]
  },
  {
   "cell_type": "markdown",
   "id": "3cf6089e-e507-401d-8b92-e076ae27ac66",
   "metadata": {},
   "source": [
    "Explanations of list functions followed by the corresponding code to run as separate code cells:\n",
    "\n",
    "Explanation of list function: Append\n",
    "- The append() function adds a single element to the end of the list."
   ]
  },
  {
   "cell_type": "code",
   "execution_count": 60,
   "id": "54663944-7e8c-4025-87f6-8c0bca627ec2",
   "metadata": {},
   "outputs": [
    {
     "name": "stdout",
     "output_type": "stream",
     "text": [
      "[1, 2, 3, 4, 5, 6]\n"
     ]
    }
   ],
   "source": [
    "# Appending an element to the list\n",
    "my_list.append(6)\n",
    "print(my_list)\n",
    "# Result: [1, 2, 3, 4, 5, 6]"
   ]
  },
  {
   "cell_type": "markdown",
   "id": "8d6ae13c-4aa9-473c-b801-eefa6aba2e3d",
   "metadata": {},
   "source": [
    "\n",
    "Explanation of list function: Extend\n",
    "- The extend() function adds multiple elements (in the form of a list) to the end of the list.\n"
   ]
  },
  {
   "cell_type": "code",
   "execution_count": 63,
   "id": "eb9e1c7c-5cda-4401-bbde-655ac29a209a",
   "metadata": {},
   "outputs": [
    {
     "name": "stdout",
     "output_type": "stream",
     "text": [
      "[1, 2, 3, 4, 5, 6, 7, 8, 9]\n"
     ]
    }
   ],
   "source": [
    "# Extending the list with another list\n",
    "my_list.extend([7, 8, 9])\n",
    "print(my_list)\n",
    "# Result: [1, 2, 3, 4, 5, 6, 7, 8, 9]"
   ]
  },
  {
   "cell_type": "markdown",
   "id": "f86f3b96-8a7e-40a7-bc0a-a1180c22ac92",
   "metadata": {},
   "source": [
    "\n",
    "Explanation of list function: Insert\n",
    "- The insert() function inserts an element at a specific index in the list.\n"
   ]
  },
  {
   "cell_type": "code",
   "execution_count": 66,
   "id": "c63ad3ff-0385-4595-9a90-57ed10c2ea72",
   "metadata": {},
   "outputs": [
    {
     "name": "stdout",
     "output_type": "stream",
     "text": [
      "[1, 2, 3, 10, 4, 5, 6, 7, 8, 9]\n"
     ]
    }
   ],
   "source": [
    "# Inserting an element at a specific index\n",
    "my_list.insert(3, 10)\n",
    "print(my_list)\n",
    "# Result: [1, 2, 3, 10, 4, 5, 6, 7, 8, 9]"
   ]
  },
  {
   "cell_type": "markdown",
   "id": "3bc6861a-9f7a-4148-a553-2024cddc8602",
   "metadata": {},
   "source": [
    "\n",
    "Explanation of list function: Remove\n",
    "- The remove() function removes the first occurrence of a value from the list.\n"
   ]
  },
  {
   "cell_type": "code",
   "execution_count": 69,
   "id": "029d586b-0c9f-4a34-9693-971e1433ed0a",
   "metadata": {},
   "outputs": [
    {
     "name": "stdout",
     "output_type": "stream",
     "text": [
      "[1, 2, 10, 4, 5, 6, 7, 8, 9]\n"
     ]
    }
   ],
   "source": [
    "# Removing the first occurrence of a value\n",
    "my_list.remove(3)\n",
    "print(my_list)\n",
    "# Result: [1, 2, 10, 4, 5, 6, 7, 8, 9]"
   ]
  },
  {
   "cell_type": "markdown",
   "id": "8ce671f5-45f0-4a16-986a-c88f097624af",
   "metadata": {},
   "source": [
    "\n",
    "Explanation of list function: Pop\n",
    "- The pop() function removes and returns the last element from the list.\n"
   ]
  },
  {
   "cell_type": "code",
   "execution_count": 72,
   "id": "75515080-c430-448b-8d48-c5af69467a2a",
   "metadata": {},
   "outputs": [
    {
     "name": "stdout",
     "output_type": "stream",
     "text": [
      "9\n",
      "[1, 2, 10, 4, 5, 6, 7, 8]\n"
     ]
    }
   ],
   "source": [
    "# Popping an element from the list\n",
    "popped_element = my_list.pop()\n",
    "print(popped_element)\n",
    "print(my_list)\n",
    "# Result: popped_element = 9, my_list = [1, 2, 10, 4, 5, 6, 7, 8]"
   ]
  },
  {
   "cell_type": "markdown",
   "id": "d5ee5add-89dc-401a-b152-3601f056ab98",
   "metadata": {},
   "source": [
    "\n",
    "Explanation of list function: Count\n",
    "- The count() function returns the number of occurrences of a value in the list.\n"
   ]
  },
  {
   "cell_type": "code",
   "execution_count": 75,
   "id": "49505688-eefc-4607-a7a3-b470fdd75499",
   "metadata": {},
   "outputs": [
    {
     "name": "stdout",
     "output_type": "stream",
     "text": [
      "1\n",
      "[1, 2, 10, 4, 5, 6, 7, 8]\n"
     ]
    }
   ],
   "source": [
    "# Counting occurrences of a value in the list\n",
    "count_of_2 = my_list.count(2)\n",
    "print(count_of_2)\n",
    "print(my_list)\n",
    "# Result: count_of_2 = 1"
   ]
  },
  {
   "cell_type": "markdown",
   "id": "e2cbbafc-a574-4afe-bcc0-836e81fcf0bd",
   "metadata": {},
   "source": [
    "\n",
    "Explanation of list function: Index\n",
    "- The index() function returns the index of the first occurrence of a value in the list.\n"
   ]
  },
  {
   "cell_type": "code",
   "execution_count": 78,
   "id": "3932a3bf-af5c-4b02-93ee-f392874a6baf",
   "metadata": {},
   "outputs": [
    {
     "name": "stdout",
     "output_type": "stream",
     "text": [
      "3\n",
      "[1, 2, 10, 4, 5, 6, 7, 8]\n"
     ]
    }
   ],
   "source": [
    "# Finding the index of a value in the list\n",
    "index_of_4 = my_list.index(4)\n",
    "print(index_of_4)\n",
    "print(my_list)\n",
    "# Result: index_of_4 = 3"
   ]
  },
  {
   "cell_type": "markdown",
   "id": "ffda45c8-970b-4aa6-bccb-8d3bc3b4d218",
   "metadata": {},
   "source": [
    "\n",
    "Explanation of list function: Reverse\n",
    "- The reverse() function reverses the elements of the list in place.\n"
   ]
  },
  {
   "cell_type": "code",
   "execution_count": 81,
   "id": "7dc94399-43f1-4960-8ad6-8c9a1f1ad7d1",
   "metadata": {},
   "outputs": [
    {
     "name": "stdout",
     "output_type": "stream",
     "text": [
      "[8, 7, 6, 5, 4, 10, 2, 1]\n"
     ]
    }
   ],
   "source": [
    "# Reversing the list\n",
    "my_list.reverse()\n",
    "print(my_list)\n",
    "# Result: [8, 7, 6, 5, 4, 10, 2, 1]"
   ]
  },
  {
   "cell_type": "markdown",
   "id": "75034322-4881-46a5-b317-1799a1e6be48",
   "metadata": {},
   "source": [
    "\n",
    "Explanation of list function: Sort\n",
    "- The sort() function sorts the elements of the list in place.\n"
   ]
  },
  {
   "cell_type": "code",
   "execution_count": 84,
   "id": "ac798aa5-156f-400c-b3b5-7d1403338841",
   "metadata": {},
   "outputs": [
    {
     "name": "stdout",
     "output_type": "stream",
     "text": [
      "[1, 2, 4, 5, 6, 7, 8, 10]\n"
     ]
    }
   ],
   "source": [
    "# Sorting the list\n",
    "my_list.sort()\n",
    "print(my_list)\n",
    "# Result: [1, 2, 4, 5, 6, 7, 8, 10]"
   ]
  },
  {
   "cell_type": "markdown",
   "id": "7c87c206-4d10-41b5-9491-7422be39cd25",
   "metadata": {},
   "source": [
    "\n",
    "Explanation of list function: Copy\n",
    "- The copy() function returns a shallow copy of the list.\n"
   ]
  },
  {
   "cell_type": "code",
   "execution_count": 87,
   "id": "9777257f-cd10-4eab-9c99-21e87ec51cdd",
   "metadata": {},
   "outputs": [
    {
     "name": "stdout",
     "output_type": "stream",
     "text": [
      "[1, 2, 4, 5, 6, 7, 8, 10]\n"
     ]
    }
   ],
   "source": [
    "# Copying the list\n",
    "copied_list = my_list.copy()\n",
    "print(copied_list)\n",
    "# Result: [1, 2, 4, 5, 6, 7, 8, 10]"
   ]
  },
  {
   "cell_type": "markdown",
   "id": "17d75ddd-e649-4882-9662-cefff086a942",
   "metadata": {},
   "source": [
    "\n",
    "Explanation of list function: Clear\n",
    "- The clear() function removes all elements from the list.\n"
   ]
  },
  {
   "cell_type": "code",
   "execution_count": 90,
   "id": "9df60f83-232b-4fbd-8c3a-9f2b8615cb05",
   "metadata": {},
   "outputs": [
    {
     "name": "stdout",
     "output_type": "stream",
     "text": [
      "[]\n"
     ]
    }
   ],
   "source": [
    "# Clearing all elements from the list\n",
    "my_list.clear()\n",
    "print(my_list)\n",
    "# Result: []"
   ]
  },
  {
   "cell_type": "code",
   "execution_count": 92,
   "id": "f72e7a81-e260-4abf-9d60-cab36bd19c3b",
   "metadata": {},
   "outputs": [
    {
     "name": "stdout",
     "output_type": "stream",
     "text": [
      "[]\n"
     ]
    }
   ],
   "source": [
    "print(my_list)"
   ]
  },
  {
   "cell_type": "code",
   "execution_count": 94,
   "id": "ac249171-5ceb-4361-b636-d70a48e68962",
   "metadata": {},
   "outputs": [
    {
     "data": {
      "text/plain": [
       "[]"
      ]
     },
     "execution_count": 94,
     "metadata": {},
     "output_type": "execute_result"
    }
   ],
   "source": [
    "my_list"
   ]
  },
  {
   "cell_type": "code",
   "execution_count": 96,
   "id": "913e4678-3c8e-4b14-bf49-b608a21055b7",
   "metadata": {},
   "outputs": [
    {
     "name": "stdout",
     "output_type": "stream",
     "text": [
      "Daived\n",
      "Charlie\n"
     ]
    }
   ],
   "source": [
    "import random\n",
    "friend = [\"Alice\", \"Bob\", \"Charlie\", \"Daived\", \"Emanuel\"]\n",
    "# Firest Option\n",
    "print(random.choice(friend))\n",
    "\n",
    "#Second Option\n",
    "random_index = random.randint(0,4)\n",
    "print(friend[random_index])"
   ]
  },
  {
   "cell_type": "code",
   "execution_count": 102,
   "id": "4cdfac14-03aa-477b-909b-b41e573e1917",
   "metadata": {},
   "outputs": [
    {
     "name": "stdout",
     "output_type": "stream",
     "text": [
      "54\n"
     ]
    }
   ],
   "source": [
    "print(len(us_states))"
   ]
  },
  {
   "cell_type": "code",
   "execution_count": 108,
   "id": "4fd4b65c-3ef0-4231-beeb-932106505778",
   "metadata": {},
   "outputs": [
    {
     "name": "stdout",
     "output_type": "stream",
     "text": [
      "['Alabama', 'Berlin', 'Arizona', 'Arkansas', 'California', 'Colorado', 'Connecticut', 'Delaware', 'Florida', 'Georgia', 'Hawaii', 'Idaho', 'Illinois', 'Indiana', 'Iowa', 'Kansas', 'Kentucky', 'Louisiana', 'Maine', 'Maryland', 'Massachusetts', 'Michigan', 'Minnesota', 'Mississippi', 'Missouri', 'Montana', 'Nebraska', 'Nevada', 'New Hampshire', 'New Jersey', 'New Mexico', 'New York', 'North Carolina', 'North Dakota', 'Ohio', 'Oklahoma', 'Oregon', 'Pennsylvania', 'Rhode Island', 'South Carolina', 'South Dakota', 'Tennessee', 'Texas', 'Utah', 'Vermont', 'Virginia', 'Washington', 'West Virginia', 'Wisconsin', 'Wyoming', 'Stuttgart', 'Kiel', 'Munich', 'Leipzig']\n"
     ]
    }
   ],
   "source": [
    "States_of_america = us_states\n",
    "print(States_of_america)"
   ]
  },
  {
   "cell_type": "code",
   "execution_count": 132,
   "id": "6356ec08-b164-42c1-9767-591b3f5a73f8",
   "metadata": {},
   "outputs": [
    {
     "name": "stdout",
     "output_type": "stream",
     "text": [
      "54\n",
      "Leipzig\n"
     ]
    }
   ],
   "source": [
    "num_of_states = len(States_of_america)\n",
    "print(num_of_states)\n",
    "\n",
    "#print(States_of_america[54]) # Out of Index Error\n",
    "#print(States_of_america[num_of_states]) # Out of index Erro\n",
    "print(States_of_america[num_of_states - 1])"
   ]
  },
  {
   "cell_type": "code",
   "execution_count": 135,
   "id": "3708a7e7-558d-42ea-b414-fb8991f5c2f7",
   "metadata": {},
   "outputs": [
    {
     "name": "stdout",
     "output_type": "stream",
     "text": [
      "[['Strawberies', 'Spinach', 'Kale', 'Nectarines', 'Apples', 'Grapes', 'Peaches', 'Cherries', 'Pears', 'Tomatoes', 'Celery', 'Potatoes'], ['Avocado', 'Sweet corn', 'Pineapples', 'Gabbages', 'Onions', 'Sweet peas (frozen)', 'Papays', 'Asparagus', 'Mangoes', 'Eggplants', 'Honeydew melons', 'Kiwis', 'Cantaloupes', 'Cauliflower', 'Baroccolie']]\n"
     ]
    }
   ],
   "source": [
    "dirty_dozen = [\"Strawberies\", \"Spinach\", \"Kale\", \"Nectarines\", \"Apples\", \"Grapes\", \"Peaches\", \"Cherries\",\"Pears\", \"Tomatoes\",\"Celery\", \"Potatoes\"]\n",
    "clean_fifteen = [\"Avocado\", \"Sweet corn\", \"Pineapples\", \"Gabbages\", \"Onions\", \"Sweet peas (frozen)\", \"Papays\", \"Asparagus\", \"Mangoes\", \n",
    "                  \"Eggplants\", \"Honeydew melons\", \"Kiwis\", \"Cantaloupes\", \"Cauliflower\", \"Baroccolie\"]\n",
    "\n",
    "dirty_and_clean = [dirty_dozen, clean_fifteen]\n",
    "print(dirty_and_clean)"
   ]
  },
  {
   "cell_type": "code",
   "execution_count": 222,
   "id": "e56eca66-2afe-411e-be17-1c0c2da63ce9",
   "metadata": {},
   "outputs": [
    {
     "name": "stdin",
     "output_type": "stream",
     "text": [
      "What do you choose? Type 0 for Rock, 1 for Paper and 2 for Scissoer!\n",
      " 1\n"
     ]
    },
    {
     "name": "stdout",
     "output_type": "stream",
     "text": [
      "You chose:\n",
      "\n",
      "     _______\n",
      "---'    ____)____\n",
      "           ______)\n",
      "          _______)\n",
      "         _______)\n",
      "---.__________)\n",
      "\n",
      "Computer chose.\n",
      "\n",
      "     _______\n",
      "---'    ____)____\n",
      "           ______)\n",
      "          _______)\n",
      "         _______)\n",
      "---.__________)\n",
      "\n",
      "It's a draw!\n"
     ]
    }
   ],
   "source": [
    "# Rock Paper Scissors ASCII Art\n",
    "\n",
    "# Rock\n",
    "rock = \"\"\"\n",
    "    _______\n",
    "---'   ____)\n",
    "      (_____)\n",
    "      (_____)\n",
    "      (____)\n",
    "---.__(___)\n",
    "\"\"\"\n",
    "\n",
    "# Paper\n",
    "paper = \"\"\"\n",
    "     _______\n",
    "---'    ____)____\n",
    "           ______)\n",
    "          _______)\n",
    "         _______)\n",
    "---.__________)\n",
    "\"\"\"\n",
    "\n",
    "# Scissors\n",
    "scissors = \"\"\"\n",
    "    _______\n",
    "---'   ____)____\n",
    "          ______)\n",
    "       __________)\n",
    "      (____)\n",
    "---.__(___)\n",
    "\"\"\"\n",
    "game_imgages = [rock, paper, scissors]\n",
    "\n",
    "user_choice = int(input(\"What do you choose? Type 0 for Rock, 1 for Paper and 2 for Scissoer!\\n\"))\n",
    "print(\"You chose:\")\n",
    "print(game_imgages[user_choice])\n",
    "\n",
    "computer_Choose = random.randint(0,2)\n",
    "\n",
    "print(\"Computer chose.\")\n",
    "print(game_imgages[computer_Choose])\n",
    "\n",
    "if user_choice >= 3 or user_choice < 0:\n",
    "    print(\"You Typed ann Invalid number. You lose.!\")\n",
    "elif user_choice == 0 and computer_Choose == 2:\n",
    "    print(\"You win!\")\n",
    "elif computer_Choose == 0 and user_choice == 2:\n",
    "    print(\"You lose!\")\n",
    "elif computer_Choose > user_choice:\n",
    "    print(\"You lose!\")\n",
    "elif user_choice > computer_Choose:\n",
    "    print(\"You Win!\")\n",
    "elif computer_Choose == user_choice:\n",
    "    print(\"It's a draw!\")\n"
   ]
  },
  {
   "cell_type": "code",
   "execution_count": null,
   "id": "41c35e48-3a9d-448b-8722-ca33c64a1283",
   "metadata": {},
   "outputs": [],
   "source": []
  },
  {
   "cell_type": "code",
   "execution_count": null,
   "id": "db5f91b6-a5b0-4b94-96f3-ec191a4fd9b1",
   "metadata": {},
   "outputs": [],
   "source": []
  }
 ],
 "metadata": {
  "kernelspec": {
   "display_name": "Python 3 (ipykernel)",
   "language": "python",
   "name": "python3"
  },
  "language_info": {
   "codemirror_mode": {
    "name": "ipython",
    "version": 3
   },
   "file_extension": ".py",
   "mimetype": "text/x-python",
   "name": "python",
   "nbconvert_exporter": "python",
   "pygments_lexer": "ipython3",
   "version": "3.12.4"
  }
 },
 "nbformat": 4,
 "nbformat_minor": 5
}
