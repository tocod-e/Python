{
 "cells": [
  {
   "cell_type": "markdown",
   "id": "d1c9422d-1b70-49ab-89c4-9e41b08528b0",
   "metadata": {},
   "source": [
    "# Functions\n",
    "In Python, a function is a block of organized, reusable code that is used to perform a single, related action. Functions provide better modularity for your application and a high degree of code reusability. \n",
    "\n",
    "Here are the key components and concepts related to functions in Python:\n",
    "\n",
    "1. **Defining a Function**: To define a function in Python, you use the `def` keyword followed by the function name and parentheses. Any input parameters or arguments should be placed within the parentheses. The function block starts with a colon and is indented.\n",
    "\n",
    "2. **Function Parameters**: Parameters are the inputs that a function can accept. These are specified within the parentheses in the function definition. Python allows you to define functions with optional parameters, default values, and variable-length arguments.\n",
    "\n",
    "3. **Function Body**: The body of the function contains the code that defines the actions to be performed when the function is called. This can include variable declarations, conditional statements, loops, and other function calls.\n",
    "\n",
    "4. **Return Statement**: Functions can return a value using the `return` statement. If a function does not have a return statement, it returns `None` by default.\n",
    "\n",
    "5. **Calling a Function**: To call a function, you simply use the function name followed by parentheses. If the function requires input parameters, you provide them within the parentheses.\n",
    "\n",
    "6. **Scope of Variables**: Variables defined inside a function are local to that function and cannot be accessed outside of it. However, you can access global variables within a function by using the `global` keyword.\n",
    "\n",
    "Python provides several built-in functions, such as `print()`, `len()`, and `range()`, but you can also create your own custom functions to perform specific tasks.\n",
    "\n",
    "To work with functions in Python, you can use the built-in `function` module, which provides tools for creating and manipulating functions, as well as the `functools` module for higher-order functions and operations on callable objects."
   ]
  },
  {
   "cell_type": "markdown",
   "id": "fd9229e6-7f38-4ed5-848d-e1621f3e4042",
   "metadata": {},
   "source": [
    "1. **Simple Function without Parameters**:"
   ]
  },
  {
   "cell_type": "code",
   "execution_count": 1,
   "id": "4367ed41-f930-4cec-a46e-7f5f22fc4216",
   "metadata": {},
   "outputs": [
    {
     "name": "stdout",
     "output_type": "stream",
     "text": [
      "Hello, welcome to the Python world!\n"
     ]
    }
   ],
   "source": [
    "def greet():\n",
    "    print(\"Hello, welcome to the Python world!\")\n",
    "\n",
    "# Calling the function\n",
    "greet()"
   ]
  },
  {
   "cell_type": "markdown",
   "id": "fb9cf05b-5530-4940-933e-5914f5a68595",
   "metadata": {},
   "source": [
    "\n",
    "2. **Function with Parameters**:"
   ]
  },
  {
   "cell_type": "code",
   "execution_count": 2,
   "id": "ee130969-bb64-475f-b81f-4a917799b7bf",
   "metadata": {},
   "outputs": [
    {
     "name": "stdout",
     "output_type": "stream",
     "text": [
      "Hello, Alice! Welcome to the Python world!\n"
     ]
    }
   ],
   "source": [
    "def greet_user(name):\n",
    "    print(f\"Hello, {name}! Welcome to the Python world!\")\n",
    "\n",
    "# Calling the function with a parameter\n",
    "greet_user(\"Alice\")"
   ]
  },
  {
   "cell_type": "markdown",
   "id": "31d82195-4a23-4349-80a3-317fba432bee",
   "metadata": {},
   "source": [
    "\n",
    "3. **Function with Default Parameter Value**:"
   ]
  },
  {
   "cell_type": "code",
   "execution_count": 3,
   "id": "aa357a69-420b-4198-b6e8-9fc1d8ac35a1",
   "metadata": {},
   "outputs": [
    {
     "name": "stdout",
     "output_type": "stream",
     "text": [
      "Hello, Guest! Welcome to the Python world!\n"
     ]
    }
   ],
   "source": [
    "def greet_user(name=\"Guest\"):\n",
    "    print(f\"Hello, {name}! Welcome to the Python world!\")\n",
    "\n",
    "# Calling the function without providing a parameter\n",
    "greet_user()\n",
    "# Output: Hello, Guest! Welcome to the Python world!"
   ]
  },
  {
   "cell_type": "markdown",
   "id": "4e50072d-6238-4c82-9f68-c454721efdee",
   "metadata": {},
   "source": [
    "\n",
    "4. **Function with Return Statement**:"
   ]
  },
  {
   "cell_type": "code",
   "execution_count": 4,
   "id": "f7cc122a-0ff3-4b16-be1f-a44b4cc5c80e",
   "metadata": {},
   "outputs": [
    {
     "name": "stdout",
     "output_type": "stream",
     "text": [
      "8\n"
     ]
    }
   ],
   "source": [
    "def add_numbers(a, b):\n",
    "    return a + b\n",
    "\n",
    "# Calling the function and storing the result in a variable\n",
    "result = add_numbers(5, 3)\n",
    "print(result)\n",
    "# Output: 8"
   ]
  },
  {
   "cell_type": "markdown",
   "id": "c94cde07-fda0-463b-99da-9850af51c59a",
   "metadata": {},
   "source": [
    "\n",
    "5. **Function with Variable-Length Arguments**:"
   ]
  },
  {
   "cell_type": "code",
   "execution_count": 5,
   "id": "199e37a5-e9ec-44d3-9a04-3f737be1093b",
   "metadata": {},
   "outputs": [
    {
     "name": "stdout",
     "output_type": "stream",
     "text": [
      "30.0\n"
     ]
    }
   ],
   "source": [
    "def calculate_average(*args):\n",
    "    return sum(args) / len(args)\n",
    "\n",
    "# Calling the function with variable number of arguments\n",
    "average = calculate_average(10, 20, 30, 40, 50)\n",
    "print(average)\n",
    "# Output: 30.0"
   ]
  },
  {
   "cell_type": "markdown",
   "id": "18e9e3b2-db15-4838-b00d-8b966ba18bdd",
   "metadata": {},
   "source": [
    "\n",
    "These examples demonstrate the basic concepts of defining and using functions in Python. You can use the `function` module and `functools` module to work with functions in more advanced ways."
   ]
  },
  {
   "cell_type": "code",
   "execution_count": 6,
   "id": "08742984-9d1c-4628-819f-cba81bcfdf33",
   "metadata": {},
   "outputs": [
    {
     "name": "stdout",
     "output_type": "stream",
     "text": [
      "Hello 0\n",
      "Hello 1\n",
      "Hello 2\n"
     ]
    }
   ],
   "source": [
    "def gree(number):\n",
    "    for i in range(number):\n",
    "        print(f\"Hello {i}\")\n",
    "gree(3)"
   ]
  },
  {
   "cell_type": "code",
   "execution_count": 9,
   "id": "22e30640-3f00-4ea8-80eb-c89df9d6c04a",
   "metadata": {},
   "outputs": [
    {
     "name": "stdout",
     "output_type": "stream",
     "text": [
      "Hello Mohammed\n",
      "How do you do Mohammed\n"
     ]
    }
   ],
   "source": [
    "def greet_with_name(name):\n",
    "    print(f\"Hello {name}\")\n",
    "    print(f\"How do you do {name}\")\n",
    "\n",
    "greet_with_name(\"Mohammed\")"
   ]
  },
  {
   "cell_type": "code",
   "execution_count": 14,
   "id": "97612517-a19c-4e4a-a35b-d6efcb29ce91",
   "metadata": {},
   "outputs": [
    {
     "name": "stdout",
     "output_type": "stream",
     "text": [
      "You have 1768 week left.\n"
     ]
    }
   ],
   "source": [
    "def life_in_weeks(age):\n",
    "    total_age = 90 \n",
    "    weeks_per_year = 52\n",
    "    total_weeks = total_age * weeks_per_year\n",
    "\n",
    "    weeks_lived = age * weeks_per_year\n",
    "    \n",
    "    weeks_left = total_weeks - weeks_lived\n",
    "    print(f\"You have {weeks_left} week left.\")\n",
    "\n",
    "life_in_weeks(56)\n",
    "    "
   ]
  },
  {
   "cell_type": "code",
   "execution_count": 15,
   "id": "ed75bdb4-45f7-40dd-bcca-bba1f7d2be4d",
   "metadata": {},
   "outputs": [
    {
     "name": "stdout",
     "output_type": "stream",
     "text": [
      "Hallo John\n",
      "WHat is it like in Berlin\n"
     ]
    }
   ],
   "source": [
    "def greet_with(name, location):\n",
    "    print(f\"Hallo {name}\")\n",
    "    print(f\"WHat is it like in {location}\")\n",
    "greet_with(\"John\", \"Berlin\")\n"
   ]
  },
  {
   "cell_type": "code",
   "execution_count": 16,
   "id": "b3fdbc1f-7008-4741-a701-3dc3eb39f820",
   "metadata": {},
   "outputs": [
    {
     "name": "stdout",
     "output_type": "stream",
     "text": [
      "H\n",
      "e\n",
      "l\n",
      "l\n",
      "o\n"
     ]
    }
   ],
   "source": [
    "x = \"Hello\"\n",
    "for y in x:\n",
    "    print(y)"
   ]
  },
  {
   "cell_type": "code",
   "execution_count": 93,
   "id": "923be4e3-6e37-4362-87ce-c25f5e0d83e5",
   "metadata": {},
   "outputs": [
    {
     "name": "stdout",
     "output_type": "stream",
     "text": [
      "T occurs 0 times\n",
      "R  occures 1 times\n",
      "E  occures 2 times\n",
      "U  occures 2 times\n",
      "Total = 5\n",
      "L  occures 1 times\n",
      "O occures 0 times\n",
      "V occures 0 times\n",
      "E  occures 2 times\n",
      "Total = 3\n",
      "Love Score = 53\n",
      "*************\n",
      "T  occures 1 times\n",
      "R  occures 1 times\n",
      "E  occures 2 times\n",
      "U occurs 0 times\n",
      "Total = 4\n",
      "L occures 0 times\n",
      "O occures 0 times\n",
      "V occures 0 times\n",
      "E  occures 2 times\n",
      "Total = 2\n",
      "Love Score = 42\n"
     ]
    }
   ],
   "source": [
    "def calculate_love_score(name1, name2):\n",
    "    check_name = (name1 + name2).upper()\n",
    "    \n",
    "    true_count = 0\n",
    "    love_count = 0\n",
    "    \n",
    "    for letter in \"TREU\":\n",
    "        if letter in check_name:\n",
    "            letter_count = check_name.count(letter)\n",
    "            print(f\"{letter}  occures {letter_count} times\")\n",
    "            true_count += letter_count\n",
    "        else:\n",
    "            print(f\"{letter} occurs 0 times\")\n",
    "\n",
    "    print(f\"Total = {true_count}\")\n",
    "    \n",
    "    for letter in \"LOVE\":\n",
    "        if letter in check_name:\n",
    "            letter_count = check_name.count(letter)\n",
    "            print(f\"{letter}  occures {letter_count} times\")\n",
    "            love_count += letter_count\n",
    "        else:\n",
    "            print(f\"{letter} occures 0 times\")\n",
    "\n",
    "    print(f\"Total = {love_count}\")\n",
    "    \n",
    "    print(f\"Love Score = {true_count}{love_count}\")\n",
    "    \n",
    "calculate_love_score(\"Angela Yu\", \"Jack Bauer\")\n",
    "print(\"*************\")\n",
    "calculate_love_score(\"Kanye West\", \"Kim Kardashian\")"
   ]
  },
  {
   "cell_type": "code",
   "execution_count": 91,
   "id": "9d4348d9-9431-4b5c-bc7c-c57e1aa9333c",
   "metadata": {},
   "outputs": [
    {
     "name": "stdout",
     "output_type": "stream",
     "text": [
      "T occurs 0 times\n",
      "R occurs 1 times\n",
      "E occurs 2 times\n",
      "U occurs 2 times\n",
      "Total = 5\n",
      "L occurs 1 times\n",
      "O occurs 0 times\n",
      "V occurs 0 times\n",
      "E occurs 2 times\n",
      "Total = 3\n",
      "Love Score = 53\n",
      "*************\n",
      "T occurs 1 times\n",
      "R occurs 1 times\n",
      "E occurs 2 times\n",
      "U occurs 0 times\n",
      "Total = 4\n",
      "L occurs 0 times\n",
      "O occurs 0 times\n",
      "V occurs 0 times\n",
      "E occurs 2 times\n",
      "Total = 2\n",
      "Love Score = 42\n"
     ]
    }
   ],
   "source": [
    "def calculate_love_score(name1, name2):\n",
    "    # Combine both names into a single string and convert it to uppercase for consistency\n",
    "    check_name = (name1 + name2).upper()\n",
    "    \n",
    "    # Initialize counters for the \"TRUE\" and \"LOVE\" scores\n",
    "    true_count = 0\n",
    "    love_count = 0\n",
    "    \n",
    "    # Loop through each letter in \"TREU\" to count its occurrences in the combined names\n",
    "    for letter in \"TREU\":\n",
    "        if letter in check_name:  # Check if the letter exists in the combined names\n",
    "            letter_count = check_name.count(letter)  # Count how many times the letter appears\n",
    "            print(f\"{letter} occurs {letter_count} times\")  # Output the count of the letter\n",
    "            true_count += letter_count  # Add the count to the true_count\n",
    "        else:\n",
    "            print(f\"{letter} occurs 0 times\")  # Output if the letter does not appear\n",
    "    \n",
    "    print(f\"Total = {true_count}\")  # Print the total count for \"TRUE\" letters\n",
    "    \n",
    "    # Loop through each letter in \"LOVE\" to count its occurrences in the combined names\n",
    "    for letter in \"LOVE\":\n",
    "        if letter in check_name:  # Check if the letter exists in the combined names\n",
    "            letter_count = check_name.count(letter)  # Count how many times the letter appears\n",
    "            print(f\"{letter} occurs {letter_count} times\")  # Output the count of the letter\n",
    "            love_count += letter_count  # Add the count to the love_count\n",
    "        else:\n",
    "            print(f\"{letter} occurs 0 times\")  # Output if the letter does not appear\n",
    "    \n",
    "    print(f\"Total = {love_count}\")  # Print the total count for \"LOVE\" letters\n",
    "    \n",
    "    # Combine the counts to form the final love score and print it\n",
    "    print(f\"Love Score = {true_count}{love_count}\")\n",
    "\n",
    "# Example function call with specific names\n",
    "calculate_love_score(\"Angela Yu\", \"Jack Bauer\")\n",
    "print(\"*************\")\n",
    "calculate_love_score(\"Kanye West\", \"Kim Kardashian\")"
   ]
  },
  {
   "cell_type": "code",
   "execution_count": 92,
   "id": "3d380d2f-bda9-4724-ae7d-7aac4c6177af",
   "metadata": {},
   "outputs": [
    {
     "name": "stdout",
     "output_type": "stream",
     "text": [
      "53\n",
      "*************\n",
      "42\n"
     ]
    }
   ],
   "source": [
    "def calculate_love_score(name1, name2):\n",
    "    combined_names = name1 + name2\n",
    "    lower_names = combined_names.lower()\n",
    "    \n",
    "    t = lower_names.count(\"t\")\n",
    "    r = lower_names.count(\"r\")\n",
    "    u = lower_names.count(\"u\")\n",
    "    e = lower_names.count(\"e\")\n",
    "    first_digit = t + r + u + e\n",
    "    \n",
    "    l = lower_names.count(\"l\")\n",
    "    o = lower_names.count(\"o\")\n",
    "    v = lower_names.count(\"v\")\n",
    "    e = lower_names.count(\"e\")\n",
    "    second_digit = l + o + v + e\n",
    "    \n",
    "    \n",
    "    score = int(str(first_digit) + str(second_digit))\n",
    "    print(score)\n",
    "    \n",
    "calculate_love_score(\"Angela Yu\", \"Jack Bauer\")\n",
    "print(\"*************\")    \n",
    "calculate_love_score(\"Kanye West\", \"Kim Kardashian\")"
   ]
  },
  {
   "cell_type": "markdown",
   "id": "afb21c3b-cbac-4ba6-bfb9-0ca044bc098e",
   "metadata": {},
   "source": [
    "### Caesar Cipher"
   ]
  },
  {
   "cell_type": "code",
   "execution_count": 8,
   "id": "76d04556-84de-4142-a0fe-72bd3875272a",
   "metadata": {},
   "outputs": [
    {
     "name": "stdout",
     "output_type": "stream",
     "text": [
      " \n",
      " ██████   █████   ███████  ███████   █████   ██████       ██████  ██  ██████   ██   ██  ███████  ██████  \n",
      "██       ██   ██  ██       ██       ██   ██  ██   ██     ██       ██  ██   ██  ██   ██  ██       ██   ██ \n",
      "██       ███████  █████    ███████  ███████  ██████      ██       ██  ██████   ███████  █████    ██████  \n",
      "██       ██   ██  ██            ██  ██   ██  ██   ██     ██       ██  ██       ██   ██  ██       ██   ██ \n",
      " ██████  ██   ██  ███████  ███████  ██   ██  ██   ██      ██████  ██  ██       ██   ██  ███████  ██   ██ \n",
      "                                                                                               \n",
      "                                                                                               \n"
     ]
    },
    {
     "name": "stdin",
     "output_type": "stream",
     "text": [
      "Tyoe 'encode' to encrypt or 'decode' to decrypt\n",
      " encode\n",
      "Type your messages:\n",
      " hallo\n",
      "Type the shift number:\n",
      " 4\n"
     ]
    },
    {
     "name": "stdout",
     "output_type": "stream",
     "text": [
      "Here is an encoded result: lepps\n"
     ]
    },
    {
     "name": "stdin",
     "output_type": "stream",
     "text": [
      "Type 'Yes' if you want to go again otherwhise type 'No'\n",
      " yes\n",
      "Tyoe 'encode' to encrypt or 'decode' to decrypt\n",
      " decode\n",
      "Type your messages:\n",
      " lepps\n",
      "Type the shift number:\n",
      " 4\n"
     ]
    },
    {
     "name": "stdout",
     "output_type": "stream",
     "text": [
      "Here is an decoded result: hallo\n"
     ]
    },
    {
     "name": "stdin",
     "output_type": "stream",
     "text": [
      "Type 'Yes' if you want to go again otherwhise type 'No'\n",
      " no\n"
     ]
    },
    {
     "name": "stdout",
     "output_type": "stream",
     "text": [
      "Goodbye!\n"
     ]
    }
   ],
   "source": [
    "import string\n",
    "from Caesar import logo\n",
    "print(logo)\n",
    "alphabets = list(string.ascii_lowercase)\n",
    "\n",
    "def caser(text, shift, encode_or_decode):\n",
    "    output_text = \"\"\n",
    "    if encode_or_decode == \"decode\":\n",
    "        shift *= -1   \n",
    "    for i in text:\n",
    "        if i not in alphabets:\n",
    "            output_text += i\n",
    "        else:\n",
    "            shifted_position = alphabets.index(i) + shift\n",
    "            shifted_position = shifted_position % len(alphabets)\n",
    "            output_text += alphabets[shifted_position]     \n",
    "    print(f\"Here is an {encode_or_decode}d result: {output_text}\")\n",
    "    \n",
    "should_continue = True\n",
    "while should_continue:\n",
    "    direction = input(\"Tyoe 'encode' to encrypt or 'decode' to decrypt\\n\").lower()\n",
    "    text = input(\"Type your messages:\\n\").lower()\n",
    "    shift = int(input(\"Type the shift number:\\n\"))\n",
    "    \n",
    "    caser(text, shift, direction)\n",
    "    \n",
    "    restart = input(\"Type 'Yes' if you want to go again otherwhise type 'No'\\n\").lower()\n",
    "    if restart == \"no\":\n",
    "        should_continue = False\n",
    "        print(\"Goodbye!\")"
   ]
  },
  {
   "cell_type": "code",
   "execution_count": 9,
   "id": "58e96ff3-d1f2-41d9-99a7-01acdfa98171",
   "metadata": {},
   "outputs": [
    {
     "name": "stdout",
     "output_type": "stream",
     "text": [
      " \n",
      " ██████   █████   ███████  ███████   █████   ██████       ██████  ██  ██████   ██   ██  ███████  ██████  \n",
      "██       ██   ██  ██       ██       ██   ██  ██   ██     ██       ██  ██   ██  ██   ██  ██       ██   ██ \n",
      "██       ███████  █████    ███████  ███████  ██████      ██       ██  ██████   ███████  █████    ██████  \n",
      "██       ██   ██  ██            ██  ██   ██  ██   ██     ██       ██  ██       ██   ██  ██       ██   ██ \n",
      " ██████  ██   ██  ███████  ███████  ██   ██  ██   ██      ██████  ██  ██       ██   ██  ███████  ██   ██ \n",
      "                                                                                               \n",
      "                                                                                               \n"
     ]
    },
    {
     "name": "stdin",
     "output_type": "stream",
     "text": [
      "Type 'encode' to encrypt or 'decode' to decrypt\n",
      " encode\n",
      "Type your message:\n",
      " f\n",
      "Type the shift number:\n",
      " 2\n"
     ]
    },
    {
     "name": "stdout",
     "output_type": "stream",
     "text": [
      "Here is an encoded result: h\n"
     ]
    },
    {
     "name": "stdin",
     "output_type": "stream",
     "text": [
      "Type 'Yes' if you want to go again, otherwise type 'No'\n",
      " no\n"
     ]
    },
    {
     "name": "stdout",
     "output_type": "stream",
     "text": [
      "Goodbye!\n"
     ]
    }
   ],
   "source": [
    "# Importing the string module and the 'logo' from the Caesar module\n",
    "import string\n",
    "from Caesar import logo\n",
    "\n",
    "# Printing the logo from the Caesar module\n",
    "print(logo)\n",
    "\n",
    "# Creating a list of lowercase alphabet letters from 'a' to 'z'\n",
    "alphabets = list(string.ascii_lowercase)\n",
    "\n",
    "# Defining the Caesar cipher function\n",
    "def caser(text, shift, encode_or_decode):\n",
    "    output_text = \"\"  # Initialize an empty string to store the final output text\n",
    "    \n",
    "    # Determine the direction of shifting based on whether encoding or decoding\n",
    "    if encode_or_decode == \"decode\":\n",
    "        shift *= -1  # Reverse the shift direction for decoding\n",
    "    \n",
    "    # Iterate through each character in the input text\n",
    "    for i in text:\n",
    "        if i not in alphabets:\n",
    "            # If the character is not a letter (e.g., space, punctuation), add it unchanged\n",
    "            output_text += i\n",
    "        else:\n",
    "            # Find the current position of the letter in the alphabet\n",
    "            shifted_position = alphabets.index(i) + shift\n",
    "            \n",
    "            # Ensure the shifted position wraps around if it exceeds the alphabet length\n",
    "            shifted_position = shifted_position % len(alphabets)\n",
    "            \n",
    "            # Add the shifted letter to the output text\n",
    "            output_text += alphabets[shifted_position]\n",
    "    \n",
    "    # Print the final encoded or decoded result\n",
    "    print(f\"Here is an {encode_or_decode}d result: {output_text}\")\n",
    "\n",
    "# Set up a loop to allow multiple encodings/decodings\n",
    "should_continue = True\n",
    "while should_continue:\n",
    "    # Ask the user whether they want to encode or decode\n",
    "    direction = input(\"Type 'encode' to encrypt or 'decode' to decrypt\\n\").lower()\n",
    "    \n",
    "    # Get the text input from the user\n",
    "    text = input(\"Type your message:\\n\").lower()\n",
    "    \n",
    "    # Get the shift number from the user\n",
    "    shift = int(input(\"Type the shift number:\\n\"))\n",
    "    \n",
    "    # Call the Caesar cipher function with the user inputs\n",
    "    caser(text, shift, direction)\n",
    "    \n",
    "    # Ask the user if they want to go again\n",
    "    restart = input(\"Type 'Yes' if you want to go again, otherwise type 'No'\\n\").lower()\n",
    "    if restart == \"no\":\n",
    "        should_continue = False  # Exit the loop if the user types \"no\"\n",
    "        print(\"Goodbye!\")  # Print a goodbye message"
   ]
  },
  {
   "cell_type": "code",
   "execution_count": 10,
   "id": "4e04600d-9b07-4d7e-aaa4-c6083693bfe2",
   "metadata": {},
   "outputs": [
    {
     "name": "stdout",
     "output_type": "stream",
     "text": [
      " \n",
      " ██████   █████   ███████  ███████   █████   ██████       ██████  ██  ██████   ██   ██  ███████  ██████  \n",
      "██       ██   ██  ██       ██       ██   ██  ██   ██     ██       ██  ██   ██  ██   ██  ██       ██   ██ \n",
      "██       ███████  █████    ███████  ███████  ██████      ██       ██  ██████   ███████  █████    ██████  \n",
      "██       ██   ██  ██            ██  ██   ██  ██   ██     ██       ██  ██       ██   ██  ██       ██   ██ \n",
      " ██████  ██   ██  ███████  ███████  ██   ██  ██   ██      ██████  ██  ██       ██   ██  ███████  ██   ██ \n",
      "                                                                                               \n",
      "                                                                                               \n"
     ]
    },
    {
     "name": "stdin",
     "output_type": "stream",
     "text": [
      "Type 'encode' to encrypt or 'decode' to decrypt:\n",
      " encode\n",
      "Type your message:\n",
      " hi\n",
      "Type the shift number:\n",
      " 2\n"
     ]
    },
    {
     "name": "stdout",
     "output_type": "stream",
     "text": [
      "Here is the encoded result: jk\n"
     ]
    },
    {
     "name": "stdin",
     "output_type": "stream",
     "text": [
      "Type 'yes' to go again, or 'no' to exit:\n",
      " yes\n",
      "Type 'encode' to encrypt or 'decode' to decrypt:\n",
      " decode\n",
      "Type your message:\n",
      " jk\n",
      "Type the shift number:\n",
      " 2\n"
     ]
    },
    {
     "name": "stdout",
     "output_type": "stream",
     "text": [
      "Here is the decoded result: hi\n"
     ]
    },
    {
     "name": "stdin",
     "output_type": "stream",
     "text": [
      "Type 'yes' to go again, or 'no' to exit:\n",
      " no\n"
     ]
    },
    {
     "name": "stdout",
     "output_type": "stream",
     "text": [
      "Goodbye!\n"
     ]
    }
   ],
   "source": [
    "import string\n",
    "from Caesar import logo\n",
    "\n",
    "# Display the Caesar cipher logo\n",
    "print(logo)\n",
    "\n",
    "# List of lowercase alphabet letters\n",
    "alphabets = string.ascii_lowercase\n",
    "\n",
    "def caesar(text, shift, direction):\n",
    "    shift *= -1 if direction == \"decode\" else 1\n",
    "    output_text = \"\"\n",
    "\n",
    "    for char in text:\n",
    "        if char in alphabets:\n",
    "            shifted_index = (alphabets.index(char) + shift) % 26\n",
    "            output_text += alphabets[shifted_index]\n",
    "        else:\n",
    "            output_text += char\n",
    "\n",
    "    print(f\"Here is the {direction}d result: {output_text}\")\n",
    "\n",
    "while True:\n",
    "    direction = input(\"Type 'encode' to encrypt or 'decode' to decrypt:\\n\").lower()\n",
    "    text = input(\"Type your message:\\n\").lower()\n",
    "    shift = int(input(\"Type the shift number:\\n\")) % 26\n",
    "\n",
    "    caesar(text, shift, direction)\n",
    "\n",
    "    if input(\"Type 'yes' to go again, or 'no' to exit:\\n\").lower() != \"yes\":\n",
    "        print(\"Goodbye!\")\n",
    "        break\n"
   ]
  },
  {
   "cell_type": "markdown",
   "id": "a25c91db-d2f9-4d4c-a1da-f85c116eace6",
   "metadata": {},
   "source": [
    "### Leep Years Project"
   ]
  },
  {
   "cell_type": "code",
   "execution_count": null,
   "id": "cba02e2c-65cd-443e-8c81-7008618eb3fb",
   "metadata": {},
   "outputs": [],
   "source": []
  },
  {
   "cell_type": "code",
   "execution_count": null,
   "id": "02f5049a-4582-4e33-9514-ea97b79b460f",
   "metadata": {},
   "outputs": [],
   "source": []
  },
  {
   "cell_type": "code",
   "execution_count": null,
   "id": "681f427c-471d-46da-a807-cc82782d5d8b",
   "metadata": {},
   "outputs": [],
   "source": []
  },
  {
   "cell_type": "code",
   "execution_count": null,
   "id": "ba85f88b-03da-46c2-b6e0-0519ee7bdb9a",
   "metadata": {},
   "outputs": [],
   "source": []
  },
  {
   "cell_type": "code",
   "execution_count": null,
   "id": "d0686f55-f167-4b00-a805-9837b996ba41",
   "metadata": {},
   "outputs": [],
   "source": []
  },
  {
   "cell_type": "code",
   "execution_count": null,
   "id": "199d6a8b-c36f-4068-a2c2-babdf2a696e5",
   "metadata": {},
   "outputs": [],
   "source": []
  },
  {
   "cell_type": "code",
   "execution_count": null,
   "id": "b1faf4b6-f9e3-4856-a208-d2985d48dbad",
   "metadata": {},
   "outputs": [],
   "source": []
  },
  {
   "cell_type": "code",
   "execution_count": null,
   "id": "250ce96d-5566-42d1-9b3a-24526447093a",
   "metadata": {},
   "outputs": [],
   "source": []
  },
  {
   "cell_type": "code",
   "execution_count": null,
   "id": "e79b6d05-1f77-4439-b712-7a2a513dc5ea",
   "metadata": {},
   "outputs": [],
   "source": []
  }
 ],
 "metadata": {
  "kernelspec": {
   "display_name": "Python 3 (ipykernel)",
   "language": "python",
   "name": "python3"
  },
  "language_info": {
   "codemirror_mode": {
    "name": "ipython",
    "version": 3
   },
   "file_extension": ".py",
   "mimetype": "text/x-python",
   "name": "python",
   "nbconvert_exporter": "python",
   "pygments_lexer": "ipython3",
   "version": "3.12.4"
  },
  "widgets": {
   "application/vnd.jupyter.widget-state+json": {
    "state": {},
    "version_major": 2,
    "version_minor": 0
   }
  }
 },
 "nbformat": 4,
 "nbformat_minor": 5
}
