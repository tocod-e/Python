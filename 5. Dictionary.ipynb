{
 "cells": [
  {
   "cell_type": "markdown",
   "id": "68f0eea9-89c1-4771-a82b-38274b4ace50",
   "metadata": {},
   "source": [
    "# Dictionary\n",
    "A dictionary in Python is a built-in data type that allows you to store data in key-value pairs. Each key is unique and is used to access the corresponding value. Dictionaries are mutable, meaning you can change them after they are created.\n",
    "\n",
    "### Key Features of Dictionaries:\n",
    "- **Unordered**: The items in a dictionary do not have a defined order.\n",
    "- **Mutable**: You can change, add, or remove items.\n",
    "- **Indexed by keys**: You access values using their keys, not by a numerical index.\n",
    "\n",
    "### Creating a Dictionary\n",
    "You can create a dictionary using curly braces `{}` or the `dict()` function.\n",
    "\n",
    "#### Example 1: Creating a Dictionary"
   ]
  },
  {
   "cell_type": "code",
   "execution_count": null,
   "id": "df8e75a7-e8b5-4470-bf69-b39972017046",
   "metadata": {},
   "outputs": [],
   "source": [
    "# Using curly braces\n",
    "my_dict = {\n",
    "    \"name\": \"Shareek\",\n",
    "    \"age\": 30,\n",
    "    \"city\": \"Stuttgart\"\n",
    "}\n",
    "\n",
    "# Using dict() function\n",
    "my_dict2 = dict(name=\"Bob\", age=25, city=\"Los Angeles\")\n",
    "\n",
    "print(f\"First Dictiopnary: {my_dict}\")\n",
    "print(f\"Second Dictionary: {my_dict2}\")"
   ]
  },
  {
   "cell_type": "markdown",
   "id": "58ef676e-0ccf-4b12-8233-c8c469e1410f",
   "metadata": {},
   "source": [
    "\n",
    "### Accessing Values\n",
    "You can access the values in a dictionary by referring to their keys. using [ ]\n",
    "\n",
    "#### Example 2: Accessing Values"
   ]
  },
  {
   "cell_type": "code",
   "execution_count": null,
   "id": "900f5bbf-2d21-4e4f-83aa-9bf6086707a5",
   "metadata": {},
   "outputs": [],
   "source": [
    "print(my_dict[\"name\"])  # Output: Shareek\n",
    "print(my_dict2[\"age\"])  # Output: 25"
   ]
  },
  {
   "cell_type": "markdown",
   "id": "201593b0-46a0-4c86-a9ac-dbbbf2e650da",
   "metadata": {},
   "source": [
    "### Adding and Updating Items\n",
    "You can add new key-value pairs or update existing ones.\n",
    "\n",
    "#### Example 3: Adding and Updating Items"
   ]
  },
  {
   "cell_type": "code",
   "execution_count": null,
   "id": "ff2f224b-a53c-4e12-8465-aa580211d0cd",
   "metadata": {},
   "outputs": [],
   "source": [
    "print(f\"Dictionay before Adding a new key-value pair: {my_dict}\")\n",
    "# Adding a new key-value pair\n",
    "\n",
    "my_dict[\"email\"] = \"shareek@example.com\"\n",
    "print(\"After Adding: \")\n",
    "print(f\"Dictionary: {my_dict}\")\n",
    "# Updating an existing key-value pair\n",
    "print(\"Update the age in Dictionary\")\n",
    "my_dict[\"age\"] = 20\n",
    "print(f\"Dictionary: {my_dict}\")"
   ]
  },
  {
   "cell_type": "markdown",
   "id": "38cb5f6c-baa8-4a82-a740-fa1eaf8c337a",
   "metadata": {},
   "source": [
    "### Removing Items\n",
    "You can remove items using the `del` statement or the `pop()` method.\n",
    "\n",
    "#### Example 4: Removing Items"
   ]
  },
  {
   "cell_type": "code",
   "execution_count": null,
   "id": "d1ad1385-d674-49c2-8841-b44867b1d8f4",
   "metadata": {},
   "outputs": [],
   "source": [
    "# Using del\n",
    "print(f\"Dictionarey before remove: {my_dict}\")\n",
    "del my_dict[\"city\"]\n",
    "print(f\"After Remove: {my_dict}\")\n",
    "\n",
    "# Using pop()\n",
    "age = my_dict.pop(\"age\")  # Removes 'age' and returns its value\n",
    "print(age)"
   ]
  },
  {
   "cell_type": "code",
   "execution_count": null,
   "id": "9d61be99-391a-4c45-98cd-96c19467896a",
   "metadata": {},
   "outputs": [],
   "source": [
    "print(my_dict)"
   ]
  },
  {
   "cell_type": "code",
   "execution_count": null,
   "id": "10bfbfd3-c8d5-474a-aa8b-d4d347d47fb2",
   "metadata": {},
   "outputs": [],
   "source": [
    "print(age)"
   ]
  },
  {
   "cell_type": "markdown",
   "id": "6aed54a6-51d8-424d-9c27-cfb4f1664c0a",
   "metadata": {},
   "source": [
    "### Iterating Through a Dictionary\n",
    "You can iterate through keys, values, or key-value pairs.\n",
    "\n",
    "#### Example 5: Iterating"
   ]
  },
  {
   "cell_type": "code",
   "execution_count": null,
   "id": "4090f779-4fd6-42fd-86fd-1f2970ea5137",
   "metadata": {},
   "outputs": [],
   "source": [
    "# Iterating through keys\n",
    "my_dict = {\n",
    "    \"name\": \"Shareek\",\n",
    "    \"age\": \"44\",\n",
    "    \"country\": \"Germany\",\n",
    "    \"Study\": \"Security\"\n",
    "}\n",
    "print(\"Iterating through key:\")\n",
    "for key in my_dict:\n",
    "    print(f\"Keys: {key}\")\n",
    "\n",
    "print(\"Iterating through values:\")\n",
    "# Iterating through values\n",
    "for value in my_dict.values():\n",
    "    print(f\"Values: {value}\")\n",
    "    \n",
    "print(\"Iterating through key-value pairs:\")\n",
    "# Iterating through key-value pairs\n",
    "for key, value in my_dict.items():\n",
    "    print(f\"{key}: {value}\")"
   ]
  },
  {
   "cell_type": "markdown",
   "id": "6f69d44b-21a2-49d0-8fc5-251f7ed3797c",
   "metadata": {},
   "source": [
    "\n",
    "### Conclusion\n",
    "Dictionaries are a powerful and flexible way to store and manipulate data in Python. They are widely used for various applications, such as storing configurations, representing objects, and more.\n",
    "\n",
    "### Suggested Python Packages\n",
    "- `collections`: Provides additional data structures like `defaultdict` and `OrderedDict`.\n",
    "- `json`: Useful for working with JSON data, which is often represented as dictionaries in Python."
   ]
  },
  {
   "cell_type": "code",
   "execution_count": 9,
   "id": "5d3f8eba-91d2-47cd-a335-36d6cdb1643a",
   "metadata": {},
   "outputs": [],
   "source": [
    "shareek = {\n",
    "    \"name\": \"Mohammed\",\n",
    "    \"age\": \"20\",\n",
    "    \"country\": \"Germany\"\n",
    "}"
   ]
  },
  {
   "cell_type": "code",
   "execution_count": 10,
   "id": "78b8ad48-3e2f-4f2e-b4be-fe3bc9c6a221",
   "metadata": {},
   "outputs": [
    {
     "name": "stdout",
     "output_type": "stream",
     "text": [
      "Mohammed\n"
     ]
    }
   ],
   "source": [
    "print(shareek[\"name\"])"
   ]
  },
  {
   "cell_type": "code",
   "execution_count": 11,
   "id": "a063c760-3731-4113-8d61-4f5e1c6269d5",
   "metadata": {},
   "outputs": [
    {
     "name": "stdout",
     "output_type": "stream",
     "text": [
      "20\n"
     ]
    }
   ],
   "source": [
    "print(shareek[\"age\"])"
   ]
  },
  {
   "cell_type": "code",
   "execution_count": 12,
   "id": "ee964b45-02fb-4b39-b46a-b7a85cf7b35c",
   "metadata": {},
   "outputs": [
    {
     "name": "stdout",
     "output_type": "stream",
     "text": [
      "Germany\n"
     ]
    }
   ],
   "source": [
    "print(shareek[\"country\"])"
   ]
  },
  {
   "cell_type": "code",
   "execution_count": 13,
   "id": "38045ebe-8166-40e5-af09-3de2fd3d624b",
   "metadata": {},
   "outputs": [
    {
     "name": "stdout",
     "output_type": "stream",
     "text": [
      "{'name': 'Mohammed', 'age': '20', 'country': 'Germany'}\n"
     ]
    }
   ],
   "source": [
    "print(shareek)"
   ]
  },
  {
   "cell_type": "markdown",
   "id": "717b2a0a-5d31-4887-9587-285eaaa37de2",
   "metadata": {},
   "source": [
    "## Empty Dectionary"
   ]
  },
  {
   "cell_type": "code",
   "execution_count": 3,
   "id": "018f9688-4060-4810-b9de-d1263c0133f7",
   "metadata": {},
   "outputs": [],
   "source": [
    "student = {}"
   ]
  },
  {
   "cell_type": "code",
   "execution_count": 4,
   "id": "a7277ce0-a25e-40c4-a3f2-4c83cff723e5",
   "metadata": {},
   "outputs": [
    {
     "name": "stdout",
     "output_type": "stream",
     "text": [
      "{}\n"
     ]
    }
   ],
   "source": [
    "print(student)"
   ]
  },
  {
   "cell_type": "markdown",
   "id": "0291326f-4df7-4eae-a608-2aae3143d4e9",
   "metadata": {},
   "source": [
    "### Adding key-value pair"
   ]
  },
  {
   "cell_type": "code",
   "execution_count": 5,
   "id": "e2ce39fb-a4e7-46f2-840c-c9ec62c4feb8",
   "metadata": {},
   "outputs": [],
   "source": [
    "student[\"name\"] = \"Shareek\""
   ]
  },
  {
   "cell_type": "code",
   "execution_count": 6,
   "id": "520d2491-fc58-41db-b179-8844fb6430b2",
   "metadata": {},
   "outputs": [
    {
     "name": "stdout",
     "output_type": "stream",
     "text": [
      "{'name': 'Shareek'}\n"
     ]
    }
   ],
   "source": [
    "print(student)"
   ]
  },
  {
   "cell_type": "code",
   "execution_count": 7,
   "id": "09da8c6c-bc4e-418f-a922-7e126f56f964",
   "metadata": {},
   "outputs": [],
   "source": [
    "student[\"age\"] = 25"
   ]
  },
  {
   "cell_type": "code",
   "execution_count": 8,
   "id": "b59b099c-ad14-4b49-acee-6c2a7c227a33",
   "metadata": {},
   "outputs": [
    {
     "name": "stdout",
     "output_type": "stream",
     "text": [
      "{'name': 'Shareek', 'age': 25}\n"
     ]
    }
   ],
   "source": [
    "print(student)"
   ]
  },
  {
   "cell_type": "code",
   "execution_count": 14,
   "id": "50649666-1921-489a-8e69-3960548d79ef",
   "metadata": {},
   "outputs": [
    {
     "name": "stdout",
     "output_type": "stream",
     "text": [
      "{'name': 'Shareek', 'age': 25}\n"
     ]
    }
   ],
   "source": [
    "print(student)"
   ]
  },
  {
   "cell_type": "code",
   "execution_count": 15,
   "id": "0b69786c-80d4-4c32-b87b-d6b56efbf329",
   "metadata": {},
   "outputs": [],
   "source": [
    "student[\"age\"] = 43"
   ]
  },
  {
   "cell_type": "code",
   "execution_count": 16,
   "id": "e78c503b-ddba-4d53-bf5e-15406c2ddf7b",
   "metadata": {},
   "outputs": [
    {
     "name": "stdout",
     "output_type": "stream",
     "text": [
      "{'name': 'Shareek', 'age': 43}\n"
     ]
    }
   ],
   "source": [
    "print(student)"
   ]
  },
  {
   "cell_type": "code",
   "execution_count": 17,
   "id": "b2dcd294-1ff4-4bee-ba05-b4c74d3b0414",
   "metadata": {},
   "outputs": [],
   "source": [
    "student[\"courses\"] = [\"Java\", \"Python\", \"C++\", \"JavaScript\"]"
   ]
  },
  {
   "cell_type": "code",
   "execution_count": 18,
   "id": "eac4783c-1300-4ef9-bb05-cde0085a152c",
   "metadata": {},
   "outputs": [
    {
     "name": "stdout",
     "output_type": "stream",
     "text": [
      "{'name': 'Shareek', 'age': 43, 'courses': ['Java', 'Python', 'C++', 'JavaScript']}\n"
     ]
    }
   ],
   "source": [
    "print(student)"
   ]
  },
  {
   "cell_type": "markdown",
   "id": "7b1ecb91-7bca-48e1-8cfc-f7ba5add2c29",
   "metadata": {},
   "source": [
    "### Nested Dictionaries"
   ]
  },
  {
   "cell_type": "code",
   "execution_count": 19,
   "id": "1fed8e28-ce67-4058-b1f0-7fa330f66175",
   "metadata": {},
   "outputs": [],
   "source": [
    "student[\"departments\"] = {\"CS\": \"Computer Scince\", \"EE\": \"Electrical Engineering\"}"
   ]
  },
  {
   "cell_type": "code",
   "execution_count": 20,
   "id": "fd72f4e7-677d-4ccd-a4c9-e41a1b23fa87",
   "metadata": {},
   "outputs": [
    {
     "name": "stdout",
     "output_type": "stream",
     "text": [
      "{'name': 'Shareek', 'age': 43, 'courses': ['Java', 'Python', 'C++', 'JavaScript'], 'departments': {'CS': 'Computer Scince', 'EE': 'Electrical Engineering'}}\n"
     ]
    }
   ],
   "source": [
    "print(student)"
   ]
  },
  {
   "cell_type": "code",
   "execution_count": 29,
   "id": "f9100523-fc71-4ab5-9833-efe331512617",
   "metadata": {},
   "outputs": [
    {
     "name": "stdout",
     "output_type": "stream",
     "text": [
      "<class 'dict'>\n"
     ]
    }
   ],
   "source": [
    "print(type(student))"
   ]
  },
  {
   "cell_type": "markdown",
   "id": "b63d4db7-8733-443c-ad0a-d52a222f1be4",
   "metadata": {},
   "source": [
    "### Dictionary Methods"
   ]
  },
  {
   "cell_type": "code",
   "execution_count": 30,
   "id": "85ca28a6-b9b4-4786-8885-d5ecaf290f63",
   "metadata": {},
   "outputs": [
    {
     "data": {
      "text/plain": [
       "['__class__',\n",
       " '__class_getitem__',\n",
       " '__contains__',\n",
       " '__delattr__',\n",
       " '__delitem__',\n",
       " '__dir__',\n",
       " '__doc__',\n",
       " '__eq__',\n",
       " '__format__',\n",
       " '__ge__',\n",
       " '__getattribute__',\n",
       " '__getitem__',\n",
       " '__gt__',\n",
       " '__hash__',\n",
       " '__init__',\n",
       " '__init_subclass__',\n",
       " '__ior__',\n",
       " '__iter__',\n",
       " '__le__',\n",
       " '__len__',\n",
       " '__lt__',\n",
       " '__ne__',\n",
       " '__new__',\n",
       " '__or__',\n",
       " '__reduce__',\n",
       " '__reduce_ex__',\n",
       " '__repr__',\n",
       " '__reversed__',\n",
       " '__ror__',\n",
       " '__setattr__',\n",
       " '__setitem__',\n",
       " '__sizeof__',\n",
       " '__str__',\n",
       " '__subclasshook__',\n",
       " 'clear',\n",
       " 'copy',\n",
       " 'fromkeys',\n",
       " 'get',\n",
       " 'items',\n",
       " 'keys',\n",
       " 'pop',\n",
       " 'popitem',\n",
       " 'setdefault',\n",
       " 'update',\n",
       " 'values']"
      ]
     },
     "execution_count": 30,
     "metadata": {},
     "output_type": "execute_result"
    }
   ],
   "source": [
    "dir(dict())"
   ]
  },
  {
   "cell_type": "code",
   "execution_count": 31,
   "id": "8a9e19e7-663b-4bb0-b867-871c402782fa",
   "metadata": {},
   "outputs": [
    {
     "name": "stdout",
     "output_type": "stream",
     "text": [
      "Help on dict object:\n",
      "\n",
      "class dict(object)\n",
      " |  dict() -> new empty dictionary\n",
      " |  dict(mapping) -> new dictionary initialized from a mapping object's\n",
      " |      (key, value) pairs\n",
      " |  dict(iterable) -> new dictionary initialized as if via:\n",
      " |      d = {}\n",
      " |      for k, v in iterable:\n",
      " |          d[k] = v\n",
      " |  dict(**kwargs) -> new dictionary initialized with the name=value pairs\n",
      " |      in the keyword argument list.  For example:  dict(one=1, two=2)\n",
      " |  \n",
      " |  Built-in subclasses:\n",
      " |      StgDict\n",
      " |  \n",
      " |  Methods defined here:\n",
      " |  \n",
      " |  __contains__(self, key, /)\n",
      " |      True if the dictionary has the specified key, else False.\n",
      " |  \n",
      " |  __delitem__(self, key, /)\n",
      " |      Delete self[key].\n",
      " |  \n",
      " |  __eq__(self, value, /)\n",
      " |      Return self==value.\n",
      " |  \n",
      " |  __ge__(self, value, /)\n",
      " |      Return self>=value.\n",
      " |  \n",
      " |  __getattribute__(self, name, /)\n",
      " |      Return getattr(self, name).\n",
      " |  \n",
      " |  __getitem__(...)\n",
      " |      x.__getitem__(y) <==> x[y]\n",
      " |  \n",
      " |  __gt__(self, value, /)\n",
      " |      Return self>value.\n",
      " |  \n",
      " |  __init__(self, /, *args, **kwargs)\n",
      " |      Initialize self.  See help(type(self)) for accurate signature.\n",
      " |  \n",
      " |  __ior__(self, value, /)\n",
      " |      Return self|=value.\n",
      " |  \n",
      " |  __iter__(self, /)\n",
      " |      Implement iter(self).\n",
      " |  \n",
      " |  __le__(self, value, /)\n",
      " |      Return self<=value.\n",
      " |  \n",
      " |  __len__(self, /)\n",
      " |      Return len(self).\n",
      " |  \n",
      " |  __lt__(self, value, /)\n",
      " |      Return self<value.\n",
      " |  \n",
      " |  __ne__(self, value, /)\n",
      " |      Return self!=value.\n",
      " |  \n",
      " |  __or__(self, value, /)\n",
      " |      Return self|value.\n",
      " |  \n",
      " |  __repr__(self, /)\n",
      " |      Return repr(self).\n",
      " |  \n",
      " |  __reversed__(self, /)\n",
      " |      Return a reverse iterator over the dict keys.\n",
      " |  \n",
      " |  __ror__(self, value, /)\n",
      " |      Return value|self.\n",
      " |  \n",
      " |  __setitem__(self, key, value, /)\n",
      " |      Set self[key] to value.\n",
      " |  \n",
      " |  __sizeof__(...)\n",
      " |      D.__sizeof__() -> size of D in memory, in bytes\n",
      " |  \n",
      " |  clear(...)\n",
      " |      D.clear() -> None.  Remove all items from D.\n",
      " |  \n",
      " |  copy(...)\n",
      " |      D.copy() -> a shallow copy of D\n",
      " |  \n",
      " |  get(self, key, default=None, /)\n",
      " |      Return the value for key if key is in the dictionary, else default.\n",
      " |  \n",
      " |  items(...)\n",
      " |      D.items() -> a set-like object providing a view on D's items\n",
      " |  \n",
      " |  keys(...)\n",
      " |      D.keys() -> a set-like object providing a view on D's keys\n",
      " |  \n",
      " |  pop(...)\n",
      " |      D.pop(k[,d]) -> v, remove specified key and return the corresponding value.\n",
      " |      \n",
      " |      If the key is not found, return the default if given; otherwise,\n",
      " |      raise a KeyError.\n",
      " |  \n",
      " |  popitem(self, /)\n",
      " |      Remove and return a (key, value) pair as a 2-tuple.\n",
      " |      \n",
      " |      Pairs are returned in LIFO (last-in, first-out) order.\n",
      " |      Raises KeyError if the dict is empty.\n",
      " |  \n",
      " |  setdefault(self, key, default=None, /)\n",
      " |      Insert key with a value of default if key is not in the dictionary.\n",
      " |      \n",
      " |      Return the value for key if key is in the dictionary, else default.\n",
      " |  \n",
      " |  update(...)\n",
      " |      D.update([E, ]**F) -> None.  Update D from dict/iterable E and F.\n",
      " |      If E is present and has a .keys() method, then does:  for k in E: D[k] = E[k]\n",
      " |      If E is present and lacks a .keys() method, then does:  for k, v in E: D[k] = v\n",
      " |      In either case, this is followed by: for k in F:  D[k] = F[k]\n",
      " |  \n",
      " |  values(...)\n",
      " |      D.values() -> an object providing a view on D's values\n",
      " |  \n",
      " |  ----------------------------------------------------------------------\n",
      " |  Class methods defined here:\n",
      " |  \n",
      " |  __class_getitem__(...) from builtins.type\n",
      " |      See PEP 585\n",
      " |  \n",
      " |  fromkeys(iterable, value=None, /) from builtins.type\n",
      " |      Create a new dictionary with keys from iterable and values set to value.\n",
      " |  \n",
      " |  ----------------------------------------------------------------------\n",
      " |  Static methods defined here:\n",
      " |  \n",
      " |  __new__(*args, **kwargs) from builtins.type\n",
      " |      Create and return a new object.  See help(type) for accurate signature.\n",
      " |  \n",
      " |  ----------------------------------------------------------------------\n",
      " |  Data and other attributes defined here:\n",
      " |  \n",
      " |  __hash__ = None\n",
      "\n"
     ]
    }
   ],
   "source": [
    "help(dict())"
   ]
  },
  {
   "cell_type": "code",
   "execution_count": 36,
   "id": "904b1b0e-face-4579-b6c1-ee32b88d8a84",
   "metadata": {
    "scrolled": true
   },
   "outputs": [
    {
     "name": "stdout",
     "output_type": "stream",
     "text": [
      "name Shareek\n",
      "age 43\n",
      "courses ['Java', 'Python', 'C++', 'JavaScript']\n",
      "departments {'CS': 'Computer Scince', 'EE': 'Electrical Engineering'}\n"
     ]
    }
   ],
   "source": [
    "for key, value in student.items():\n",
    "    print(key, value)"
   ]
  },
  {
   "cell_type": "markdown",
   "id": "4a4065ad-b9d5-4e07-aabf-8362fbc11446",
   "metadata": {},
   "source": [
    "## Project\n",
    "**You are given a dictionary student_scores containing the names of students as keys and their corresponding scores as values. Using this dictionary, you need to create a new dictionary student_grades that assigns a grade to each student based on their score according to the following grading criteria:**\n",
    "\n",
    "- `Outstanding`: Score 91 and above\n",
    "- `Exceeds Expectations`: Score between 81 and 90 (inclusive)\n",
    "- `Acceptable`: Score between 71 and 80 (inclusive)\n",
    "- `Fail`: Score 70 and below\n",
    "\n",
    "Write a Python program that:\n",
    "\n",
    "Initializes the student_grades dictionary as an empty dictionary.\n",
    "Iterates through each student in the student_scores dictionary.\n",
    "Assigns a grade to each student based on their score using the grading criteria mentioned above.\n",
    "Stores each student's grade in the student_grades dictionary.\n",
    "Finally, prints each student's name along with their corresponding grade from the student_grades dictionary."
   ]
  },
  {
   "cell_type": "code",
   "execution_count": 37,
   "id": "59a7d565-cbf7-4d07-bdaf-c84e150f6f28",
   "metadata": {},
   "outputs": [],
   "source": [
    "student_scores = {\n",
    "    'Harry': 88,\n",
    "    'Ron': 78,\n",
    "    'Hermione': 95,\n",
    "    'Draco': 75,\n",
    "    'Neville': 60\n",
    "}"
   ]
  },
  {
   "cell_type": "code",
   "execution_count": 63,
   "id": "f5c26602-ceec-4138-9481-327a94b09963",
   "metadata": {},
   "outputs": [
    {
     "name": "stdout",
     "output_type": "stream",
     "text": [
      "Harry Exceeds Excpectations\n",
      "Ron Acceptable\n",
      "Hermione Outstanding\n",
      "Draco Acceptable\n",
      "Neville Fail\n"
     ]
    }
   ],
   "source": [
    "student_grades = {}\n",
    "\n",
    "for key, value in student_scores.items():\n",
    "    if value >= 91 and value <= 100:\n",
    "        student_grades[key] = \"Outstanding\"\n",
    "    elif value >= 81 and value <= 90:\n",
    "        student_grades[key] = \"Exceeds Excpectations\"\n",
    "    elif value >= 71 and value <= 80:\n",
    "        student_grades[key] = \"Acceptable\"\n",
    "    elif value <= 70:\n",
    "        student_grades[key] = \"Fail\"\n",
    "\n",
    "for key ,value in student_grades.items():\n",
    "    print(key,value)"
   ]
  },
  {
   "cell_type": "markdown",
   "id": "ee6a6913-f783-4d90-b965-51e51695c6ac",
   "metadata": {},
   "source": [
    "### Another way"
   ]
  },
  {
   "cell_type": "code",
   "execution_count": 61,
   "id": "492d5f20-afc2-4a3a-b2e9-69b28c0f3324",
   "metadata": {},
   "outputs": [
    {
     "name": "stdout",
     "output_type": "stream",
     "text": [
      "Harry Exceeds Expectations\n",
      "Ron Acceptable\n",
      "Hermione Outstanding\n",
      "Draco Acceptable\n",
      "Neville Fail\n"
     ]
    }
   ],
   "source": [
    "student_scores = {\n",
    "    'Harry': 88,\n",
    "    'Ron': 78,\n",
    "    'Hermione': 95,\n",
    "    'Draco': 75,\n",
    "    'Neville': 60\n",
    "}\n",
    " \n",
    "# Create an empty dictionary to collect the new values.\n",
    "student_grades = {}\n",
    " \n",
    "# Loop through each key in the student_scores dictionary\n",
    "for student in student_scores:\n",
    " \n",
    "    #Get the value (student score) by using the key each time.\n",
    "    score = student_scores[student]\n",
    " \n",
    "    #Check what grade the score would get, then add it to student_grades\n",
    "    if score >= 91:\n",
    "        student_grades[student] = 'Outstanding'\n",
    "    elif score >= 81:\n",
    "        student_grades[student] = 'Exceeds Expectations'\n",
    "    elif score >= 71:\n",
    "        student_grades[student] = 'Acceptable'\n",
    "    else:\n",
    "        student_grades[student] = 'Fail'\n",
    "        \n",
    "for key, value in student_grades.items():\n",
    "    print(key, value)"
   ]
  },
  {
   "cell_type": "code",
   "execution_count": 64,
   "id": "5491a97d-7782-4a0a-b77d-3a6d0587fff2",
   "metadata": {},
   "outputs": [],
   "source": [
    "travel_log = {\n",
    "    \"Germany\": {\n",
    "        \"City_visited\": [\"Berlin\", \"Hamburg\", \"Stuttgart\", \"Frankfurt\"],\n",
    "        \"Total_vists\" : 12\n",
    "    },\n",
    "    \"France\":{\n",
    "        \"City_visited\": [\"Paris\", \"Lille\", \"Dijon\", \"Strassburg\"],\n",
    "        \"Total_vists\": 5\n",
    "    }\n",
    "}"
   ]
  },
  {
   "cell_type": "code",
   "execution_count": 65,
   "id": "63c83962-db04-4d19-8f05-121eb83aa61a",
   "metadata": {},
   "outputs": [
    {
     "name": "stdout",
     "output_type": "stream",
     "text": [
      "{'Germany': {'City_visited': ['Berlin', 'Hamburg', 'Stuttgart', 'Frankfurt'], 'Total_vists': 12}, 'France': {'City_visited': ['Paris', 'Lille', 'Dijon', 'Strassburg'], 'Total_vists': 5}}\n"
     ]
    }
   ],
   "source": [
    "print(travel_log)"
   ]
  },
  {
   "cell_type": "code",
   "execution_count": 66,
   "id": "eba1f3c5-c3bc-4789-94ac-797dc312f06d",
   "metadata": {},
   "outputs": [
    {
     "name": "stdout",
     "output_type": "stream",
     "text": [
      "{'City_visited': ['Berlin', 'Hamburg', 'Stuttgart', 'Frankfurt'], 'Total_vists': 12}\n"
     ]
    }
   ],
   "source": [
    "print(travel_log[\"Germany\"])"
   ]
  },
  {
   "cell_type": "code",
   "execution_count": 67,
   "id": "b8924ef7-353f-4695-9309-431a0276ec93",
   "metadata": {},
   "outputs": [
    {
     "name": "stdout",
     "output_type": "stream",
     "text": [
      "['Berlin', 'Hamburg', 'Stuttgart', 'Frankfurt']\n"
     ]
    }
   ],
   "source": [
    "print(travel_log[\"Germany\"][\"City_visited\"])"
   ]
  },
  {
   "cell_type": "code",
   "execution_count": 68,
   "id": "00a03102-e45d-4c24-a15b-2725fc452d9e",
   "metadata": {},
   "outputs": [
    {
     "name": "stdout",
     "output_type": "stream",
     "text": [
      "Stuttgart\n"
     ]
    }
   ],
   "source": [
    "print(travel_log[\"Germany\"][\"City_visited\"][2])"
   ]
  },
  {
   "cell_type": "code",
   "execution_count": 69,
   "id": "f3deba95-2e73-476e-984b-a9fcb14bd34e",
   "metadata": {},
   "outputs": [
    {
     "name": "stdout",
     "output_type": "stream",
     "text": [
      "12\n"
     ]
    }
   ],
   "source": [
    "print(travel_log[\"Germany\"][\"Total_vists\"])"
   ]
  },
  {
   "cell_type": "markdown",
   "id": "07ddc284-469a-4ab7-9402-e0b8bce6b534",
   "metadata": {},
   "source": [
    "### The Secret Auction Program."
   ]
  },
  {
   "cell_type": "code",
   "execution_count": 43,
   "id": "db3603a5-6f60-4326-ab84-06ea142c5064",
   "metadata": {},
   "outputs": [
    {
     "name": "stdin",
     "output_type": "stream",
     "text": [
      "What's your Name?\n",
      " Salih\n",
      "What's your bid?\n",
      " 50\n",
      "Are there are other Bidders? 'Yes' or 'No' No\n"
     ]
    },
    {
     "name": "stdout",
     "output_type": "stream",
     "text": [
      "highest bid is: 50 $\n",
      "The Winner is Salih\n"
     ]
    }
   ],
   "source": [
    "from auction import logo\n",
    "from IPython.display import clear_output\n",
    "\n",
    "\n",
    "print(logo)\n",
    "print(\"Welcome to the secret aauction program: \")\n",
    "\n",
    "bid_dict = {}\n",
    "\n",
    "while True:\n",
    "    name = input(\"What's your Name?\\n\")\n",
    "    bid = int(input(\"What's your bid?\\n\"))\n",
    "    bid_dict[name] = bid\n",
    "    \n",
    "    if input(\"Are there are other Bidders? 'Yes' or 'No'\").lower() == 'yes':\n",
    "        clear_output(wait=False)\n",
    "        #print(\"\\n\" *100)\n",
    "    else:\n",
    "        bid_list = []\n",
    "        for k,v in bid_dict.items():\n",
    "            bid_list.append(v)\n",
    "        #print(f\"the Winner is: {} with {} $\")\n",
    "        bid_list.sort()\n",
    "        highest_bid = bid_list[-1]\n",
    "        \n",
    "        for x, y in bid_dict.items():\n",
    "            if y == highest_bid:\n",
    "                print(f\"highest bid is: {y} $\")\n",
    "                print(f\"The Winner is {x}\")\n",
    "        break\n",
    "    \n",
    "\n",
    "#for x, y in bid_dict.items():\n",
    "    #print(x, \":\", y)"
   ]
  },
  {
   "cell_type": "code",
   "execution_count": 3,
   "id": "e242a902-9ea9-4690-8324-6c659d8183e4",
   "metadata": {},
   "outputs": [
    {
     "name": "stdout",
     "output_type": "stream",
     "text": [
      "Heelo\n"
     ]
    }
   ],
   "source": [
    "print(\"Heelo\")"
   ]
  },
  {
   "cell_type": "code",
   "execution_count": null,
   "id": "f57d1f51-cc49-4cbb-8846-bab6a673c43c",
   "metadata": {},
   "outputs": [],
   "source": []
  },
  {
   "cell_type": "code",
   "execution_count": null,
   "id": "472d7582-ecfc-4192-87ce-e3445bda3eea",
   "metadata": {},
   "outputs": [],
   "source": []
  }
 ],
 "metadata": {
  "kernelspec": {
   "display_name": "Python 3 (ipykernel)",
   "language": "python",
   "name": "python3"
  },
  "language_info": {
   "codemirror_mode": {
    "name": "ipython",
    "version": 3
   },
   "file_extension": ".py",
   "mimetype": "text/x-python",
   "name": "python",
   "nbconvert_exporter": "python",
   "pygments_lexer": "ipython3",
   "version": "3.12.4"
  },
  "widgets": {
   "application/vnd.jupyter.widget-state+json": {
    "state": {},
    "version_major": 2,
    "version_minor": 0
   }
  }
 },
 "nbformat": 4,
 "nbformat_minor": 5
}
